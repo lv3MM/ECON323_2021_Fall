{
 "cells": [
  {
   "cell_type": "markdown",
   "id": "d097c3b3",
   "metadata": {},
   "source": [
    "# Problem Set 3\n",
    "\n",
    "See “Check Your Understanding” from [Control Flow](https://datascience.quantecon.org/../python_fundamentals/control_flow.html), [Functions](https://datascience.quantecon.org/../python_fundamentals/functions.html), and [Introduction to Numpy](https://datascience.quantecon.org/../scientific/numpy_arrays.html)"
   ]
  },
  {
   "cell_type": "markdown",
   "id": "9f424d87",
   "metadata": {},
   "source": [
    "## Question 1\n",
    "For the tuple `foo` below, use a combination of `zip`, `range`, and `len` to mimic `enumerate(foo)`.\n",
    "\n",
    "Verify that your proposed solution is correct by converting each to a list and checking equality with `==`\n",
    "\n",
    "HINT: You can see what the answer should look like by starting with `list(enumerate(foo))`."
   ]
  },
  {
   "cell_type": "code",
   "execution_count": 4,
   "id": "4fb40791",
   "metadata": {},
   "outputs": [
    {
     "data": {
      "text/plain": [
       "True"
      ]
     },
     "execution_count": 4,
     "metadata": {},
     "output_type": "execute_result"
    }
   ],
   "source": [
    "foo = (\"good\", \"luck!\")\n",
    "# Your code goes here\n",
    "list(zip(range(len(foo)),foo)) == list(enumerate(foo))"
   ]
  },
  {
   "cell_type": "markdown",
   "id": "ad897ca8",
   "metadata": {
    "tags": []
   },
   "source": [
    "## Question 2\n",
    "\n",
    "Write a for loop that uses the lists of cities and states to print a message saying `“{city} is in {state}”`, where `{city}` and `{state}` are replaced by different values on each iteration.  You are *not* allowed to use `zip`."
   ]
  },
  {
   "cell_type": "code",
   "execution_count": 10,
   "id": "a71bf1ed",
   "metadata": {
    "hide-output": false
   },
   "outputs": [
    {
     "name": "stdout",
     "output_type": "stream",
     "text": [
      "Phoenix is in Arizona\n",
      "Austin is in Texas\n",
      "San Diego is in California\n",
      "New York is in New York\n"
     ]
    }
   ],
   "source": [
    "cities = [\"Phoenix\", \"Austin\", \"San Diego\", \"New York\"]\n",
    "states = [\"Arizona\", \"Texas\", \"California\", \"New York\"]\n",
    "\n",
    "index = 0\n",
    "for index in range(len(cities)):\n",
    "    mycity = cities[index]\n",
    "    mystate = states[index]\n",
    "    print(f\"{mycity} is in {mystate}\")\n",
    "    index = index+1\n",
    "\n",
    "#or by enumerate, it's the same thing\n",
    "#for index, city in enumerate(cities):\n",
    "#   state = states[index]\n",
    "#   print(f\"{city} is in {state}\")"
   ]
  },
  {
   "cell_type": "markdown",
   "id": "e0e78079",
   "metadata": {},
   "source": [
    "Now, do the same thing with a `for` loop using `zip`."
   ]
  },
  {
   "cell_type": "code",
   "execution_count": 11,
   "id": "e91962cf",
   "metadata": {
    "hide-output": false
   },
   "outputs": [
    {
     "name": "stdout",
     "output_type": "stream",
     "text": [
      "Phoenix is in Arizona\n",
      "Austin is in Texas\n",
      "San Diego is in California\n",
      "New York is in New York\n"
     ]
    }
   ],
   "source": [
    "cities = [\"Phoenix\", \"Austin\", \"San Diego\", \"New York\"]\n",
    "states = [\"Arizona\", \"Texas\", \"California\", \"New York\"]\n",
    "\n",
    "\n",
    "for city, state in zip(cities,states):\n",
    "    print(f\"{city} is in {state}\")"
   ]
  },
  {
   "cell_type": "markdown",
   "id": "8e867e8e",
   "metadata": {},
   "source": [
    "Write a function that takes in a tuple as `(city, state)` and returns a string  `“{city} is in {state}”` with the values substituted."
   ]
  },
  {
   "cell_type": "code",
   "execution_count": 20,
   "id": "7b894d0d",
   "metadata": {
    "hide-output": false
   },
   "outputs": [
    {
     "name": "stdout",
     "output_type": "stream",
     "text": [
      "Phoenix is in Arizona\n",
      "Austin is in Texas\n",
      "San Diego is in California\n",
      "New York is in New York\n"
     ]
    }
   ],
   "source": [
    "cities = [\"Phoenix\", \"Austin\", \"San Diego\", \"New York\"]\n",
    "states = [\"Arizona\", \"Texas\", \"California\", \"New York\"]\n",
    "\n",
    "def city_state(tuple):\n",
    "    city, state = tuple\n",
    "    return  print(f\"{city} is in {state}\")\n",
    "\n",
    "for combo in zip(cities,states):\n",
    "    city_state(combo)"
   ]
  },
  {
   "cell_type": "markdown",
   "id": "dbad7a1a",
   "metadata": {},
   "source": [
    "## Question 3\n",
    "\n",
    "This exercise explores the concept of higher order functions, or functions\n",
    "that can be an input or output of another function.\n",
    "\n",
    "Below is code that implements a version of the generalized Cobb-Douglas production function which takes the form $ F(K, L) = z K^{\\alpha_1} L^{\\alpha_2} $.\n",
    "\n",
    "It takes as an argument `alpha_1`, `alpha_2`, and `z` and then\n",
    "*returns a function* that implements that parameterization of the\n",
    "Cobb-Douglas production function."
   ]
  },
  {
   "cell_type": "code",
   "execution_count": 46,
   "id": "963e83d4",
   "metadata": {
    "hide-output": false
   },
   "outputs": [],
   "source": [
    "def cobb_douglas_factory(alpha_1, alpha_2, z=1.0):\n",
    "    \"\"\"\n",
    "    Return a function F(K, L) that implements the generalized Cobb-Douglas\n",
    "    production function with parameters alpha_1, alpha_2, and z\n",
    "\n",
    "    The returned function takes the form F(K, L) = z K^{\\alpha_1} L^{\\alpha_2}\n",
    "    \"\"\"\n",
    "    # I'm defining a function inside a function\n",
    "    def return_func(K, L):\n",
    "        return z * K**alpha_1 * L**alpha_2\n",
    "\n",
    "    # Notice I'm returning a function! :mind_blown:\n",
    "    return return_func"
   ]
  },
  {
   "cell_type": "markdown",
   "id": "9a8b5fc9",
   "metadata": {},
   "source": [
    "We can use this function in two steps:\n",
    "\n",
    "1. Call it with `alpha_1`, `alpha_2`, and `z` and get a function in return.  \n",
    "1. Call the returned function with values of `K` and `L`.  \n",
    "\n",
    "\n",
    "Here’s how we would repeat the first Cobb-Douglas example from above:"
   ]
  },
  {
   "cell_type": "code",
   "execution_count": 47,
   "id": "984e50fa",
   "metadata": {
    "hide-output": false
   },
   "outputs": [
    {
     "data": {
      "text/plain": [
       "0.6285066872609142"
      ]
     },
     "execution_count": 47,
     "metadata": {},
     "output_type": "execute_result"
    }
   ],
   "source": [
    "# step 1\n",
    "F2 = cobb_douglas_factory(0.33, 1-0.33)\n",
    "\n",
    "# step 2\n",
    "F2(1.0, 0.5)"
   ]
  },
  {
   "cell_type": "markdown",
   "id": "dd985d6e",
   "metadata": {},
   "source": [
    "Now, it is your turn…\n",
    "\n",
    "Re-write the `returns_to_scale` function above as we had in [Functions](https://datascience.quantecon.org/../python_fundamentals/functions.html) to accept an additional argument\n",
    "`F` that represents a production function. The function should take in `K` and `L`\n",
    "and return output.\n",
    "\n",
    "We’ve written some code below to get you started."
   ]
  },
  {
   "cell_type": "code",
   "execution_count": 48,
   "id": "4b897e24",
   "metadata": {
    "hide-output": false
   },
   "outputs": [],
   "source": [
    "def returns_to_scale2(F, K, L, gamma):\n",
    "    # call F with K and L\n",
    "\n",
    "    # scale K and L by gamma and repeat\n",
    "\n",
    "    # compute returns to scale\n",
    "    y1 = F(K, L)\n",
    "    y2 = F(gamma*K, gamma*L)\n",
    "    y_ratio = y2 / y1\n",
    "    return y_ratio / gamma\n"
   ]
  },
  {
   "cell_type": "markdown",
   "id": "153b6981",
   "metadata": {},
   "source": [
    "Test out your new function using the original `F2` that we defined above and\n",
    "using the `cobb_douglas` function defined earlier in the lecture. You can use\n",
    "similar sets of values to what we used in class for `K` and `L`.\n",
    "\n",
    "Do you get the same answer?"
   ]
  },
  {
   "cell_type": "code",
   "execution_count": 49,
   "id": "04f180fb",
   "metadata": {
    "hide-output": false
   },
   "outputs": [
    {
     "data": {
      "text/plain": [
       "True"
      ]
     },
     "execution_count": 49,
     "metadata": {},
     "output_type": "execute_result"
    }
   ],
   "source": [
    "def cobb_douglas(K, L):\n",
    "\n",
    "    # Create alpha and z\n",
    "    z = 1\n",
    "    alpha = 0.33\n",
    "\n",
    "    return z * K**alpha * L**(1 - alpha)\n",
    "\n",
    "returns_to_scale2(cobb_douglas, 1.0, 0.5, 2) == returns_to_scale2(F2, 1.0, 0.5, 2) == 1.0"
   ]
  },
  {
   "cell_type": "markdown",
   "id": "cd010414",
   "metadata": {},
   "source": [
    "## Question 4\n",
    "\n",
    "Let’s use our `cobb_douglas_factory` and `returns_to_scale2` functions\n",
    "to study returns to scale.\n",
    "\n",
    "What are the returns to scale when you set `alpha_1 = 0.3` and `alpha_2 = 0.6`?"
   ]
  },
  {
   "cell_type": "code",
   "execution_count": 50,
   "id": "d41e1d8b",
   "metadata": {
    "hide-output": false
   },
   "outputs": [
    {
     "data": {
      "text/plain": [
       "0.9330329915368075"
      ]
     },
     "execution_count": 50,
     "metadata": {},
     "output_type": "execute_result"
    }
   ],
   "source": [
    "# test with alpha_1 = 0.3 and alpha_2 = 0.6\n",
    "F3 = cobb_douglas_factory(0.3, 0.6)\n",
    "returns_to_scale2(F3, 1.0, 0.5, 2)"
   ]
  },
  {
   "cell_type": "markdown",
   "id": "5964f0ea",
   "metadata": {},
   "source": [
    "What about when you use `alpha_1 = 0.4` and `alpha_2 = 0.65`?"
   ]
  },
  {
   "cell_type": "code",
   "execution_count": 51,
   "id": "e10f8658",
   "metadata": {
    "hide-output": false
   },
   "outputs": [
    {
     "data": {
      "text/plain": [
       "1.0352649238413774"
      ]
     },
     "execution_count": 51,
     "metadata": {},
     "output_type": "execute_result"
    }
   ],
   "source": [
    "# test with alpha_1 = 0.4 and alpha_2 = 0.65\n",
    "F4 = cobb_douglas_factory(0.4, 0.65)\n",
    "returns_to_scale2(F4, 1.0, 0.5, 2)"
   ]
  },
  {
   "cell_type": "markdown",
   "id": "6a83ddd3",
   "metadata": {},
   "source": [
    "What do returns to scale have to do with the quantity $ \\alpha_1 + \\alpha_2 $? When will returns to scale be greater or less than 1?"
   ]
  },
  {
   "cell_type": "code",
   "execution_count": 57,
   "id": "316b289b",
   "metadata": {
    "hide-output": false
   },
   "outputs": [
    {
     "name": "stdout",
     "output_type": "stream",
     "text": [
      " when a1+a2=1, returns to scale equal to 1, such as F2 returns to 1.0\n",
      " when a1+a2<1, returns to scale smaller than 1, such as F3 returns to 0.9330329915368075\n",
      " when a1+a2>1, returns to scale greater than 1, such as F4 returns to 1.0352649238413774\n"
     ]
    }
   ],
   "source": [
    "# your code here\n",
    "print(f\" when a1+a2=1, returns to scale equal to 1, such as F2 returns to {returns_to_scale2(F2, 1.0, 0.5, 2)}\")\n",
    "print(f\" when a1+a2<1, returns to scale smaller than 1, such as F3 returns to {returns_to_scale2(F3, 1.0, 0.5, 2)}\")\n",
    "print(f\" when a1+a2>1, returns to scale greater than 1, such as F4 returns to {returns_to_scale2(F4, 1.0, 0.5, 2)}\")"
   ]
  },
  {
   "cell_type": "markdown",
   "id": "778808d5",
   "metadata": {},
   "source": [
    "## Question 5\n",
    "\n",
    "Take a production function of only labor, `L`, with the following form\n",
    "\n",
    "$$\n",
    "f(L) = \\begin{cases} L^2 & \\text{ for } L \\in [0, 1)\\\\\n",
    "                    \\sqrt{L} & \\text{ for } L \\in [1, 2]\n",
    "        \\end{cases}\n",
    "$$\n",
    "\n",
    "Write a function to calculate the marginal product of labor (MPL) numerically by using a method similar to what we did in class."
   ]
  },
  {
   "cell_type": "code",
   "execution_count": 170,
   "id": "a478204c",
   "metadata": {
    "hide-output": false
   },
   "outputs": [],
   "source": [
    "def labor(L):\n",
    "    if 0 <= L < 1:\n",
    "        return L**2\n",
    "    elif 1<= L <= 2.0:\n",
    "        return L**(0.5)\n",
    "\n",
    "def marginal_products(L, epsilon = 1e-4):\n",
    "    \n",
    "    mpl = (labor(L + epsilon) - labor(L)) / epsilon\n",
    "\n",
    "    return mpl\n"
   ]
  },
  {
   "cell_type": "markdown",
   "id": "ece06a31",
   "metadata": {},
   "source": [
    "Plot the MPL for $ L \\in [0,2] $  (you can choose some sort of grid over those numbers with `np.linspace`)."
   ]
  },
  {
   "cell_type": "code",
   "execution_count": 171,
   "id": "055a0ade",
   "metadata": {
    "hide-output": false
   },
   "outputs": [
    {
     "data": {
      "text/plain": [
       "[<matplotlib.lines.Line2D at 0x7fd2877a9790>]"
      ]
     },
     "execution_count": 171,
     "metadata": {},
     "output_type": "execute_result"
    },
    {
     "data": {
      "image/png": "[encoded data removed]",
      "text/plain": [
       "<Figure size 432x288 with 1 Axes>"
      ]
     },
     "metadata": {
      "needs_background": "light"
     },
     "output_type": "display_data"
    }
   ],
   "source": [
    "import numpy as np\n",
    "import matplotlib.pyplot as plt \n",
    "\n",
    "x = np.linspace(0, 1.999, 100)\n",
    "#v_x = np.vectorize(marginal_products)\n",
    "#y = v_x(x)\n",
    "\n",
    "y = []\n",
    "for val in x:\n",
    "    yval = marginal_products(val)\n",
    "    y.append(yval)\n",
    "    \n",
    "plt.plot(x,y)\n"
   ]
  },
  {
   "cell_type": "markdown",
   "id": "22f3e670",
   "metadata": {},
   "source": [
    "Consider the scenario where you increase the scale of production by a factor of 10 percent more labor. Plot the returns to scale for a grid on $ L \\in [0, 1.5] $.\n",
    "*Hint:* For this, you may need to write your own version of the `returns_to_scale` function specific to this production function or carefully use the one above. Either way of implementation is fine."
   ]
  },
  {
   "cell_type": "code",
   "execution_count": 172,
   "id": "0bffdaa5",
   "metadata": {
    "hide-output": false
   },
   "outputs": [
    {
     "data": {
      "text/plain": [
       "[<matplotlib.lines.Line2D at 0x7fd2874b60a0>]"
      ]
     },
     "execution_count": 172,
     "metadata": {},
     "output_type": "execute_result"
    },
    {
     "data": {
      "image/png": "[encoded data removed]",
      "text/plain": [
       "<Figure size 432x288 with 1 Axes>"
      ]
     },
     "metadata": {
      "needs_background": "light"
     },
     "output_type": "display_data"
    }
   ],
   "source": [
    "def returns_to_scale_labor(F, L, gamma = 1.1):\n",
    "    y1 = F(L)\n",
    "    y2 = F(gamma*L)\n",
    "    y_ratio = y2 / y1\n",
    "    return y_ratio / gamma\n",
    "\n",
    "x1 = np.linspace(0, 1.5, 100)\n",
    "\n",
    "y1 = []\n",
    "for val in x1:\n",
    "    yval = returns_to_scale_labor(marginal_products,val)\n",
    "    y1.append(yval)\n",
    "\n",
    "plt.plot(x1,y1)"
   ]
  },
  {
   "cell_type": "markdown",
   "id": "480e83c8",
   "metadata": {},
   "source": [
    "Compare these returns to the scale of the Cobb-Douglas functions we have worked with."
   ]
  },
  {
   "cell_type": "markdown",
   "id": "d0ea7bad",
   "metadata": {},
   "source": [
    "## Question 6\n",
    "\n",
    "Take the following definition for `X`. How would you do to extract the array `[[5, 6], [7, 8]]`?"
   ]
  },
  {
   "cell_type": "code",
   "execution_count": 173,
   "id": "ceedf160",
   "metadata": {
    "hide-output": false
   },
   "outputs": [
    {
     "data": {
      "text/plain": [
       "array([[5, 6],\n",
       "       [7, 8]])"
      ]
     },
     "execution_count": 173,
     "metadata": {},
     "output_type": "execute_result"
    }
   ],
   "source": [
    "import numpy as np\n",
    "X = np.array([[[1, 2, 3], [3, 4, 5]], [[5, 6, 7], [7, 8, 9]]])\n",
    "\n",
    "X[1,:,0:2]\n",
    "# your code here"
   ]
  }
 ],
 "metadata": {
  "date": 1627429658.1807241,
  "filename": "problem_set_3.md",
  "kernelspec": {
   "display_name": "Python 3 (ipykernel)",
   "language": "python",
   "name": "python3"
  },
  "language_info": {
   "codemirror_mode": {
    "name": "ipython",
    "version": 3
   },
   "file_extension": ".py",
   "mimetype": "text/x-python",
   "name": "python",
   "nbconvert_exporter": "python",
   "pygments_lexer": "ipython3",
   "version": "3.9.6"
  },
  "title": "Problem Set 3"
 },
 "nbformat": 4,
 "nbformat_minor": 5
}
