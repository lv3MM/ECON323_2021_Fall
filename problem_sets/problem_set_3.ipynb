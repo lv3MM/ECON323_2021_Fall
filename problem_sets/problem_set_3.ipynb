{
 "cells": [
  {
   "cell_type": "markdown",
   "source": [
    "# Problem Set 3\n",
    "\n",
    "See “Check Your Understanding” from [Control Flow](https://datascience.quantecon.org/../python_fundamentals/control_flow.html), [Functions](https://datascience.quantecon.org/../python_fundamentals/functions.html), and [Introduction to Numpy](https://datascience.quantecon.org/../scientific/numpy_arrays.html)"
   ],
   "metadata": {}
  },
  {
   "cell_type": "markdown",
   "source": [
    "## Question 1\n",
    "For the tuple `foo` below, use a combination of `zip`, `range`, and `len` to mimic `enumerate(foo)`.\n",
    "\n",
    "Verify that your proposed solution is correct by converting each to a list and checking equality with `==`\n",
    "\n",
    "HINT: You can see what the answer should look like by starting with `list(enumerate(foo))`."
   ],
   "metadata": {}
  },
  {
   "cell_type": "code",
   "execution_count": 2,
   "source": [
    "foo = (\"good\", \"luck!\")\r\n",
    "# Your code goes here"
   ],
   "outputs": [],
   "metadata": {}
  },
  {
   "cell_type": "markdown",
   "source": [
    "## Question 2\n",
    "\n",
    "Write a for loop that uses the lists of cities and states to print a message saying `“{city} is in {state}”`, where `{city}` and `{state}` are replaced by different values on each iteration.  You are *not* allowed to use `zip`."
   ],
   "metadata": {
    "tags": []
   }
  },
  {
   "cell_type": "code",
   "execution_count": null,
   "source": [
    "cities = [\"Phoenix\", \"Austin\", \"San Diego\", \"New York\"]\r\n",
    "states = [\"Arizona\", \"Texas\", \"California\", \"New York\"]\r\n",
    "\r\n",
    "# Your code here"
   ],
   "outputs": [],
   "metadata": {
    "hide-output": false
   }
  },
  {
   "cell_type": "markdown",
   "source": [
    "Now, do the same thing with a `for` loop using `zip`."
   ],
   "metadata": {}
  },
  {
   "cell_type": "code",
   "execution_count": null,
   "source": [
    "cities = [\"Phoenix\", \"Austin\", \"San Diego\", \"New York\"]\r\n",
    "states = [\"Arizona\", \"Texas\", \"California\", \"New York\"]\r\n",
    "\r\n",
    "# Your code here"
   ],
   "outputs": [],
   "metadata": {
    "hide-output": false
   }
  },
  {
   "cell_type": "markdown",
   "source": [
    "Write a function that takes in a tuple as `(city, state)` and returns a string  `“{city} is in {state}”` with the values substituted."
   ],
   "metadata": {}
  },
  {
   "cell_type": "code",
   "execution_count": null,
   "source": [
    "# Your function here"
   ],
   "outputs": [],
   "metadata": {
    "hide-output": false
   }
  },
  {
   "cell_type": "markdown",
   "source": [
    "## Question 3\n",
    "\n",
    "This exercise explores the concept of higher order functions, or functions\n",
    "that can be an input or output of another function.\n",
    "\n",
    "Below is code that implements a version of the generalized Cobb-Douglas production function which takes the form $ F(K, L) = z K^{\\alpha_1} L^{\\alpha_2} $.\n",
    "\n",
    "It takes as an argument `alpha_1`, `alpha_2`, and `z` and then\n",
    "*returns a function* that implements that parameterization of the\n",
    "Cobb-Douglas production function."
   ],
   "metadata": {}
  },
  {
   "cell_type": "code",
   "execution_count": null,
   "source": [
    "def cobb_douglas_factory(alpha_1, alpha_2, z=1.0):\r\n",
    "    \"\"\"\r\n",
    "    Return a function F(K, L) that implements the generalized Cobb-Douglas\r\n",
    "    production function with parameters alpha_1, alpha_2, and z\r\n",
    "\r\n",
    "    The returned function takes the form F(K, L) = z K^{\\alpha_1} L^{\\alpha_2}\r\n",
    "    \"\"\"\r\n",
    "    # I'm defining a function inside a function\r\n",
    "    def return_func(K, L):\r\n",
    "        return z * K**alpha_1 * L**alpha_2\r\n",
    "\r\n",
    "    # Notice I'm returning a function! :mind_blown:\r\n",
    "    return return_func"
   ],
   "outputs": [],
   "metadata": {
    "hide-output": false
   }
  },
  {
   "cell_type": "markdown",
   "source": [
    "We can use this function in two steps:\n",
    "\n",
    "1. Call it with `alpha_1`, `alpha_2`, and `z` and get a function in return.  \n",
    "1. Call the returned function with values of `K` and `L`.  \n",
    "\n",
    "\n",
    "Here’s how we would repeat the first Cobb-Douglas example from above:"
   ],
   "metadata": {}
  },
  {
   "cell_type": "code",
   "execution_count": null,
   "source": [
    "# step 1\r\n",
    "F2 = cobb_douglas_factory(0.33, 1-0.33)\r\n",
    "\r\n",
    "# step 2\r\n",
    "F2(1.0, 0.5)"
   ],
   "outputs": [],
   "metadata": {
    "hide-output": false
   }
  },
  {
   "cell_type": "markdown",
   "source": [
    "Now, it is your turn…\n",
    "\n",
    "Re-write the `returns_to_scale` function above as we had in [Functions](https://datascience.quantecon.org/../python_fundamentals/functions.html) to accept an additional argument\n",
    "`F` that represents a production function. The function should take in `K` and `L`\n",
    "and return output.\n",
    "\n",
    "We’ve written some code below to get you started."
   ],
   "metadata": {}
  },
  {
   "cell_type": "code",
   "execution_count": null,
   "source": [
    "def returns_to_scale2(F, K, L, gamma):\r\n",
    "    # call F with K and L\r\n",
    "\r\n",
    "    # scale K and L by gamma and repeat\r\n",
    "\r\n",
    "    # compute returns to scale\r\n",
    "\r\n",
    "    # Delete ``pass`` below after you have code\r\n",
    "    pass"
   ],
   "outputs": [],
   "metadata": {
    "hide-output": false
   }
  },
  {
   "cell_type": "markdown",
   "source": [
    "Test out your new function using the original `F2` that we defined above and\n",
    "using the `cobb_douglas` function defined earlier in the lecture. You can use\n",
    "similar sets of values to what we used in class for `K` and `L`.\n",
    "\n",
    "Do you get the same answer?"
   ],
   "metadata": {}
  },
  {
   "cell_type": "code",
   "execution_count": null,
   "source": [
    "# your code here"
   ],
   "outputs": [],
   "metadata": {
    "hide-output": false
   }
  },
  {
   "cell_type": "markdown",
   "source": [
    "## Question 4\n",
    "\n",
    "Let’s use our `cobb_douglas_factory` and `returns_to_scale2` functions\n",
    "to study returns to scale.\n",
    "\n",
    "What are the returns to scale when you set `alpha_1 = 0.3` and `alpha_2 = 0.6`?"
   ],
   "metadata": {}
  },
  {
   "cell_type": "code",
   "execution_count": null,
   "source": [
    "# test with alpha_1 = 0.3 and alpha_2 = 0.6"
   ],
   "outputs": [],
   "metadata": {
    "hide-output": false
   }
  },
  {
   "cell_type": "markdown",
   "source": [
    "What about when you use `alpha_1 = 0.4` and `alpha_2 = 0.65`?"
   ],
   "metadata": {}
  },
  {
   "cell_type": "code",
   "execution_count": null,
   "source": [
    "# test with alpha_1 = 0.4 and alpha_2 = 0.65"
   ],
   "outputs": [],
   "metadata": {
    "hide-output": false
   }
  },
  {
   "cell_type": "markdown",
   "source": [
    "What do returns to scale have to do with the quantity $ \\alpha_1 + \\alpha_2 $? When will returns to scale be greater or less than 1?"
   ],
   "metadata": {}
  },
  {
   "cell_type": "code",
   "execution_count": null,
   "source": [
    "# your code here"
   ],
   "outputs": [],
   "metadata": {
    "hide-output": false
   }
  },
  {
   "cell_type": "markdown",
   "source": [
    "## Question 5\n",
    "\n",
    "Take a production function of only labor, `L`, with the following form\n",
    "\n",
    "$$\n",
    "f(L) = \\begin{cases} L^2 & \\text{ for } L \\in [0, 1)\\\\\n",
    "                    \\sqrt{L} & \\text{ for } L \\in [1, 2]\n",
    "        \\end{cases}\n",
    "$$\n",
    "\n",
    "Write a function to calculate the marginal product of labor (MPL) numerically by using a method similar to what we did in class."
   ],
   "metadata": {}
  },
  {
   "cell_type": "code",
   "execution_count": null,
   "source": [
    "# your code here"
   ],
   "outputs": [],
   "metadata": {
    "hide-output": false
   }
  },
  {
   "cell_type": "markdown",
   "source": [
    "Plot the MPL for $ L \\in [0,2] $  (you can choose some sort of grid over those numbers with `np.linspace`)."
   ],
   "metadata": {}
  },
  {
   "cell_type": "code",
   "execution_count": null,
   "source": [
    "# your code here"
   ],
   "outputs": [],
   "metadata": {
    "hide-output": false
   }
  },
  {
   "cell_type": "markdown",
   "source": [
    "Consider the scenario where you increase the scale of production by a factor of 10 percent more labor. Plot the returns to scale for a grid on $ L \\in [0, 1.5] $.\n",
    "*Hint:* For this, you may need to write your own version of the `returns_to_scale` function specific to this production function or carefully use the one above. Either way of implementation is fine."
   ],
   "metadata": {}
  },
  {
   "cell_type": "code",
   "execution_count": null,
   "source": [
    "# your code here"
   ],
   "outputs": [],
   "metadata": {
    "hide-output": false
   }
  },
  {
   "cell_type": "markdown",
   "source": [
    "Compare these returns to the scale of the Cobb-Douglas functions we have worked with."
   ],
   "metadata": {}
  },
  {
   "cell_type": "markdown",
   "source": [
    "## Question 6\r\n",
    "\r\n",
    "Take the following definition for `X`. How would you do to extract the array `[[5, 6], [7, 8]]`?"
   ],
   "metadata": {}
  },
  {
   "cell_type": "code",
   "execution_count": null,
   "source": [
    "import numpy as np\r\n",
    "X = np.array([[[1, 2, 3], [3, 4, 5]], [[5, 6, 7], [7, 8, 9]]])\r\n",
    "\r\n",
    "# your code here"
   ],
   "outputs": [],
   "metadata": {
    "hide-output": false
   }
  },
  {
   "cell_type": "code",
   "execution_count": null,
   "source": [
    "i = 0.03\r\n",
    "M = 100\r\n",
    "C = 5\r\n",
    "\r\n",
    "# Define array here\r\n",
    "\r\n",
    "# price bonds here"
   ],
   "outputs": [],
   "metadata": {
    "hide-output": false
   }
  }
 ],
 "metadata": {
  "date": 1627429658.1807241,
  "filename": "problem_set_3.md",
  "kernelspec": {
   "display_name": "Python 3",
   "language": "python",
   "name": "python3"
  },
  "language_info": {
   "codemirror_mode": {
    "name": "ipython",
    "version": 3
   },
   "file_extension": ".py",
   "mimetype": "text/x-python",
   "name": "python",
   "nbconvert_exporter": "python",
   "pygments_lexer": "ipython3",
   "version": "3.7.11"
  },
  "title": "Problem Set 3"
 },
 "nbformat": 4,
 "nbformat_minor": 5
}