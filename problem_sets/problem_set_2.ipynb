{
 "cells": [
  {
   "cell_type": "markdown",
   "id": "9f3900ea-3cd4-4dcf-8459-ca93f0554a94",
   "metadata": {},
   "source": [
    "# Problem Set 2\n",
    "\n",
    "See “Check Your Understanding” from [Collections](https://datascience.quantecon.org/../python_fundamentals/collections.html) and [Control Flow](https://datascience.quantecon.org/../python_fundamentals/control_flow.html)\n",
    "\n",
    "Note:  unless stated otherwise, the timing of streams of payoffs is immediately at\n",
    "time `0` where appropriate.  For example, dividends $ \\{d_1, d_2, \\ldots d_{\\infty}\\} $\n",
    "should be valued as $d_1 + \\beta d_2 + \\beta^2 d_3 \\ldots = \\sum_{j=0}^{\\infty} \\beta^j d_j$.\n",
    "\n",
    "This timing is consistent with the lectures and most economics, but is different from the timing assumptions\n",
    "of some finance models."
   ]
  },
  {
   "cell_type": "markdown",
   "id": "49ce4c15",
   "metadata": {},
   "source": [
    "## Question 1-4\n",
    "\n",
    "Consider a bond that pays a \\$500 dividend once a quarter.\n",
    "\n",
    "It pays in the months of February, May, August, and November.\n",
    "\n",
    "It promises to do so for 10 years after you purchase it, from January 2021 to December 2030.\n",
    "\n",
    "You discount the future at rate $r = 0.005$ **per month**."
   ]
  },
  {
   "cell_type": "markdown",
   "id": "09ef9d33",
   "metadata": {},
   "source": [
    "### Question 1\n",
    "\n",
    "How much do you value the asset in January 2021?"
   ]
  },
  {
   "cell_type": "code",
   "execution_count": null,
   "id": "5e221da8",
   "metadata": {
    "hide-output": false
   },
   "outputs": [],
   "source": []
  },
  {
   "cell_type": "markdown",
   "id": "febfec15",
   "metadata": {},
   "source": [
    "### Question 2\n",
    "\n",
    "Consider a different asset that pays a lump sum at its expiration date rather than a quarterly dividend of \\$500 dollars, how much would this asset need to pay in December 2030 for the two assets to be equally valued?"
   ]
  },
  {
   "cell_type": "code",
   "execution_count": null,
   "id": "baa17356",
   "metadata": {
    "hide-output": false
   },
   "outputs": [],
   "source": []
  },
  {
   "cell_type": "markdown",
   "id": "2576317b",
   "metadata": {},
   "source": [
    "### Question 3\n",
    "\n",
    "How much should you be willing to pay if your friend bought the quarterly asset (from the main text) in January\n",
    "2021 but wanted to sell it to you in October 2021?"
   ]
  },
  {
   "cell_type": "code",
   "execution_count": null,
   "id": "b43dd97c",
   "metadata": {
    "hide-output": false
   },
   "outputs": [],
   "source": [
    "# Your code goes here"
   ]
  },
  {
   "cell_type": "markdown",
   "id": "7ec13521",
   "metadata": {},
   "source": [
    "### Question 4\n",
    "\n",
    "If you already knew that your discount rate would change annually according to the\n",
    "table below, at what price would you value the quarterly asset (from the main text) in January 2021?\n",
    "\n",
    "*Hint*: There are various ways to do this… One way might include a zipped loop for years and a\n",
    "second loop for months.\n",
    "\n",
    "*More Challenging*: Can you create the list of interest rates without calculating each year individually?\n",
    "\n",
    "|Year|Discount Rate|\n",
    "|:------------------------------------------------:|:------------------------------------------------:|\n",
    "|2021|0.005|\n",
    "|2022|0.0048|\n",
    "|2023|0.0046|\n",
    "|2024|0.0044|\n",
    "|2025|0.0042|\n",
    "|2026|0.004|\n",
    "|2027|0.0038|\n",
    "|2028|0.0036|\n",
    "|2029|0.0034|\n",
    "|2030|0.0032|\n",
    "Hint: create appropriate collections typing from the data directly in the code.  You cannot parse the\n",
    "text table directly."
   ]
  },
  {
   "cell_type": "code",
   "execution_count": null,
   "id": "7fa84502",
   "metadata": {
    "hide-output": false
   },
   "outputs": [],
   "source": [
    "# Your code goes here"
   ]
  },
  {
   "cell_type": "markdown",
   "id": "fc481fa2",
   "metadata": {},
   "source": [
    "## Questions 5-6\n",
    "\n",
    "Companies often invest in training their employees to raise their\n",
    "productivity. Economists sometimes wonder why companies\n",
    "spend money on training employees when this incentivizes other companies to poach\n",
    "their employees with higher salaries since the employees gain human capital from training.\n",
    "\n",
    "Imagine it costs a company 25,000 dollars to teach their employees Python, but\n",
    "it also raises their output by 2,500 dollars per month. The company discounts the future\n",
    "at rate of $ r = 0.01 $ per month."
   ]
  },
  {
   "cell_type": "markdown",
   "id": "f5901620",
   "metadata": {},
   "source": [
    "### Question 5\n",
    "\n",
    "For how many full months does an employee need to stay at a company for that company to make a profit for\n",
    "paying for their employees’ Python training?"
   ]
  },
  {
   "cell_type": "code",
   "execution_count": 10,
   "id": "cd65296d",
   "metadata": {
    "hide-output": false
   },
   "outputs": [
    {
     "name": "stdout",
     "output_type": "stream",
     "text": [
      "11\n"
     ]
    }
   ],
   "source": [
    "m = 0\n",
    "p = 1\n",
    "while p <= 25000:\n",
    "    p = p+ 2500/(1.01**m)\n",
    "    m = m + 1\n",
    "print(m)"
   ]
  },
  {
   "cell_type": "markdown",
   "id": "fcfca81f",
   "metadata": {},
   "source": [
    "### Question 6\n",
    "\n",
    "Imagine that 70% of the employees stay for 12 months and 30% of the employees stay\n",
    "for 24 months. Is it worth it for the company to invest in employee Python training?"
   ]
  },
  {
   "cell_type": "code",
   "execution_count": 14,
   "id": "2661333c",
   "metadata": {
    "hide-output": false
   },
   "outputs": [
    {
     "name": "stdout",
     "output_type": "stream",
     "text": [
      "True\n",
      "it is worth it for the company to invest\n"
     ]
    }
   ],
   "source": [
    "m = 0\n",
    "p = 0\n",
    "npv12 = -25000\n",
    "npv24 = -25000\n",
    "\n",
    "for t in range(1,12):\n",
    "    npv12 = npv12 + 2500/(1.01**m)\n",
    "    npv12\n",
    "    \n",
    "for t in range(1,24):\n",
    "    npv24 = npv12 + 2500/(1.01**m)\n",
    "    npv24\n",
    "    \n",
    "print (0.7*npv12+0.3*npv24 >0)\n",
    "print(\"it is worth it for the company to invest\")\n",
    "\n",
    "    "
   ]
  },
  {
   "cell_type": "markdown",
   "id": "39b63319",
   "metadata": {},
   "source": [
    "## Question 7 and 8\n",
    "\n",
    "Take the following stock market data, including a stock ticker, price, and company name:\n",
    "\n",
    "|Ticker|Price|Name|\n",
    "|:-------------------------------:|:-------------------------------:|:-------------------------------:|\n",
    "|AAPL|175.96|Apple Inc.|\n",
    "|GOOGL|0.00475|Alphabet Inc.|\n",
    "|TVIX|0.0045|Credit Suisse AG|\n",
    "Hint: create appropriate collections typing from the data directly in the code.  You cannot parse the table directly."
   ]
  },
  {
   "cell_type": "markdown",
   "id": "c8330eee",
   "metadata": {},
   "source": [
    "### Question 7\n",
    "\n",
    "- Create a new dict which associates ticker with its price.  i.e. the dict key should be a string, the dict value should be a number, and you can ignore the name.  \n",
    "- Display a list of the underlying stock tickers using the dictionary.  Hint:\n",
    "  use `.<TAB>` on your dictionary to look for methods to get the list  "
   ]
  },
  {
   "cell_type": "code",
   "execution_count": 1,
   "id": "06df0491",
   "metadata": {
    "hide-output": false
   },
   "outputs": [
    {
     "data": {
      "text/plain": [
       "['AAPL', 'GOOGLE', 'TVIX']"
      ]
     },
     "execution_count": 1,
     "metadata": {},
     "output_type": "execute_result"
    }
   ],
   "source": [
    "ticker_price = {\"AAPL\":141.74,\n",
    "        \"GOOGLE\":2737.98,\n",
    "        \"TVIX\":27.45\n",
    "       }\n",
    "list(ticker_price.keys())"
   ]
  },
  {
   "cell_type": "markdown",
   "id": "f33dfab0",
   "metadata": {
    "tags": []
   },
   "source": [
    "### Question 8\n",
    "\n",
    "Using the same data,\n",
    "\n",
    "- Create a new dict, whose values are dictionaries that have a price and name key. These keys should associate the stock tickers with both its stock price and the company name.  \n",
    "- Display a list of the underlying stock names (i.e. not the ticker symbol) using the dictionary. Hint: use a comprehension.  "
   ]
  },
  {
   "cell_type": "code",
   "execution_count": 8,
   "id": "f4f738de",
   "metadata": {
    "hide-output": false
   },
   "outputs": [
    {
     "name": "stdout",
     "output_type": "stream",
     "text": [
      "['Apple Inc', 'Alphabet Inc', 'Credit Suisse AG']\n"
     ]
    }
   ],
   "source": [
    "# Your code goes here\n",
    "name_price = {\"AAPL\":{\"name\":\"Apple Inc\", \"price\":141.74 },\n",
    "      \"GOOL\":{\"name\":\"Alphabet Inc\",\"price\":2737.98},\n",
    "      \"TVIX\": {\"name\":\"Credit Suisse AG\",\"price\":27.45}}\n",
    "\n",
    "outputlist = []\n",
    "for ticker, ticker_name in name_price.items():\n",
    "    outputlist.append(ticker_name[\"name\"])\n",
    "print(outputlist)"
   ]
  },
  {
   "cell_type": "code",
   "execution_count": null,
   "id": "68cd94b7-2d0e-4ead-9444-7ac94de5e9b0",
   "metadata": {},
   "outputs": [],
   "source": []
  }
 ],
 "metadata": {
  "date": 1627429658.1397057,
  "filename": "problem_set_2.md",
  "kernelspec": {
   "display_name": "Python 3 (ipykernel)",
   "language": "python",
   "name": "python3"
  },
  "language_info": {
   "codemirror_mode": {
    "name": "ipython",
    "version": 3
   },
   "file_extension": ".py",
   "mimetype": "text/x-python",
   "name": "python",
   "nbconvert_exporter": "python",
   "pygments_lexer": "ipython3",
   "version": "3.9.6"
  },
  "title": "Problem Set 2"
 },
 "nbformat": 4,
 "nbformat_minor": 5
}
