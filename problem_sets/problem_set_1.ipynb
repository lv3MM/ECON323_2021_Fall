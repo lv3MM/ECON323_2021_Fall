{
 "cells": [
  {
   "cell_type": "code",
   "execution_count": null,
   "id": "b1b5af05",
   "metadata": {
    "deletable": false,
    "editable": false
   },
   "outputs": [],
   "source": [
    "# Initialize Otter\n",
    "import otter\n",
    "grader = otter.Notebook(\"problem_set_1.ipynb\")"
   ]
  },
  {
   "cell_type": "markdown",
   "id": "52d58e97",
   "metadata": {},
   "source": [
    "# Problem Set 1\n",
    "\n",
    "See \"Check Your Understanding\" from {doc}`Basics <../python_fundamentals/basics>` and {doc}`Collections <../python_fundamentals/collections>`"
   ]
  },
  {
   "cell_type": "markdown",
   "id": "28c340aa",
   "metadata": {},
   "source": [
    "<!-- BEGIN QUESTION -->\n",
    "\n",
    "## Question 1\n",
    "\n",
    "Below this cell, add\n",
    "\n",
    "1. A Markdown cell with\n",
    "   -  two levels of headings;\n",
    "   -  a numbered list (We ask for a list in Markdown, not a Python list object);\n",
    "   -  an unnumbered list (again not a Python list object);\n",
    "   -  text with a `%` and a `-` sign (hint: look at this cell and [escape characters](https://www.markdownguide.org/basic-syntax/#characters-you-can-escape))\n",
    "   -  backticked code (see [https://github.com/adam-p/markdown-here/wiki/Markdown-Cheatsheet](https://github.com/adam-p/markdown-here/wiki/Markdown-Cheatsheet))\n",
    "1. A Markdown cell with\n",
    "   - the [quadratic formula](https://en.wikipedia.org/wiki/Quadratic_formula) embedded in the cell using [LaTeX](https://jupyter-notebook.readthedocs.io/en/stable/examples/Notebook/Typesetting%20Equations.html)"
   ]
  },
  {
   "cell_type": "markdown",
   "id": "96e18465",
   "metadata": {},
   "source": [
    "<!-- END QUESTION -->\n",
    "\n",
    "## Question 2\n",
    "\n",
    "Complete the following code, which sets up variables `a, b,` and `c`, to find the roots using the quadratic formula.\n",
    "\n",
    "$$\n",
    "x=\\frac{-b\\pm\\sqrt{b^2-4ac}}{2a}\n",
    "$$\n",
    "\n",
    "Note: because there are two roots, you will need to calculate two\n",
    "values. Store them as `x1` and `x2`."
   ]
  },
  {
   "cell_type": "code",
   "execution_count": 1,
   "id": "469d6906",
   "metadata": {
    "execution": {
     "iopub.execute_input": "2021-09-08T19:30:50.318834Z",
     "iopub.status.busy": "2021-09-08T19:30:50.315346Z",
     "iopub.status.idle": "2021-09-08T19:30:50.324162Z",
     "shell.execute_reply": "2021-09-08T19:30:50.323079Z"
    }
   },
   "outputs": [],
   "source": [
    "a = 1.0\n",
    "b = 2.0\n",
    "c = 1.0\n",
    "# Your code goes here"
   ]
  },
  {
   "cell_type": "code",
   "execution_count": 2,
   "id": "be4d0f7d",
   "metadata": {
    "execution": {
     "iopub.execute_input": "2021-09-08T19:30:50.332808Z",
     "iopub.status.busy": "2021-09-08T19:30:50.331677Z",
     "iopub.status.idle": "2021-09-08T19:30:50.334666Z",
     "shell.execute_reply": "2021-09-08T19:30:50.335517Z"
    },
    "tags": []
   },
   "outputs": [],
   "source": [
    "..."
   ]
  },
  {
   "cell_type": "markdown",
   "id": "0df8e932",
   "metadata": {},
   "source": [
    "## Question 3\n",
    "\n",
    "In the cell below, use tab completion to find a function from the time\n",
    "module that returns the **local** time.\n",
    "\n",
    "Use `time.FUNC_NAME?` (where `FUNC_NAME` is replaced with the name\n",
    "of the function you found) to see information about that function,\n",
    "then call the function. (Hint: look for something involving the word\n",
    "`local`)."
   ]
  },
  {
   "cell_type": "code",
   "execution_count": 5,
   "id": "9d7e39ca",
   "metadata": {
    "execution": {
     "iopub.execute_input": "2021-09-08T19:30:50.380890Z",
     "iopub.status.busy": "2021-09-08T19:30:50.379726Z",
     "iopub.status.idle": "2021-09-08T19:30:50.382960Z",
     "shell.execute_reply": "2021-09-08T19:30:50.383855Z"
    },
    "tags": []
   },
   "outputs": [],
   "source": [
    "import time\n",
    "# Your code goes here\n",
    "\n",
    "# after time., hit <TAB> to see functions\n",
    "currenttime = ( time.\n",
    "    ..."
   ]
  },
  {
   "cell_type": "markdown",
   "id": "b6e85a89",
   "metadata": {},
   "source": [
    "Hint: if you are using an online jupyter server, the time will be based on\n",
    "the server settings.  If it doesn't match your location, don't worry about it."
   ]
  },
  {
   "cell_type": "markdown",
   "id": "eecc639d",
   "metadata": {},
   "source": [
    "## Question 4\n",
    "\n",
    "Create the following variables:\n",
    "\n",
    "- `D`: A floating point number with the value 10,000\n",
    "- `r`: A floating point number with the value 0.025\n",
    "- `T`: An integer with the value 30\n",
    "\n",
    "Compute the present discounted value of a payment (`D`) made\n",
    "in `T` years, assuming an interest rate of 2.5%. Save this value to\n",
    "a new variable called `PDV` and print your output.\n",
    "\n",
    "Hint: The formula is\n",
    "\n",
    "$$\n",
    "\\text{PDV} = \\frac{D}{(1 + r)^T}\n",
    "$$"
   ]
  },
  {
   "cell_type": "code",
   "execution_count": 7,
   "id": "8ea81ab3",
   "metadata": {
    "execution": {
     "iopub.execute_input": "2021-09-08T19:30:50.404568Z",
     "iopub.status.busy": "2021-09-08T19:30:50.403411Z",
     "iopub.status.idle": "2021-09-08T19:30:50.406460Z",
     "shell.execute_reply": "2021-09-08T19:30:50.407366Z"
    },
    "tags": []
   },
   "outputs": [],
   "source": [
    "# Your code goes here\n",
    "..."
   ]
  },
  {
   "cell_type": "markdown",
   "id": "ca61bdca",
   "metadata": {},
   "source": [
    "## Question 5\n",
    "\n",
    "How could you use the variables `x` and `y` to create the sentence\n",
    "`Hello World` ?\n",
    "\n",
    "Hint: Think about how to represent a space as a string."
   ]
  },
  {
   "cell_type": "code",
   "execution_count": 11,
   "id": "7fe3eb25",
   "metadata": {
    "execution": {
     "iopub.execute_input": "2021-09-08T19:30:50.453053Z",
     "iopub.status.busy": "2021-09-08T19:30:50.451927Z",
     "iopub.status.idle": "2021-09-08T19:30:50.456474Z",
     "shell.execute_reply": "2021-09-08T19:30:50.455554Z"
    },
    "tags": []
   },
   "outputs": [],
   "source": [
    "x = \"Hello\"\n",
    "y = \"World\"\n",
    "sentence = (\n",
    "    ..."
   ]
  },
  {
   "cell_type": "markdown",
   "id": "b27d7f1c",
   "metadata": {},
   "source": [
    "## Question 6\n",
    "\n",
    "Suppose you are working with price data and come across the value\n",
    "`\"€6.50\"`.\n",
    "\n",
    "When Python tries to interpret this value, it sees the value as the string\n",
    "`\"€6.50\"` instead of the number `6.50`. (Quiz: why is this a\n",
    "problem? Think about the examples above.)\n",
    "\n",
    "In this exercise, your task is to convert the variable `price` below\n",
    "into a number.\n",
    "\n",
    "*Hint*: Once the string is in a suitable format, you can call\n",
    "`float(clean_price)` to make it a number."
   ]
  },
  {
   "cell_type": "code",
   "execution_count": 13,
   "id": "68a71251",
   "metadata": {
    "execution": {
     "iopub.execute_input": "2021-09-08T19:30:50.476264Z",
     "iopub.status.busy": "2021-09-08T19:30:50.475108Z",
     "iopub.status.idle": "2021-09-08T19:30:50.479736Z",
     "shell.execute_reply": "2021-09-08T19:30:50.478697Z"
    },
    "tags": []
   },
   "outputs": [],
   "source": [
    "price_string = \"€6.50\"\n",
    "price_number = (\n",
    "   # Your code goes here\n",
    "   ...\n",
    "   )"
   ]
  },
  {
   "cell_type": "markdown",
   "id": "644568a7",
   "metadata": {},
   "source": [
    "<!-- BEGIN QUESTION -->\n",
    "\n",
    "## Question 7\n",
    "\n",
    "Use Python formatting (e.g. `print(f\"text {somecode}\")` where `somecode` is a valid expression or variable name) to produce the following\n",
    "output.\n",
    "\n",
    "```{code-block} none\n",
    "The 1st quarter revenue was $110M\n",
    "The 2nd quarter revenue was $95M\n",
    "The 3rd quarter revenue was $100M\n",
    "The 4th quarter revenue was $130M\n",
    "```"
   ]
  },
  {
   "cell_type": "code",
   "execution_count": 15,
   "id": "293f8fcf",
   "metadata": {
    "execution": {
     "iopub.execute_input": "2021-09-08T19:30:50.499405Z",
     "iopub.status.busy": "2021-09-08T19:30:50.498279Z",
     "iopub.status.idle": "2021-09-08T19:30:50.501396Z",
     "shell.execute_reply": "2021-09-08T19:30:50.502276Z"
    }
   },
   "outputs": [],
   "source": [
    "# Your code goes here"
   ]
  },
  {
   "cell_type": "markdown",
   "id": "dbcc6f8e",
   "metadata": {},
   "source": [
    "<!-- END QUESTION -->\n",
    "\n",
    "## Question 8\n",
    "\n",
    "Define two lists y and z.\n",
    "\n",
    "They can contain **anything you want**.\n",
    "\n",
    "Check what happens when you do y + z.\n",
    "When you have finished that, try 2 * x and x * 2 where x represents the object you created from y + z.\n",
    "\n",
    "Briefly explain."
   ]
  },
  {
   "cell_type": "code",
   "execution_count": 16,
   "id": "dfcc1176",
   "metadata": {
    "execution": {
     "iopub.execute_input": "2021-09-08T19:30:50.511991Z",
     "iopub.status.busy": "2021-09-08T19:30:50.510860Z",
     "iopub.status.idle": "2021-09-08T19:30:50.521797Z",
     "shell.execute_reply": "2021-09-08T19:30:50.520720Z"
    },
    "tags": []
   },
   "outputs": [],
   "source": [
    "y = [] # fill me in!\n",
    "z = [] # fill me in!\n",
    "# Your code goes here\n",
    "..."
   ]
  }
 ],
 "metadata": {
  "kernelspec": {
   "display_name": "Python 3",
   "language": "python",
   "name": "python3"
  },
  "language_info": {
   "codemirror_mode": {
    "name": "ipython",
    "version": 3
   },
   "file_extension": ".py",
   "mimetype": "text/x-python",
   "name": "python",
   "nbconvert_exporter": "python",
   "pygments_lexer": "ipython3",
   "version": "3.9.6"
  },
  "orphan": true,
  "otter": {
   "tests": {
    "q2": {
     "name": "q2",
     "points": 2,
     "suites": [
      {
       "cases": [],
       "scored": true,
       "setup": "",
       "teardown": "",
       "type": "doctest"
      }
     ]
    },
    "q3": {
     "name": "q3",
     "points": 1,
     "suites": [
      {
       "cases": [],
       "scored": true,
       "setup": "",
       "teardown": "",
       "type": "doctest"
      }
     ]
    },
    "q4": {
     "name": "q4",
     "points": 2,
     "suites": [
      {
       "cases": [],
       "scored": true,
       "setup": "",
       "teardown": "",
       "type": "doctest"
      }
     ]
    },
    "q5": {
     "name": "q5",
     "points": 1,
     "suites": [
      {
       "cases": [],
       "scored": true,
       "setup": "",
       "teardown": "",
       "type": "doctest"
      }
     ]
    },
    "q6": {
     "name": "q6",
     "points": 1,
     "suites": [
      {
       "cases": [],
       "scored": true,
       "setup": "",
       "teardown": "",
       "type": "doctest"
      }
     ]
    },
    "q8": {
     "name": "q8",
     "points": 1,
     "suites": [
      {
       "cases": [],
       "scored": true,
       "setup": "",
       "teardown": "",
       "type": "doctest"
      }
     ]
    }
   }
  }
 },
 "nbformat": 4,
 "nbformat_minor": 5
}
