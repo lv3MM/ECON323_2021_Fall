{
 "cells": [
  {
   "cell_type": "code",
   "execution_count": 1,
   "id": "b1b5af05",
   "metadata": {
    "deletable": false,
    "editable": false
   },
   "outputs": [],
   "source": [
    "# Initialize Otter\n",
    "import otter\n",
    "grader = otter.Notebook(\"problem_set_1.ipynb\")"
   ]
  },
  {
   "cell_type": "markdown",
   "id": "52d58e97",
   "metadata": {},
   "source": [
    "# Problem Set 1\n",
    "\n",
    "See \"Check Your Understanding\" from {doc}`Basics <../python_fundamentals/basics>` and {doc}`Collections <../python_fundamentals/collections>`"
   ]
  },
  {
   "cell_type": "markdown",
   "id": "28c340aa",
   "metadata": {},
   "source": [
    "<!-- BEGIN QUESTION -->\n",
    "\n",
    "## Question 1\n",
    "\n",
    "Below this cell, add\n",
    "\n",
    "1. A Markdown cell with\n",
    "   -  two levels of headings;\n",
    "   -  a numbered list (We ask for a list in Markdown, not a Python list object);\n",
    "   -  an unnumbered list (again not a Python list object);\n",
    "   -  text with a `%` and a `-` sign (hint: look at this cell and [escape characters](https://www.markdownguide.org/basic-syntax/#characters-you-can-escape))\n",
    "   -  backticked code (see [https://github.com/adam-p/markdown-here/wiki/Markdown-Cheatsheet](https://github.com/adam-p/markdown-here/wiki/Markdown-Cheatsheet))\n",
    "1. A Markdown cell with\n",
    "   - the [quadratic formula](https://en.wikipedia.org/wiki/Quadratic_formula) embedded in the cell using [LaTeX](https://jupyter-notebook.readthedocs.io/en/stable/examples/Notebook/Typesetting%20Equations.html)"
   ]
  },
  {
   "cell_type": "markdown",
   "id": "2dfe4b1c-f0a2-40c4-8402-f34e28d3c5ee",
   "metadata": {},
   "source": [
    "# Heading level 1\n",
    "## Heading level 2\n",
    "\n",
    "A number of list\n",
    "1. item one\n",
    "2. item two\n",
    "3. item three\n",
    "4. item four\n",
    "\n",
    "An unnumbered list\n",
    "- item one\n",
    "- item two\n",
    "- item three\n",
    "- item four\n",
    "\n",
    "Text with a \\% and a \\- sign with \\\\\n",
    "\n",
    "This is a `back-tick line`."
   ]
  },
  {
   "cell_type": "markdown",
   "id": "1beffc76-398e-435b-9c1f-6ea8467d14f7",
   "metadata": {},
   "source": [
    "A quadratic formula embedded in the cell using Latex:\n",
    "$$ax^2+bx+c=0$$"
   ]
  },
  {
   "cell_type": "markdown",
   "id": "96e18465",
   "metadata": {},
   "source": [
    "<!-- END QUESTION -->\n",
    "\n",
    "## Question 2\n",
    "\n",
    "Complete the following code, which sets up variables `a, b,` and `c`, to find the roots using the quadratic formula.\n",
    "\n",
    "$$\n",
    "x=\\frac{-b\\pm\\sqrt{b^2-4ac}}{2a}\n",
    "$$\n",
    "\n",
    "Note: because there are two roots, you will need to calculate two\n",
    "values. Store them as `x1` and `x2`."
   ]
  },
  {
   "cell_type": "code",
   "execution_count": 17,
   "id": "33826fd0-d1cd-4c8e-97a8-f1bb3ec0d034",
   "metadata": {
    "tags": []
   },
   "outputs": [],
   "source": [
    "a = 1.0\n",
    "b = 2.0\n",
    "c = 1.0\n",
    "\n",
    "import math \n",
    "x1 = (-b + math.sqrt(b**2-4*a*c))/(2*a)\n",
    "x2 = (-b - math.sqrt(b**2-4*a*c))/(2*a)"
   ]
  },
  {
   "cell_type": "code",
   "execution_count": 18,
   "id": "be4d0f7d",
   "metadata": {
    "tags": []
   },
   "outputs": [
    {
     "name": "stdout",
     "output_type": "stream",
     "text": [
      "-1.0 -1.0\n"
     ]
    }
   ],
   "source": [
    "print(x1,x2)"
   ]
  },
  {
   "cell_type": "markdown",
   "id": "0df8e932",
   "metadata": {},
   "source": [
    "## Question 3\n",
    "\n",
    "In the cell below, use tab completion to find a function from the time\n",
    "module that returns the **local** time.\n",
    "\n",
    "Use `time.FUNC_NAME?` (where `FUNC_NAME` is replaced with the name\n",
    "of the function you found) to see information about that function,\n",
    "then call the function. (Hint: look for something involving the word\n",
    "`local`)."
   ]
  },
  {
   "cell_type": "code",
   "execution_count": 31,
   "id": "9d7e39ca",
   "metadata": {
    "tags": []
   },
   "outputs": [
    {
     "data": {
      "text/plain": [
       "time.struct_time(tm_year=2021, tm_mon=9, tm_mday=15, tm_hour=21, tm_min=57, tm_sec=38, tm_wday=2, tm_yday=258, tm_isdst=0)"
      ]
     },
     "execution_count": 31,
     "metadata": {},
     "output_type": "execute_result"
    }
   ],
   "source": [
    "import time\n",
    "\n",
    "currenttime = (time.localtime())\n",
    "currenttime"
   ]
  },
  {
   "cell_type": "markdown",
   "id": "b6e85a89",
   "metadata": {},
   "source": [
    "Hint: if you are using an online jupyter server, the time will be based on\n",
    "the server settings.  If it doesn't match your location, don't worry about it."
   ]
  },
  {
   "cell_type": "markdown",
   "id": "eecc639d",
   "metadata": {},
   "source": [
    "## Question 4\n",
    "\n",
    "Create the following variables:\n",
    "\n",
    "- `D`: A floating point number with the value 10,000\n",
    "- `r`: A floating point number with the value 0.025\n",
    "- `T`: An integer with the value 30\n",
    "\n",
    "Compute the present discounted value of a payment (`D`) made\n",
    "in `T` years, assuming an interest rate of 2.5%. Save this value to\n",
    "a new variable called `PDV` and print your output.\n",
    "\n",
    "Hint: The formula is\n",
    "\n",
    "$$\n",
    "\\text{PDV} = \\frac{D}{(1 + r)^T}\n",
    "$$"
   ]
  },
  {
   "cell_type": "code",
   "execution_count": 54,
   "id": "8ea81ab3",
   "metadata": {
    "tags": []
   },
   "outputs": [
    {
     "data": {
      "text/plain": [
       "9278.303216553066"
      ]
     },
     "execution_count": 54,
     "metadata": {},
     "output_type": "execute_result"
    }
   ],
   "source": [
    "D = 10000.0\n",
    "r = 0.0025\n",
    "T = 30\n",
    "\n",
    "PDV = D / (1 + r)**T\n",
    "PDV"
   ]
  },
  {
   "cell_type": "markdown",
   "id": "ca61bdca",
   "metadata": {},
   "source": [
    "## Question 5\n",
    "\n",
    "How could you use the variables `x` and `y` to create the sentence\n",
    "`Hello World` ?\n",
    "\n",
    "Hint: Think about how to represent a space as a string."
   ]
  },
  {
   "cell_type": "code",
   "execution_count": 30,
   "id": "7fe3eb25",
   "metadata": {
    "tags": []
   },
   "outputs": [
    {
     "name": "stdout",
     "output_type": "stream",
     "text": [
      "Hello World\n"
     ]
    }
   ],
   "source": [
    "x = \"Hello\"\n",
    "y = \"World\"\n",
    "sentence = (x + \" \" + y)\n",
    "print(sentence)"
   ]
  },
  {
   "cell_type": "markdown",
   "id": "b27d7f1c",
   "metadata": {},
   "source": [
    "## Question 6\n",
    "\n",
    "Suppose you are working with price data and come across the value\n",
    "`\"€6.50\"`.\n",
    "\n",
    "When Python tries to interpret this value, it sees the value as the string\n",
    "`\"€6.50\"` instead of the number `6.50`. (Quiz: why is this a\n",
    "problem? Think about the examples above.)\n",
    "\n",
    "In this exercise, your task is to convert the variable `price` below\n",
    "into a number.\n",
    "\n",
    "*Hint*: Once the string is in a suitable format, you can call\n",
    "`float(clean_price)` to make it a number."
   ]
  },
  {
   "cell_type": "code",
   "execution_count": 45,
   "id": "68a71251",
   "metadata": {
    "tags": []
   },
   "outputs": [
    {
     "name": "stdout",
     "output_type": "stream",
     "text": [
      "6.50\n",
      "6.5\n"
     ]
    }
   ],
   "source": [
    "price_string = \"€6.50\"\n",
    "clean_price = price_string[1:5]\n",
    "print(clean_price)\n",
    "price_number = float(clean_price)\n",
    "print(price_number)"
   ]
  },
  {
   "cell_type": "markdown",
   "id": "644568a7",
   "metadata": {},
   "source": [
    "<!-- BEGIN QUESTION -->\n",
    "\n",
    "## Question 7\n",
    "\n",
    "Use Python formatting (e.g. `print(f\"text {somecode}\")` where `somecode` is a valid expression or variable name) to produce the following\n",
    "output.\n",
    "\n",
    "```{code-block} none\n",
    "The 1st quarter revenue was $110M\n",
    "The 2nd quarter revenue was $95M\n",
    "The 3rd quarter revenue was $100M\n",
    "The 4th quarter revenue was $130M\n",
    "```"
   ]
  },
  {
   "cell_type": "code",
   "execution_count": 47,
   "id": "293f8fcf",
   "metadata": {
    "tags": []
   },
   "outputs": [
    {
     "name": "stdout",
     "output_type": "stream",
     "text": [
      "The 1st quarter revenue was $110M\n",
      "The 2nd quarter revenue was $95M\n",
      "The 3rd quarter revenue was $100M\n",
      "The 4th quarter revenue was $130M\n"
     ]
    }
   ],
   "source": [
    "order1 = \"1st\"\n",
    "order2 = \"2nd\"\n",
    "order3 = \"3rd\"\n",
    "order4 = \"4th\"\n",
    "\n",
    "revenue1 = \"$110M\"\n",
    "revenue2 = \"$95M\"\n",
    "revenue3 = \"$100M\"\n",
    "revenue4 = \"$130M\"\n",
    "\n",
    "print(f\"The {order1} quarter revenue was {revenue1}\")\n",
    "print(f\"The {order2} quarter revenue was {revenue2}\")\n",
    "print(f\"The {order3} quarter revenue was {revenue3}\")\n",
    "print(f\"The {order4} quarter revenue was {revenue4}\")"
   ]
  },
  {
   "cell_type": "markdown",
   "id": "dbcc6f8e",
   "metadata": {},
   "source": [
    "<!-- END QUESTION -->\n",
    "\n",
    "## Question 8\n",
    "\n",
    "Define two lists y and z.\n",
    "\n",
    "They can contain **anything you want**.\n",
    "\n",
    "Check what happens when you do y + z.\n",
    "When you have finished that, try 2 * x and x * 2 where x represents the object you created from y + z.\n",
    "\n",
    "Briefly explain."
   ]
  },
  {
   "cell_type": "code",
   "execution_count": 52,
   "id": "dfcc1176",
   "metadata": {
    "tags": []
   },
   "outputs": [
    {
     "name": "stdout",
     "output_type": "stream",
     "text": [
      "[1, 2, 3, 4, 5, 6]\n",
      "[1, 2, 3, 4, 5, 6, 1, 2, 3, 4, 5, 6]\n",
      "[1, 2, 3, 4, 5, 6, 1, 2, 3, 4, 5, 6]\n"
     ]
    }
   ],
   "source": [
    "y = [1,2,3] \n",
    "z = [4,5,6] \n",
    "\n",
    "x = y+z\n",
    "\n",
    "print(x)\n",
    "print(2*x)\n",
    "print(x*2)\n",
    "# What's happening is that y and z are both lists of integars. When I do y+z,\n",
    "# a longer list of integars x is formed. \n",
    "# 2*x and x*2 both duplicate the elements after the original list and form a new list. "
   ]
  },
  {
   "cell_type": "code",
   "execution_count": null,
   "id": "e76a11fe-1351-4c10-8961-ab6c9919a994",
   "metadata": {},
   "outputs": [],
   "source": []
  }
 ],
 "metadata": {
  "kernelspec": {
   "display_name": "Python 3 (ipykernel)",
   "language": "python",
   "name": "python3"
  },
  "language_info": {
   "codemirror_mode": {
    "name": "ipython",
    "version": 3
   },
   "file_extension": ".py",
   "mimetype": "text/x-python",
   "name": "python",
   "nbconvert_exporter": "python",
   "pygments_lexer": "ipython3",
   "version": "3.9.6"
  },
  "orphan": true,
  "otter": {
   "tests": {
    "q2": {
     "name": "q2",
     "points": 2,
     "suites": [
      {
       "cases": [],
       "scored": true,
       "setup": "",
       "teardown": "",
       "type": "doctest"
      }
     ]
    },
    "q3": {
     "name": "q3",
     "points": 1,
     "suites": [
      {
       "cases": [],
       "scored": true,
       "setup": "",
       "teardown": "",
       "type": "doctest"
      }
     ]
    },
    "q4": {
     "name": "q4",
     "points": 2,
     "suites": [
      {
       "cases": [],
       "scored": true,
       "setup": "",
       "teardown": "",
       "type": "doctest"
      }
     ]
    },
    "q5": {
     "name": "q5",
     "points": 1,
     "suites": [
      {
       "cases": [],
       "scored": true,
       "setup": "",
       "teardown": "",
       "type": "doctest"
      }
     ]
    },
    "q6": {
     "name": "q6",
     "points": 1,
     "suites": [
      {
       "cases": [],
       "scored": true,
       "setup": "",
       "teardown": "",
       "type": "doctest"
      }
     ]
    },
    "q8": {
     "name": "q8",
     "points": 1,
     "suites": [
      {
       "cases": [],
       "scored": true,
       "setup": "",
       "teardown": "",
       "type": "doctest"
      }
     ]
    }
   }
  }
 },
 "nbformat": 4,
 "nbformat_minor": 5
}
