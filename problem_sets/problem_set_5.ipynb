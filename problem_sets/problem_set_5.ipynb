{
 "cells": [
  {
   "cell_type": "markdown",
   "id": "c846f484",
   "metadata": {},
   "source": [
    "# Problem Set 5\n",
    "\n",
    "See [Introduction](https://datascience.quantecon.org/../pandas/intro.html) and [Basic Functionality](https://datascience.quantecon.org/../pandas/basics.html)"
   ]
  },
  {
   "cell_type": "code",
   "execution_count": 1,
   "id": "1b816f82",
   "metadata": {
    "hide-output": false,
    "tags": []
   },
   "outputs": [],
   "source": [
    "import pandas as pd\n",
    "import numpy as np\n",
    "import matplotlib.pyplot as plt\n",
    "\n",
    "%matplotlib inline"
   ]
  },
  {
   "cell_type": "markdown",
   "id": "ec64d73c",
   "metadata": {},
   "source": [
    "## Setup for Question 1-5\n",
    "\n",
    "These questions use data on daily Covid cases in health regions in Canada from the [COVID-19 Canada Open Data Working Group](https://github.com/ccodwg/Covid19Canada).\n",
    "\n",
    "We will be begin by loading this data and putting it into a similar format as the `unemp` data from the [Basic Functionality](https://datascience.quantecon.org/../pandas/basics.html) lecture."
   ]
  },
  {
   "cell_type": "code",
   "execution_count": 2,
   "id": "62963847",
   "metadata": {
    "hide-output": false
   },
   "outputs": [],
   "source": [
    "url = \"https://github.com/ccodwg/Covid19Canada/raw/master/timeseries_hr/cases_timeseries_hr.csv\"\n",
    "try : # only download if cases_raw has not already been defined \n",
    "    cases_raw\n",
    "except:\n",
    "    cases_raw = pd.read_csv(url, parse_dates=[\"date_report\"])\n",
    "\n",
    "try :\n",
    "    hr_map \n",
    "except: \n",
    "    hr_map = pd.read_csv(\"https://github.com/ccodwg/Covid19Canada/raw/master/other/hr_map.csv\")"
   ]
  },
  {
   "cell_type": "markdown",
   "id": "676a013f",
   "metadata": {},
   "source": [
    "Now, we create cases per 100,000 and then do the same manipulation as in the pandas basics lecture. We will focus on BC health regions in this problem set."
   ]
  },
  {
   "cell_type": "code",
   "execution_count": 3,
   "id": "8d9c8075",
   "metadata": {},
   "outputs": [
    {
     "data": {
      "text/html": [
       "<div>\n",
       "<style scoped>\n",
       "    .dataframe tbody tr th:only-of-type {\n",
       "        vertical-align: middle;\n",
       "    }\n",
       "\n",
       "    .dataframe tbody tr th {\n",
       "        vertical-align: top;\n",
       "    }\n",
       "\n",
       "    .dataframe thead th {\n",
       "        text-align: right;\n",
       "    }\n",
       "</style>\n",
       "<table border=\"1\" class=\"dataframe\">\n",
       "  <thead>\n",
       "    <tr style=\"text-align: right;\">\n",
       "      <th>health_region</th>\n",
       "      <th>Fraser</th>\n",
       "      <th>Interior</th>\n",
       "      <th>Island</th>\n",
       "      <th>Northern</th>\n",
       "      <th>Vancouver Coastal</th>\n",
       "    </tr>\n",
       "    <tr>\n",
       "      <th>date_report</th>\n",
       "      <th></th>\n",
       "      <th></th>\n",
       "      <th></th>\n",
       "      <th></th>\n",
       "      <th></th>\n",
       "    </tr>\n",
       "  </thead>\n",
       "  <tbody>\n",
       "    <tr>\n",
       "      <th>2020-01-02</th>\n",
       "      <td>0.000000</td>\n",
       "      <td>0.000000</td>\n",
       "      <td>0.000000</td>\n",
       "      <td>0.000000</td>\n",
       "      <td>0.000000</td>\n",
       "    </tr>\n",
       "    <tr>\n",
       "      <th>2020-01-03</th>\n",
       "      <td>0.000000</td>\n",
       "      <td>0.000000</td>\n",
       "      <td>0.000000</td>\n",
       "      <td>0.000000</td>\n",
       "      <td>0.000000</td>\n",
       "    </tr>\n",
       "    <tr>\n",
       "      <th>2020-01-04</th>\n",
       "      <td>0.998641</td>\n",
       "      <td>0.869332</td>\n",
       "      <td>0.590996</td>\n",
       "      <td>0.335494</td>\n",
       "      <td>1.722108</td>\n",
       "    </tr>\n",
       "    <tr>\n",
       "      <th>2020-01-05</th>\n",
       "      <td>0.840961</td>\n",
       "      <td>0.496761</td>\n",
       "      <td>0.118199</td>\n",
       "      <td>1.006482</td>\n",
       "      <td>0.656041</td>\n",
       "    </tr>\n",
       "    <tr>\n",
       "      <th>2020-01-06</th>\n",
       "      <td>1.156321</td>\n",
       "      <td>0.000000</td>\n",
       "      <td>0.000000</td>\n",
       "      <td>0.000000</td>\n",
       "      <td>0.164010</td>\n",
       "    </tr>\n",
       "    <tr>\n",
       "      <th>...</th>\n",
       "      <td>...</td>\n",
       "      <td>...</td>\n",
       "      <td>...</td>\n",
       "      <td>...</td>\n",
       "      <td>...</td>\n",
       "    </tr>\n",
       "    <tr>\n",
       "      <th>2021-10-14</th>\n",
       "      <td>12.929770</td>\n",
       "      <td>12.915789</td>\n",
       "      <td>5.673558</td>\n",
       "      <td>43.278715</td>\n",
       "      <td>4.346272</td>\n",
       "    </tr>\n",
       "    <tr>\n",
       "      <th>2021-10-15</th>\n",
       "      <td>12.929770</td>\n",
       "      <td>12.543218</td>\n",
       "      <td>6.973748</td>\n",
       "      <td>61.730880</td>\n",
       "      <td>6.150384</td>\n",
       "    </tr>\n",
       "    <tr>\n",
       "      <th>2021-10-16</th>\n",
       "      <td>0.000000</td>\n",
       "      <td>0.000000</td>\n",
       "      <td>0.000000</td>\n",
       "      <td>0.000000</td>\n",
       "      <td>0.000000</td>\n",
       "    </tr>\n",
       "    <tr>\n",
       "      <th>2021-10-17</th>\n",
       "      <td>0.000000</td>\n",
       "      <td>0.000000</td>\n",
       "      <td>0.000000</td>\n",
       "      <td>0.000000</td>\n",
       "      <td>0.000000</td>\n",
       "    </tr>\n",
       "    <tr>\n",
       "      <th>2021-10-18</th>\n",
       "      <td>38.736751</td>\n",
       "      <td>39.989270</td>\n",
       "      <td>19.975651</td>\n",
       "      <td>136.210529</td>\n",
       "      <td>17.385086</td>\n",
       "    </tr>\n",
       "  </tbody>\n",
       "</table>\n",
       "<p>613 rows × 5 columns</p>\n",
       "</div>"
      ],
      "text/plain": [
       "health_region     Fraser   Interior     Island    Northern  Vancouver Coastal\n",
       "date_report                                                                  \n",
       "2020-01-02      0.000000   0.000000   0.000000    0.000000           0.000000\n",
       "2020-01-03      0.000000   0.000000   0.000000    0.000000           0.000000\n",
       "2020-01-04      0.998641   0.869332   0.590996    0.335494           1.722108\n",
       "2020-01-05      0.840961   0.496761   0.118199    1.006482           0.656041\n",
       "2020-01-06      1.156321   0.000000   0.000000    0.000000           0.164010\n",
       "...                  ...        ...        ...         ...                ...\n",
       "2021-10-14     12.929770  12.915789   5.673558   43.278715           4.346272\n",
       "2021-10-15     12.929770  12.543218   6.973748   61.730880           6.150384\n",
       "2021-10-16      0.000000   0.000000   0.000000    0.000000           0.000000\n",
       "2021-10-17      0.000000   0.000000   0.000000    0.000000           0.000000\n",
       "2021-10-18     38.736751  39.989270  19.975651  136.210529          17.385086\n",
       "\n",
       "[613 rows x 5 columns]"
      ]
     },
     "execution_count": 3,
     "metadata": {},
     "output_type": "execute_result"
    }
   ],
   "source": [
    "cases_bc = cases_raw.loc[(cases_raw['province']=='BC') &  \n",
    "                         (cases_raw['date_report']<=pd.to_datetime('2021-10-18')),:] # so results don't change as data gets updated\n",
    "# create cases per 100,000\n",
    "cases_bc = cases_bc.merge(hr_map[['province','health_region','pop']],\n",
    "                          on=['province','health_region'],\n",
    "                          how='left')\n",
    "cases_bc['cases100k'] = cases_bc['cases']/cases_bc['pop']*100_000\n",
    "cases_bc = ( \n",
    "    cases_bc.reset_index()\n",
    "    .pivot_table(index='date_report',columns='health_region', values='cases100k')\n",
    ")    \n",
    "cases_bc"
   ]
  },
  {
   "cell_type": "markdown",
   "id": "da46b1cd",
   "metadata": {},
   "source": [
    "The resulting `cases_bc` DataFrame contains Covid cases per 100,000 population for each BC health region and day."
   ]
  },
  {
   "cell_type": "markdown",
   "id": "50254b0a",
   "metadata": {},
   "source": [
    "## Question 1\n",
    "\n",
    "At each date, what is the minimum number of cases per 100,000 across health regions?"
   ]
  },
  {
   "cell_type": "code",
   "execution_count": 4,
   "id": "44208577",
   "metadata": {
    "hide-output": false
   },
   "outputs": [
    {
     "data": {
      "text/plain": [
       "date_report\n",
       "2020-01-02     0.000000\n",
       "2020-01-03     0.000000\n",
       "2020-01-04     0.335494\n",
       "2020-01-05     0.118199\n",
       "2020-01-06     0.000000\n",
       "                ...    \n",
       "2021-10-14     4.346272\n",
       "2021-10-15     6.150384\n",
       "2021-10-16     0.000000\n",
       "2021-10-17     0.000000\n",
       "2021-10-18    17.385086\n",
       "Length: 613, dtype: float64"
      ]
     },
     "execution_count": 4,
     "metadata": {},
     "output_type": "execute_result"
    }
   ],
   "source": [
    "cases_bc.agg(min, axis=1)"
   ]
  },
  {
   "cell_type": "markdown",
   "id": "dcdede75",
   "metadata": {},
   "source": [
    "What was the (daily) median number of cases per 100,000 in each health region?"
   ]
  },
  {
   "cell_type": "code",
   "execution_count": 5,
   "id": "2b32abe9",
   "metadata": {
    "hide-output": false
   },
   "outputs": [
    {
     "data": {
      "text/plain": [
       "health_region\n",
       "Fraser               1.208881\n",
       "Interior             0.248381\n",
       "Island               0.118199\n",
       "Northern             0.335494\n",
       "Vancouver Coastal    0.984061\n",
       "dtype: float64"
      ]
     },
     "execution_count": 5,
     "metadata": {},
     "output_type": "execute_result"
    }
   ],
   "source": [
    "cases_bc.median()"
   ]
  },
  {
   "cell_type": "markdown",
   "id": "b91179ff",
   "metadata": {},
   "source": [
    "What was the maximum number of cases per 100,000 across health regions? In what health region did it happen? On what date was this achieved?\n",
    "\n",
    "- Hint 1: What Python type (not `dtype`) is returned by a reduction?  \n",
    "- Hint 2: Read documentation for the method `idxmax`.  "
   ]
  },
  {
   "cell_type": "code",
   "execution_count": 6,
   "id": "29dfb010-67f5-4e72-934d-a99fdc8efb1c",
   "metadata": {},
   "outputs": [
    {
     "data": {
      "text/html": [
       "<div>\n",
       "<style scoped>\n",
       "    .dataframe tbody tr th:only-of-type {\n",
       "        vertical-align: middle;\n",
       "    }\n",
       "\n",
       "    .dataframe tbody tr th {\n",
       "        vertical-align: top;\n",
       "    }\n",
       "\n",
       "    .dataframe thead th {\n",
       "        text-align: right;\n",
       "    }\n",
       "</style>\n",
       "<table border=\"1\" class=\"dataframe\">\n",
       "  <thead>\n",
       "    <tr style=\"text-align: right;\">\n",
       "      <th></th>\n",
       "      <th>max</th>\n",
       "      <th>idxmax</th>\n",
       "    </tr>\n",
       "    <tr>\n",
       "      <th>date_report</th>\n",
       "      <th></th>\n",
       "      <th></th>\n",
       "    </tr>\n",
       "  </thead>\n",
       "  <tbody>\n",
       "    <tr>\n",
       "      <th>2020-01-02</th>\n",
       "      <td>0.0</td>\n",
       "      <td>Fraser</td>\n",
       "    </tr>\n",
       "    <tr>\n",
       "      <th>2020-01-03</th>\n",
       "      <td>0.0</td>\n",
       "      <td>Fraser</td>\n",
       "    </tr>\n",
       "    <tr>\n",
       "      <th>2020-01-04</th>\n",
       "      <td>1.722108</td>\n",
       "      <td>Vancouver Coastal</td>\n",
       "    </tr>\n",
       "    <tr>\n",
       "      <th>2020-01-05</th>\n",
       "      <td>1.006482</td>\n",
       "      <td>Northern</td>\n",
       "    </tr>\n",
       "    <tr>\n",
       "      <th>2020-01-06</th>\n",
       "      <td>1.156321</td>\n",
       "      <td>Fraser</td>\n",
       "    </tr>\n",
       "    <tr>\n",
       "      <th>...</th>\n",
       "      <td>...</td>\n",
       "      <td>...</td>\n",
       "    </tr>\n",
       "    <tr>\n",
       "      <th>2021-10-14</th>\n",
       "      <td>43.278715</td>\n",
       "      <td>Northern</td>\n",
       "    </tr>\n",
       "    <tr>\n",
       "      <th>2021-10-15</th>\n",
       "      <td>61.73088</td>\n",
       "      <td>Northern</td>\n",
       "    </tr>\n",
       "    <tr>\n",
       "      <th>2021-10-16</th>\n",
       "      <td>0.0</td>\n",
       "      <td>Fraser</td>\n",
       "    </tr>\n",
       "    <tr>\n",
       "      <th>2021-10-17</th>\n",
       "      <td>0.0</td>\n",
       "      <td>Fraser</td>\n",
       "    </tr>\n",
       "    <tr>\n",
       "      <th>2021-10-18</th>\n",
       "      <td>136.210529</td>\n",
       "      <td>Northern</td>\n",
       "    </tr>\n",
       "  </tbody>\n",
       "</table>\n",
       "<p>613 rows × 2 columns</p>\n",
       "</div>"
      ],
      "text/plain": [
       "                    max             idxmax\n",
       "date_report                               \n",
       "2020-01-02          0.0             Fraser\n",
       "2020-01-03          0.0             Fraser\n",
       "2020-01-04     1.722108  Vancouver Coastal\n",
       "2020-01-05     1.006482           Northern\n",
       "2020-01-06     1.156321             Fraser\n",
       "...                 ...                ...\n",
       "2021-10-14    43.278715           Northern\n",
       "2021-10-15     61.73088           Northern\n",
       "2021-10-16          0.0             Fraser\n",
       "2021-10-17          0.0             Fraser\n",
       "2021-10-18   136.210529           Northern\n",
       "\n",
       "[613 rows x 2 columns]"
      ]
     },
     "execution_count": 6,
     "metadata": {},
     "output_type": "execute_result"
    }
   ],
   "source": [
    "def idxmax(x):\n",
    "    # idxmax of Series will return index of maximal value\n",
    "    return x.idxmax()\n",
    "cases_bc.agg([max,idxmax],axis=1,)"
   ]
  },
  {
   "cell_type": "markdown",
   "id": "93a96e55",
   "metadata": {},
   "source": [
    "Classify each health region as high or low volatility based on whether the variance of their cases per 100,000 is above or below 100."
   ]
  },
  {
   "cell_type": "code",
   "execution_count": 7,
   "id": "4befbb8a-df79-494b-94d8-fa7972ec18af",
   "metadata": {},
   "outputs": [
    {
     "data": {
      "text/plain": [
       "health_region\n",
       "Fraser               High\n",
       "Interior             High\n",
       "Island                Low\n",
       "Northern             High\n",
       "Vancouver Coastal     Low\n",
       "dtype: object"
      ]
     },
     "execution_count": 7,
     "metadata": {},
     "output_type": "execute_result"
    }
   ],
   "source": [
    "def high_or_low(s):\n",
    "    \"\"\"\n",
    "    This function takes a pandas Series object and returns high\n",
    "    if the mean is above 6.5 and low if the mean is below 6.5\n",
    "    \"\"\"\n",
    "    if s.var() < 100:\n",
    "        out = \"Low\"\n",
    "    else:\n",
    "        out = \"High\"\n",
    "\n",
    "    return out\n",
    "cases_bc.agg(high_or_low)"
   ]
  },
  {
   "cell_type": "markdown",
   "id": "65c21d92",
   "metadata": {},
   "source": [
    "## Question 2\n",
    "\n",
    "Imagine that we want to determine whether cases per 100,000 was high (> 10),\n",
    "medium (1 < x <= 10), or low (<= 1) for each health region and each day.\n",
    "\n",
    "Write a Python function that takes a single number as an input and\n",
    "outputs a single string which notes whether that number is high, medium, or low."
   ]
  },
  {
   "cell_type": "code",
   "execution_count": 8,
   "id": "e8d067f2",
   "metadata": {
    "hide-output": false
   },
   "outputs": [
    {
     "name": "stdout",
     "output_type": "stream",
     "text": [
      "test:\n",
      "Low\n",
      "Medium\n",
      "High\n"
     ]
    }
   ],
   "source": [
    "def high_medium_low(s):\n",
    "    if s > 10:\n",
    "        out = \"High\"\n",
    "    elif s <= 1:\n",
    "        out = \"Low\"\n",
    "    else:\n",
    "        out = \"Medium\"\n",
    "\n",
    "    return out\n",
    "\n",
    "print(\"test:\")\n",
    "print(high_medium_low(1))\n",
    "print(high_medium_low(2))\n",
    "print(high_medium_low(20))"
   ]
  },
  {
   "cell_type": "markdown",
   "id": "0e2acdef",
   "metadata": {},
   "source": [
    "Pass your function to either `apply` or `applymap` and save the result in a new DataFrame called `case_bins`."
   ]
  },
  {
   "cell_type": "code",
   "execution_count": 9,
   "id": "6241de94",
   "metadata": {
    "hide-output": false
   },
   "outputs": [
    {
     "data": {
      "text/html": [
       "<div>\n",
       "<style scoped>\n",
       "    .dataframe tbody tr th:only-of-type {\n",
       "        vertical-align: middle;\n",
       "    }\n",
       "\n",
       "    .dataframe tbody tr th {\n",
       "        vertical-align: top;\n",
       "    }\n",
       "\n",
       "    .dataframe thead th {\n",
       "        text-align: right;\n",
       "    }\n",
       "</style>\n",
       "<table border=\"1\" class=\"dataframe\">\n",
       "  <thead>\n",
       "    <tr style=\"text-align: right;\">\n",
       "      <th>health_region</th>\n",
       "      <th>Fraser</th>\n",
       "      <th>Interior</th>\n",
       "      <th>Island</th>\n",
       "      <th>Northern</th>\n",
       "      <th>Vancouver Coastal</th>\n",
       "    </tr>\n",
       "    <tr>\n",
       "      <th>date_report</th>\n",
       "      <th></th>\n",
       "      <th></th>\n",
       "      <th></th>\n",
       "      <th></th>\n",
       "      <th></th>\n",
       "    </tr>\n",
       "  </thead>\n",
       "  <tbody>\n",
       "    <tr>\n",
       "      <th>2020-01-02</th>\n",
       "      <td>Low</td>\n",
       "      <td>Low</td>\n",
       "      <td>Low</td>\n",
       "      <td>Low</td>\n",
       "      <td>Low</td>\n",
       "    </tr>\n",
       "    <tr>\n",
       "      <th>2020-01-03</th>\n",
       "      <td>Low</td>\n",
       "      <td>Low</td>\n",
       "      <td>Low</td>\n",
       "      <td>Low</td>\n",
       "      <td>Low</td>\n",
       "    </tr>\n",
       "    <tr>\n",
       "      <th>2020-01-04</th>\n",
       "      <td>Low</td>\n",
       "      <td>Low</td>\n",
       "      <td>Low</td>\n",
       "      <td>Low</td>\n",
       "      <td>Medium</td>\n",
       "    </tr>\n",
       "    <tr>\n",
       "      <th>2020-01-05</th>\n",
       "      <td>Low</td>\n",
       "      <td>Low</td>\n",
       "      <td>Low</td>\n",
       "      <td>Medium</td>\n",
       "      <td>Low</td>\n",
       "    </tr>\n",
       "    <tr>\n",
       "      <th>2020-01-06</th>\n",
       "      <td>Medium</td>\n",
       "      <td>Low</td>\n",
       "      <td>Low</td>\n",
       "      <td>Low</td>\n",
       "      <td>Low</td>\n",
       "    </tr>\n",
       "    <tr>\n",
       "      <th>...</th>\n",
       "      <td>...</td>\n",
       "      <td>...</td>\n",
       "      <td>...</td>\n",
       "      <td>...</td>\n",
       "      <td>...</td>\n",
       "    </tr>\n",
       "    <tr>\n",
       "      <th>2021-10-14</th>\n",
       "      <td>High</td>\n",
       "      <td>High</td>\n",
       "      <td>Medium</td>\n",
       "      <td>High</td>\n",
       "      <td>Medium</td>\n",
       "    </tr>\n",
       "    <tr>\n",
       "      <th>2021-10-15</th>\n",
       "      <td>High</td>\n",
       "      <td>High</td>\n",
       "      <td>Medium</td>\n",
       "      <td>High</td>\n",
       "      <td>Medium</td>\n",
       "    </tr>\n",
       "    <tr>\n",
       "      <th>2021-10-16</th>\n",
       "      <td>Low</td>\n",
       "      <td>Low</td>\n",
       "      <td>Low</td>\n",
       "      <td>Low</td>\n",
       "      <td>Low</td>\n",
       "    </tr>\n",
       "    <tr>\n",
       "      <th>2021-10-17</th>\n",
       "      <td>Low</td>\n",
       "      <td>Low</td>\n",
       "      <td>Low</td>\n",
       "      <td>Low</td>\n",
       "      <td>Low</td>\n",
       "    </tr>\n",
       "    <tr>\n",
       "      <th>2021-10-18</th>\n",
       "      <td>High</td>\n",
       "      <td>High</td>\n",
       "      <td>High</td>\n",
       "      <td>High</td>\n",
       "      <td>High</td>\n",
       "    </tr>\n",
       "  </tbody>\n",
       "</table>\n",
       "<p>613 rows × 5 columns</p>\n",
       "</div>"
      ],
      "text/plain": [
       "health_region  Fraser Interior  Island Northern Vancouver Coastal\n",
       "date_report                                                      \n",
       "2020-01-02        Low      Low     Low      Low               Low\n",
       "2020-01-03        Low      Low     Low      Low               Low\n",
       "2020-01-04        Low      Low     Low      Low            Medium\n",
       "2020-01-05        Low      Low     Low   Medium               Low\n",
       "2020-01-06     Medium      Low     Low      Low               Low\n",
       "...               ...      ...     ...      ...               ...\n",
       "2021-10-14       High     High  Medium     High            Medium\n",
       "2021-10-15       High     High  Medium     High            Medium\n",
       "2021-10-16        Low      Low     Low      Low               Low\n",
       "2021-10-17        Low      Low     Low      Low               Low\n",
       "2021-10-18       High     High    High     High              High\n",
       "\n",
       "[613 rows x 5 columns]"
      ]
     },
     "execution_count": 9,
     "metadata": {},
     "output_type": "execute_result"
    }
   ],
   "source": [
    "case_bins = cases_bc.applymap(high_medium_low)\n",
    "case_bins"
   ]
  },
  {
   "cell_type": "markdown",
   "id": "7228672f",
   "metadata": {},
   "source": [
    "## Question 3\n",
    "\n",
    "This exercise has multiple parts:\n",
    "\n",
    "Use another transformation on `case_bins` to count how many times each health region had each of the three classifications.\n",
    "\n",
    "- Hint 1: Will you need to use `apply` or `applymap` for transformation?  \n",
    "- Hint 2: Try googling “pandas count unique value” or something similar to find the proper transformation.  "
   ]
  },
  {
   "cell_type": "code",
   "execution_count": 10,
   "id": "d287f65a",
   "metadata": {
    "hide-output": false
   },
   "outputs": [
    {
     "data": {
      "text/html": [
       "<div>\n",
       "<style scoped>\n",
       "    .dataframe tbody tr th:only-of-type {\n",
       "        vertical-align: middle;\n",
       "    }\n",
       "\n",
       "    .dataframe tbody tr th {\n",
       "        vertical-align: top;\n",
       "    }\n",
       "\n",
       "    .dataframe thead th {\n",
       "        text-align: right;\n",
       "    }\n",
       "</style>\n",
       "<table border=\"1\" class=\"dataframe\">\n",
       "  <thead>\n",
       "    <tr style=\"text-align: right;\">\n",
       "      <th>health_region</th>\n",
       "      <th>Fraser</th>\n",
       "      <th>Interior</th>\n",
       "      <th>Island</th>\n",
       "      <th>Northern</th>\n",
       "      <th>Vancouver Coastal</th>\n",
       "    </tr>\n",
       "  </thead>\n",
       "  <tbody>\n",
       "    <tr>\n",
       "      <th>High</th>\n",
       "      <td>177</td>\n",
       "      <td>104</td>\n",
       "      <td>24</td>\n",
       "      <td>135</td>\n",
       "      <td>124</td>\n",
       "    </tr>\n",
       "    <tr>\n",
       "      <th>Low</th>\n",
       "      <td>289</td>\n",
       "      <td>364</td>\n",
       "      <td>435</td>\n",
       "      <td>356</td>\n",
       "      <td>310</td>\n",
       "    </tr>\n",
       "    <tr>\n",
       "      <th>Medium</th>\n",
       "      <td>147</td>\n",
       "      <td>145</td>\n",
       "      <td>154</td>\n",
       "      <td>122</td>\n",
       "      <td>179</td>\n",
       "    </tr>\n",
       "  </tbody>\n",
       "</table>\n",
       "</div>"
      ],
      "text/plain": [
       "health_region  Fraser  Interior  Island  Northern  Vancouver Coastal\n",
       "High              177       104      24       135                124\n",
       "Low               289       364     435       356                310\n",
       "Medium            147       145     154       122                179"
      ]
     },
     "execution_count": 10,
     "metadata": {},
     "output_type": "execute_result"
    }
   ],
   "source": [
    "def valuec(x):\n",
    "    return x.value_counts()\n",
    "case_bins.agg(valuec)"
   ]
  },
  {
   "cell_type": "markdown",
   "id": "f5961213",
   "metadata": {},
   "source": [
    "Construct a horizontal bar chart (you can refer to an example of horizontal bar chart [here](https://www150.statcan.gc.ca/edu/power-pouvoir/c-g/c-g05-2-3-eng.png)) to detail the occurrences of each level.\n",
    "Use one bar per health region and classification for 15 total bars."
   ]
  },
  {
   "cell_type": "code",
   "execution_count": 11,
   "id": "511481a7",
   "metadata": {
    "hide-output": false
   },
   "outputs": [
    {
     "data": {
      "image/png": "[encoded data removed]",
      "text/plain": [
       "<Figure size 432x288 with 1 Axes>"
      ]
     },
     "metadata": {
      "needs_background": "light"
     },
     "output_type": "display_data"
    }
   ],
   "source": [
    "import matplotlib.pyplot as plt\n",
    "\n",
    "df = case_bins.agg(valuec)\n",
    "dft = df.T\n",
    "\n",
    "dft.plot.barh()\n",
    "\n",
    "plt.title('case_bins.agg(valuec)')\n",
    "plt.ylabel('health_region')\n",
    "plt.xlabel('quantity')\n",
    "plt.show()"
   ]
  },
  {
   "cell_type": "markdown",
   "id": "534393a6",
   "metadata": {},
   "source": [
    "## Question 4\n",
    "\n",
    "Repeat Question 3, but count how many health regions had each classification on each day. Which day had the most health regions with high cases per 100,000? What about medium and low?\n",
    "\n",
    "Part 1: Write a Python function to classify cases per 100,000 levels (this might be the same as the function you wrote in Question 2)."
   ]
  },
  {
   "cell_type": "code",
   "execution_count": 12,
   "id": "d01e5752",
   "metadata": {
    "hide-output": false
   },
   "outputs": [],
   "source": [
    "def hml(s):\n",
    "    if s > 10:\n",
    "        out = \"High\"\n",
    "    elif s <= 1:\n",
    "        out = \"Low\"\n",
    "    else:\n",
    "        out = \"Medium\"\n",
    "\n",
    "    return out\n"
   ]
  },
  {
   "cell_type": "markdown",
   "id": "ed44b75a",
   "metadata": {},
   "source": [
    "Part 2: Decide whether you should use `.apply` or `.applymap` and pass your function from Part 1 to the appropriate method."
   ]
  },
  {
   "cell_type": "code",
   "execution_count": 13,
   "id": "cad90e35",
   "metadata": {
    "hide-output": false
   },
   "outputs": [
    {
     "data": {
      "text/html": [
       "<div>\n",
       "<style scoped>\n",
       "    .dataframe tbody tr th:only-of-type {\n",
       "        vertical-align: middle;\n",
       "    }\n",
       "\n",
       "    .dataframe tbody tr th {\n",
       "        vertical-align: top;\n",
       "    }\n",
       "\n",
       "    .dataframe thead th {\n",
       "        text-align: right;\n",
       "    }\n",
       "</style>\n",
       "<table border=\"1\" class=\"dataframe\">\n",
       "  <thead>\n",
       "    <tr style=\"text-align: right;\">\n",
       "      <th></th>\n",
       "      <th>High</th>\n",
       "      <th>Low</th>\n",
       "      <th>Medium</th>\n",
       "    </tr>\n",
       "    <tr>\n",
       "      <th>date_report</th>\n",
       "      <th></th>\n",
       "      <th></th>\n",
       "      <th></th>\n",
       "    </tr>\n",
       "  </thead>\n",
       "  <tbody>\n",
       "    <tr>\n",
       "      <th>2020-01-02</th>\n",
       "      <td>NaN</td>\n",
       "      <td>5.0</td>\n",
       "      <td>NaN</td>\n",
       "    </tr>\n",
       "    <tr>\n",
       "      <th>2020-01-03</th>\n",
       "      <td>NaN</td>\n",
       "      <td>5.0</td>\n",
       "      <td>NaN</td>\n",
       "    </tr>\n",
       "    <tr>\n",
       "      <th>2020-01-04</th>\n",
       "      <td>NaN</td>\n",
       "      <td>4.0</td>\n",
       "      <td>1.0</td>\n",
       "    </tr>\n",
       "    <tr>\n",
       "      <th>2020-01-05</th>\n",
       "      <td>NaN</td>\n",
       "      <td>4.0</td>\n",
       "      <td>1.0</td>\n",
       "    </tr>\n",
       "    <tr>\n",
       "      <th>2020-01-06</th>\n",
       "      <td>NaN</td>\n",
       "      <td>4.0</td>\n",
       "      <td>1.0</td>\n",
       "    </tr>\n",
       "    <tr>\n",
       "      <th>...</th>\n",
       "      <td>...</td>\n",
       "      <td>...</td>\n",
       "      <td>...</td>\n",
       "    </tr>\n",
       "    <tr>\n",
       "      <th>2021-10-14</th>\n",
       "      <td>3.0</td>\n",
       "      <td>NaN</td>\n",
       "      <td>2.0</td>\n",
       "    </tr>\n",
       "    <tr>\n",
       "      <th>2021-10-15</th>\n",
       "      <td>3.0</td>\n",
       "      <td>NaN</td>\n",
       "      <td>2.0</td>\n",
       "    </tr>\n",
       "    <tr>\n",
       "      <th>2021-10-16</th>\n",
       "      <td>NaN</td>\n",
       "      <td>5.0</td>\n",
       "      <td>NaN</td>\n",
       "    </tr>\n",
       "    <tr>\n",
       "      <th>2021-10-17</th>\n",
       "      <td>NaN</td>\n",
       "      <td>5.0</td>\n",
       "      <td>NaN</td>\n",
       "    </tr>\n",
       "    <tr>\n",
       "      <th>2021-10-18</th>\n",
       "      <td>5.0</td>\n",
       "      <td>NaN</td>\n",
       "      <td>NaN</td>\n",
       "    </tr>\n",
       "  </tbody>\n",
       "</table>\n",
       "<p>613 rows × 3 columns</p>\n",
       "</div>"
      ],
      "text/plain": [
       "             High  Low  Medium\n",
       "date_report                   \n",
       "2020-01-02    NaN  5.0     NaN\n",
       "2020-01-03    NaN  5.0     NaN\n",
       "2020-01-04    NaN  4.0     1.0\n",
       "2020-01-05    NaN  4.0     1.0\n",
       "2020-01-06    NaN  4.0     1.0\n",
       "...           ...  ...     ...\n",
       "2021-10-14    3.0  NaN     2.0\n",
       "2021-10-15    3.0  NaN     2.0\n",
       "2021-10-16    NaN  5.0     NaN\n",
       "2021-10-17    NaN  5.0     NaN\n",
       "2021-10-18    5.0  NaN     NaN\n",
       "\n",
       "[613 rows x 3 columns]"
      ]
     },
     "execution_count": 13,
     "metadata": {},
     "output_type": "execute_result"
    }
   ],
   "source": [
    "def number_of_health_regions(hml):\n",
    "    \n",
    "    case_bins = cases_bc.applymap(hml)\n",
    "    nhr = case_bins.agg(valuec,axis=1)\n",
    "    return nhr\n",
    "\n",
    "dfnhr=number_of_health_regions(hml)\n",
    "dfnhr"
   ]
  },
  {
   "cell_type": "markdown",
   "id": "72ca3cf4",
   "metadata": {},
   "source": [
    "Part 3: Plot the number of low, medium, and high regions on each date. Your plot(s) should have date on the horizontal axis and number of regions on the vertical axis. You can choose whether to make one plot with three lines (or bars etc) or to make three plots."
   ]
  },
  {
   "cell_type": "code",
   "execution_count": 14,
   "id": "e9dfde26-ac25-4247-9ef6-5e00ab0978d3",
   "metadata": {},
   "outputs": [
    {
     "data": {
      "image/png": "[encoded data removed]",
      "text/plain": [
       "<Figure size 1440x576 with 1 Axes>"
      ]
     },
     "metadata": {
      "needs_background": "light"
     },
     "output_type": "display_data"
    }
   ],
   "source": [
    "index = dfnhr.index\n",
    "valueh = dfnhr['High']\n",
    "valuel = dfnhr['Low']\n",
    "valuem = dfnhr['Medium']\n",
    "\n",
    "ax,fig = plt.subplots(figsize=(20,8))\n",
    "plt.bar(index,valueh,label = 'high')\n",
    "plt.bar(index,valuel, label ='low')\n",
    "plt.bar(index,valuem,label = 'medium')\n",
    "plt.title('case_bins.agg(valuec,axis=1)')\n",
    "plt.ylabel('number_of_health_regions')\n",
    "plt.xlabel('date')\n",
    "plt.show()"
   ]
  },
  {
   "cell_type": "markdown",
   "id": "495f36a2",
   "metadata": {},
   "source": [
    "## Question 5\n",
    "\n",
    "For a single health region of your choice, determine the mean\n",
    "cases per 100,000 during “Low”, “Medium”, and “High” case times.\n",
    "(recall your `case_bins` DataFrame from the exercise above)"
   ]
  },
  {
   "cell_type": "code",
   "execution_count": 15,
   "id": "8c823431",
   "metadata": {
    "hide-output": false
   },
   "outputs": [
    {
     "name": "stdout",
     "output_type": "stream",
     "text": [
      "mean of fraser high 25.322656149812055\n",
      "mean of fraser low 0.149859773627282\n",
      "mean of fraser medium 3.496136668866537\n"
     ]
    }
   ],
   "source": [
    "cases_bc_fraser_high = cases_bc.loc[cases_bc[\"Fraser\"] >10]\n",
    "print(f\"mean of fraser high {cases_bc_fraser_high['Fraser'].mean()}\")\n",
    "\n",
    "cases_bc_fraser_low = cases_bc.loc[cases_bc[\"Fraser\"] <= 1]\n",
    "print(f\"mean of fraser low {cases_bc_fraser_low['Fraser'].mean()}\")\n",
    "\n",
    "cases_bc_fraser_medium = cases_bc.loc[(cases_bc[\"Fraser\"] >1) & (cases_bc[\"Fraser\"] <= 10)]\n",
    "print(f\"mean of fraser medium {cases_bc_fraser_medium['Fraser'].mean()}\")"
   ]
  },
  {
   "cell_type": "markdown",
   "id": "b1633950",
   "metadata": {},
   "source": [
    "Which health regions in our sample performs the best during “bad times?” To\n",
    "determine this, compute each health region’s mean cases per 100,000 where the daily cases per 100,000 is greater than 10 (i.e., in the \"high\"\n",
    "category)."
   ]
  },
  {
   "cell_type": "code",
   "execution_count": 16,
   "id": "7eb3d125",
   "metadata": {
    "hide-output": false
   },
   "outputs": [
    {
     "name": "stdout",
     "output_type": "stream",
     "text": [
      "mean of high health_region\n",
      "Fraser               25.322656\n",
      "Interior             25.988010\n",
      "Island               16.050455\n",
      "Northern             28.715794\n",
      "Vancouver Coastal    19.299641\n",
      "dtype: float64\n",
      "Island is performing the best during 'bad times'.\n"
     ]
    }
   ],
   "source": [
    "cases_bc_high = cases_bc[cases_bc >10]\n",
    "print(f\"mean of high {cases_bc_high.mean()}\")\n",
    "print(\"Island is performing the best during 'bad times'.\")"
   ]
  },
  {
   "cell_type": "code",
   "execution_count": null,
   "id": "2e743083-bb0a-48c4-8008-f7f7f8d221ce",
   "metadata": {},
   "outputs": [],
   "source": []
  }
 ],
 "metadata": {
  "date": 1633586292.4168322,
  "filename": "problem_set_5.md",
  "interpreter": {
   "hash": "767d51c1340bd893661ea55ea3124f6de3c7a262a8b4abca0554b478b1e2ff90"
  },
  "kernelspec": {
   "display_name": "Python 3 (ipykernel)",
   "language": "python",
   "name": "python3"
  },
  "language_info": {
   "codemirror_mode": {
    "name": "ipython",
    "version": 3
   },
   "file_extension": ".py",
   "mimetype": "text/x-python",
   "name": "python",
   "nbconvert_exporter": "python",
   "pygments_lexer": "ipython3",
   "version": "3.9.6"
  },
  "title": "Problem Set 5"
 },
 "nbformat": 4,
 "nbformat_minor": 5
}
