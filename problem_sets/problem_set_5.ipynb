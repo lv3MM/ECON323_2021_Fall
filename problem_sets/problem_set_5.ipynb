{
 "cells": [
  {
   "cell_type": "markdown",
   "id": "c846f484",
   "metadata": {},
   "source": [
    "# Problem Set 5\n",
    "\n",
    "See [Introduction](https://datascience.quantecon.org/../pandas/intro.html) and [Basic Functionality](https://datascience.quantecon.org/../pandas/basics.html)"
   ]
  },
  {
   "cell_type": "code",
   "execution_count": null,
   "id": "1b816f82",
   "metadata": {
    "hide-output": false
   },
   "outputs": [],
   "source": [
    "import pandas as pd\n",
    "import numpy as np\n",
    "\n",
    "%matplotlib inline"
   ]
  },
  {
   "cell_type": "markdown",
   "id": "ec64d73c",
   "metadata": {},
   "source": [
    "## Setup for Question 1-5\n",
    "\n",
    "These questions use data on daily Covid cases in health regions in Canada from the [COVID-19 Canada Open Data Working Group](https://github.com/ccodwg/Covid19Canada).\n",
    "\n",
    "We will be begin by loading this data and putting it into a similar format as the `unemp` data from the [Basic Functionality](https://datascience.quantecon.org/../pandas/basics.html) lecture."
   ]
  },
  {
   "cell_type": "code",
   "execution_count": null,
   "id": "62963847",
   "metadata": {
    "hide-output": false
   },
   "outputs": [],
   "source": [
    "url = \"https://github.com/ccodwg/Covid19Canada/raw/master/timeseries_hr/cases_timeseries_hr.csv\"\n",
    "try : # only download if cases_raw has not already been defined \n",
    "    cases_raw\n",
    "except:\n",
    "    cases_raw = pd.read_csv(url, parse_dates=[\"date_report\"])\n",
    "\n",
    "try :\n",
    "    hr_map \n",
    "except: \n",
    "    hr_map = pd.read_csv(\"https://github.com/ccodwg/Covid19Canada/raw/master/other/hr_map.csv\")"
   ]
  },
  {
   "cell_type": "markdown",
   "id": "676a013f",
   "metadata": {},
   "source": [
    "Now, we create cases per 100,000 and then do the same manipulation as in the pandas basics lecture. We will focus on BC health regions in this problem set."
   ]
  },
  {
   "cell_type": "code",
   "execution_count": null,
   "id": "8d9c8075",
   "metadata": {},
   "outputs": [],
   "source": [
    "cases_bc = cases_raw.loc[(cases_raw['province']=='BC') &  \n",
    "                         (cases_raw['date_report']<=pd.to_datetime('2021-10-18')),:] # so results don't change as data gets updated\n",
    "# create cases per 100,000\n",
    "cases_bc = cases_bc.merge(hr_map[['province','health_region','pop']],\n",
    "                          on=['province','health_region'],\n",
    "                          how='left')\n",
    "cases_bc['cases100k'] = cases_bc['cases']/cases_bc['pop']*100_000\n",
    "cases_bc = ( \n",
    "    cases_bc.reset_index()\n",
    "    .pivot_table(index='date_report',columns='health_region', values='cases100k')\n",
    ")    \n",
    "cases_bc"
   ]
  },
  {
   "cell_type": "markdown",
   "id": "da46b1cd",
   "metadata": {},
   "source": [
    "The resulting `cases_bc` DataFrame contains Covid cases per 100,000 population for each BC health region and day."
   ]
  },
  {
   "cell_type": "markdown",
   "id": "50254b0a",
   "metadata": {},
   "source": [
    "## Question 1\n",
    "\n",
    "At each date, what is the minimum number of cases per 100,000 across health regions?"
   ]
  },
  {
   "cell_type": "code",
   "execution_count": null,
   "id": "44208577",
   "metadata": {
    "hide-output": false
   },
   "outputs": [],
   "source": [
    "# Your code here"
   ]
  },
  {
   "cell_type": "markdown",
   "id": "dcdede75",
   "metadata": {},
   "source": [
    "What was the median number of cases per 100,000 in each health region?"
   ]
  },
  {
   "cell_type": "code",
   "execution_count": null,
   "id": "2b32abe9",
   "metadata": {
    "hide-output": false
   },
   "outputs": [],
   "source": [
    "# Your code here"
   ]
  },
  {
   "cell_type": "markdown",
   "id": "b91179ff",
   "metadata": {},
   "source": [
    "What was the maximum number of cases per 100,000 across health regions? In what health region did it happen? On what date was this achieved?\n",
    "\n",
    "- Hint 1: What Python type (not `dtype`) is returned by a reduction?  \n",
    "- Hint 2: Read documentation for the method `idxmax`.  "
   ]
  },
  {
   "cell_type": "code",
   "execution_count": null,
   "id": "7c761cd3",
   "metadata": {
    "hide-output": false
   },
   "outputs": [],
   "source": [
    "# Your code here"
   ]
  },
  {
   "cell_type": "markdown",
   "id": "93a96e55",
   "metadata": {},
   "source": [
    "Classify each health region as high or low volatility based on whether the variance of their cases per 100,000 is above or below 100."
   ]
  },
  {
   "cell_type": "code",
   "execution_count": null,
   "id": "ba648bf9",
   "metadata": {
    "hide-output": false
   },
   "outputs": [],
   "source": [
    "# Your code here\n"
   ]
  },
  {
   "cell_type": "markdown",
   "id": "65c21d92",
   "metadata": {},
   "source": [
    "## Question 2\n",
    "\n",
    "Imagine that we want to determine whether cases per 100,000 was high (> 10),\n",
    "medium (1 < x <= 10), or low (<= 1) for each health region and each day.\n",
    "\n",
    "Write a Python function that takes a single number as an input and\n",
    "outputs a single string which notes whether that number is high, medium, or low."
   ]
  },
  {
   "cell_type": "code",
   "execution_count": null,
   "id": "e8d067f2",
   "metadata": {
    "hide-output": false
   },
   "outputs": [],
   "source": [
    "# Your code here"
   ]
  },
  {
   "cell_type": "markdown",
   "id": "0e2acdef",
   "metadata": {},
   "source": [
    "Pass your function to either `apply` or `applymap` and save the result in a new DataFrame called `case_bins`."
   ]
  },
  {
   "cell_type": "code",
   "execution_count": null,
   "id": "6241de94",
   "metadata": {
    "hide-output": false
   },
   "outputs": [],
   "source": [
    "# Your code here"
   ]
  },
  {
   "cell_type": "markdown",
   "id": "7228672f",
   "metadata": {},
   "source": [
    "## Question 3\n",
    "\n",
    "This exercise has multiple parts:\n",
    "\n",
    "Use another transformation on `case_bins` to count how many times each health region had each of the three classifications.\n",
    "\n",
    "- Hint 1: Will you need to use `apply` or `applymap` for transformation?  \n",
    "- Hint 2: Try googling “pandas count unique value” or something similar to find the proper transformation.  "
   ]
  },
  {
   "cell_type": "code",
   "execution_count": null,
   "id": "d287f65a",
   "metadata": {
    "hide-output": false
   },
   "outputs": [],
   "source": [
    "# Your code here"
   ]
  },
  {
   "cell_type": "markdown",
   "id": "f5961213",
   "metadata": {},
   "source": [
    "Construct a horizontal bar chart to detail the occurrences of each level.\n",
    "Use one bar per health region and classification for 15 total bars."
   ]
  },
  {
   "cell_type": "code",
   "execution_count": null,
   "id": "511481a7",
   "metadata": {
    "hide-output": false
   },
   "outputs": [],
   "source": [
    "# Your code here"
   ]
  },
  {
   "cell_type": "markdown",
   "id": "534393a6",
   "metadata": {},
   "source": [
    "## Question 4\n",
    "\n",
    "Repeat Question 3, but count how many health regions had each classification on each day. Which day had the most health regions with high cases per 100,000? What about medium and low?\n",
    "\n",
    "Part 1: Write a Python function to classify cases per 100,000 levels (this might be the same as Part 1 of the previous question.)"
   ]
  },
  {
   "cell_type": "code",
   "execution_count": null,
   "id": "d01e5752",
   "metadata": {
    "hide-output": false
   },
   "outputs": [],
   "source": [
    "# Your code here"
   ]
  },
  {
   "cell_type": "markdown",
   "id": "ed44b75a",
   "metadata": {},
   "source": [
    "Part 2: Decide whether you should use `.apply` or `.applymap` and pass your function from part 1 to the appropriate method."
   ]
  },
  {
   "cell_type": "code",
   "execution_count": null,
   "id": "cad90e35",
   "metadata": {
    "hide-output": false
   },
   "outputs": [],
   "source": [
    "cases_bins = cases_bc#replace this comment with your code!!"
   ]
  },
  {
   "cell_type": "markdown",
   "id": "72ca3cf4",
   "metadata": {},
   "source": [
    "Part 3: Count the number of times each health region had each classification and plot the number of low, medium, and high regions on each date. Your plot(s) should have date on the horizontal axis and number of regions on the vertical axis. You can choose whether to make one plot with three lines (or bars etc) or to make three plots."
   ]
  },
  {
   "cell_type": "code",
   "execution_count": null,
   "id": "d3dd760d",
   "metadata": {
    "hide-output": false
   },
   "outputs": [],
   "source": [
    "# Your code here"
   ]
  },
  {
   "cell_type": "markdown",
   "id": "495f36a2",
   "metadata": {},
   "source": [
    "## Question 5\n",
    "\n",
    "For a single health region of your choice, determine the mean\n",
    "cases per 100,000 during “Low”, “Medium”, and “High” case times.\n",
    "(recall your `case_bins` DataFrame from the exercise above)"
   ]
  },
  {
   "cell_type": "code",
   "execution_count": null,
   "id": "8c823431",
   "metadata": {
    "hide-output": false
   },
   "outputs": [],
   "source": [
    "# Your code here"
   ]
  },
  {
   "cell_type": "markdown",
   "id": "b1633950",
   "metadata": {},
   "source": [
    "Which health regions in our sample performs the best during “bad times?” To\n",
    "determine this, compute each health region’s mean cases per 100,000 in\n",
    "months where the mean cases per 100,000 is greater than 10."
   ]
  },
  {
   "cell_type": "code",
   "execution_count": null,
   "id": "7eb3d125",
   "metadata": {
    "hide-output": false
   },
   "outputs": [],
   "source": [
    "# Your code here"
   ]
  }
 ],
 "metadata": {
  "date": 1633586292.4168322,
  "filename": "problem_set_5.md",
  "interpreter": {
   "hash": "767d51c1340bd893661ea55ea3124f6de3c7a262a8b4abca0554b478b1e2ff90"
  },
  "kernelspec": {
   "display_name": "Python 3 (ipykernel)",
   "language": "python",
   "name": "python3"
  },
  "language_info": {
   "codemirror_mode": {
    "name": "ipython",
    "version": 3
   },
   "file_extension": ".py",
   "mimetype": "text/x-python",
   "name": "python",
   "nbconvert_exporter": "python",
   "pygments_lexer": "ipython3",
   "version": "3.9.7"
  },
  "title": "Problem Set 5"
 },
 "nbformat": 4,
 "nbformat_minor": 5
}
