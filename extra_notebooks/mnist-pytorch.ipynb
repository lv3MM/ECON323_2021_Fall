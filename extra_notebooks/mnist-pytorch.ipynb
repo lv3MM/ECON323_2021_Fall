{
 "cells": [
  {
   "cell_type": "markdown",
   "id": "873abb05",
   "metadata": {},
   "source": [
    "# Classification with Neural Networks \n",
    "\n",
    "**Author**\n",
    "\n",
    "> - [Paul Schrimpf *UBC*](https://economics.ubc.ca/faculty-and-staff/paul-schrimpf/)  \n",
    "\n",
    "\n",
    "\n",
    "**Prerequisites**\n",
    "\n",
    "- [Classification](https://datascience.quantecon.org/../appplications/classification.html)  \n",
    "\n",
    "\n",
    "**Outcomes**\n",
    "\n",
    "- Use pytorch to classify images"
   ]
  },
  {
   "cell_type": "code",
   "execution_count": 1,
   "id": "d2b7dd38",
   "metadata": {
    "hide-output": false
   },
   "outputs": [],
   "source": [
    "# Uncomment following line to install on colab\n",
    "#! pip install torch torchvision # TODO: THERE MIGHT BE MORE NEEDED"
   ]
  },
  {
   "cell_type": "markdown",
   "id": "ef3f9573",
   "metadata": {},
   "source": [
    "## Introduction\n",
    "\n",
    "Neural networks can do a remarkably good job of recognizing images. We will explore a simple example here. \n",
    "\n",
    "A classic image recognition task is classifying hand written digits from the MNIST dataset."
   ]
  },
  {
   "cell_type": "markdown",
   "id": "1e1aec90",
   "metadata": {},
   "source": [
    "## Data: MNIST\n",
    "\n",
    "PyTorch includes convenient functions for downloading MNIST data."
   ]
  },
  {
   "cell_type": "code",
   "execution_count": 3,
   "id": "cb03f592",
   "metadata": {},
   "outputs": [
    {
     "name": "stdout",
     "output_type": "stream",
     "text": [
      "Downloading http://yann.lecun.com/exdb/mnist/train-images-idx3-ubyte.gz\n",
      "Downloading http://yann.lecun.com/exdb/mnist/train-images-idx3-ubyte.gz to dataset/MNIST/raw/train-images-idx3-ubyte.gz\n"
     ]
    },
    {
     "name": "stderr",
     "output_type": "stream",
     "text": [
      "9913344it [00:00, 27086755.62it/s]                             \n"
     ]
    },
    {
     "name": "stdout",
     "output_type": "stream",
     "text": [
      "Extracting dataset/MNIST/raw/train-images-idx3-ubyte.gz to dataset/MNIST/raw\n",
      "\n",
      "Downloading http://yann.lecun.com/exdb/mnist/train-labels-idx1-ubyte.gz\n",
      "Downloading http://yann.lecun.com/exdb/mnist/train-labels-idx1-ubyte.gz to dataset/MNIST/raw/train-labels-idx1-ubyte.gz\n"
     ]
    },
    {
     "name": "stderr",
     "output_type": "stream",
     "text": [
      "29696it [00:00, 105517.17it/s]                           \n"
     ]
    },
    {
     "name": "stdout",
     "output_type": "stream",
     "text": [
      "Extracting dataset/MNIST/raw/train-labels-idx1-ubyte.gz to dataset/MNIST/raw\n",
      "\n",
      "Downloading http://yann.lecun.com/exdb/mnist/t10k-images-idx3-ubyte.gz\n",
      "Downloading http://yann.lecun.com/exdb/mnist/t10k-images-idx3-ubyte.gz to dataset/MNIST/raw/t10k-images-idx3-ubyte.gz\n"
     ]
    },
    {
     "name": "stderr",
     "output_type": "stream",
     "text": [
      "1649664it [00:00, 2253613.31it/s]                             \n"
     ]
    },
    {
     "name": "stdout",
     "output_type": "stream",
     "text": [
      "Extracting dataset/MNIST/raw/t10k-images-idx3-ubyte.gz to dataset/MNIST/raw\n",
      "\n",
      "Downloading http://yann.lecun.com/exdb/mnist/t10k-labels-idx1-ubyte.gz\n",
      "Downloading http://yann.lecun.com/exdb/mnist/t10k-labels-idx1-ubyte.gz to dataset/MNIST/raw/t10k-labels-idx1-ubyte.gz\n"
     ]
    },
    {
     "name": "stderr",
     "output_type": "stream",
     "text": [
      "5120it [00:00, 17859.13it/s]                          "
     ]
    },
    {
     "name": "stdout",
     "output_type": "stream",
     "text": [
      "Extracting dataset/MNIST/raw/t10k-labels-idx1-ubyte.gz to dataset/MNIST/raw\n",
      "\n"
     ]
    },
    {
     "name": "stderr",
     "output_type": "stream",
     "text": [
      "\n"
     ]
    }
   ],
   "source": [
    "import torch\n",
    "import torchvision\n",
    "import torch.nn as nn\n",
    "\n",
    "\n",
    "# define how image transformed\n",
    "image_transform = torchvision.transforms.Compose([\n",
    "                               torchvision.transforms.ToTensor(),\n",
    "                               torchvision.transforms.Normalize(\n",
    "                                 (0.1307,), (0.3081,))\n",
    "                             ])\n",
    "#image datasets\n",
    "train_dataset = torchvision.datasets.MNIST('dataset/', \n",
    "                                           train=True, \n",
    "                                           download=True,\n",
    "                                           transform=image_transform)\n",
    "test_dataset = torchvision.datasets.MNIST('dataset/', \n",
    "                                          train=False, \n",
    "                                          download=True,\n",
    "                                          transform=image_transform)\n"
   ]
  },
  {
   "cell_type": "markdown",
   "id": "50415a97",
   "metadata": {},
   "source": [
    "The MNIST data consists of 28 by 28 pixel grayscale images of hand written digits. Let's look at some of them."
   ]
  },
  {
   "cell_type": "code",
   "execution_count": 22,
   "id": "146f4fda",
   "metadata": {},
   "outputs": [
    {
     "data": {
      "image/png": "[encoded data removed]",
      "text/plain": [
       "<Figure size 432x432 with 9 Axes>"
      ]
     },
     "metadata": {
      "needs_background": "light"
     },
     "output_type": "display_data"
    }
   ],
   "source": [
    "import matplotlib.pyplot as plt\n",
    "fig, ax = plt.subplots(3, 3, figsize=(6, 6))\n",
    "for i, axi in enumerate(ax.flat):\n",
    "  axi.imshow(train_dataset[i][0][0,:,:], cmap='gray_r')\n",
    "  axi.set_title(train_dataset[i][1])\n",
    "  axi.set_axis_off()"
   ]
  },
  {
   "cell_type": "markdown",
   "id": "887aaa3e",
   "metadata": {},
   "source": [
    "We now define our classification model. We will use a feed forward neural network. "
   ]
  },
  {
   "cell_type": "code",
   "execution_count": 44,
   "id": "167d8916",
   "metadata": {},
   "outputs": [],
   "source": [
    "import itertools\n",
    "\n",
    "device = 'cuda'\n",
    "layers = [128, 64, 32] \n",
    "cmgslayers = [2500, 2000, 1500, 1000, 500]  # Ciresan et al (2010) architecture\n",
    "\n",
    "def createmodel(layers):\n",
    "  model = nn.Sequential(\n",
    "    nn.Linear(28*28, layers[0]),\n",
    "    nn.ReLU(),\n",
    "    *itertools.chain.from_iterable(zip( (nn.Linear(layers[i-1], layers[i]) for i in range(1, len(layers))),\n",
    "          (nn.ReLU() for i in range(1, len(layers))) )),\n",
    "    nn.Linear(layers[-1], 10),\n",
    "    nn.LogSoftmax(dim=1)\n",
    "  )\n",
    "  return model\n",
    "\n",
    "model = createmodel(layers).to(device)"
   ]
  },
  {
   "cell_type": "code",
   "execution_count": 107,
   "id": "e1b81760",
   "metadata": {},
   "outputs": [],
   "source": [
    "# prepare data for training \n",
    "batch_size_train = 5000  \n",
    "batch_size_test = 5000 \n",
    "\n",
    "train_loader = torch.utils.data.DataLoader(train_dataset,\n",
    "                                           batch_size=batch_size_train, \n",
    "                                           shuffle=True)\n",
    "test_loader = torch.utils.data.DataLoader(test_dataset,\n",
    "                                          batch_size=batch_size_test, \n",
    "                                          shuffle=True)"
   ]
  },
  {
   "cell_type": "code",
   "execution_count": 108,
   "id": "36a76609",
   "metadata": {},
   "outputs": [],
   "source": [
    "# training\n",
    "def train(model, epochs, train_loader, device):\n",
    "  optimizer = torch.optim.Adam(model.parameters(), lr=0.01)\n",
    "  model.train()\n",
    "\n",
    "  losses = []\n",
    "  for epoch in range(epochs):\n",
    "    for batch_idx, (images, labels) in enumerate(train_loader):\n",
    "      images = images.to(device).view(-1, 28*28)\n",
    "      labels = labels.to(device)          \n",
    "      optimizer.zero_grad()\n",
    "      probs = model(images) \n",
    "      loss = nn.functional.cross_entropy(probs, labels)\n",
    "      losses.append(loss.to('cpu').item())\n",
    "      loss.backward()\n",
    "      optimizer.step()\n",
    "                \n",
    "      \n",
    "      if batch_idx % (len(train_loader)//10 +1) == 0:\n",
    "        print('\\n Train Epoch: {} [{}/{} ({:.0f}%)]\\tLoss: {:.6f}'.format(\n",
    "                epoch, \n",
    "                batch_idx * len(images), \n",
    "                len(train_loader.dataset),\n",
    "                100. * batch_idx / len(train_loader), \n",
    "                loss), \n",
    "                end='')\n",
    "            \n",
    "  return losses"
   ]
  },
  {
   "cell_type": "code",
   "execution_count": 113,
   "id": "f87f3bb1",
   "metadata": {},
   "outputs": [
    {
     "name": "stdout",
     "output_type": "stream",
     "text": [
      "\n",
      " Train Epoch: 0 [0/60000 (0%)]\tLoss: 0.032852\n",
      " Train Epoch: 0 [10000/60000 (17%)]\tLoss: 0.043355\n",
      " Train Epoch: 0 [20000/60000 (33%)]\tLoss: 0.118863\n",
      " Train Epoch: 0 [30000/60000 (50%)]\tLoss: 0.045651\n",
      " Train Epoch: 0 [40000/60000 (67%)]\tLoss: 0.055464\n",
      " Train Epoch: 0 [50000/60000 (83%)]\tLoss: 0.060458\n",
      " Train Epoch: 1 [0/60000 (0%)]\tLoss: 0.044754\n",
      " Train Epoch: 1 [10000/60000 (17%)]\tLoss: 0.032555\n",
      " Train Epoch: 1 [20000/60000 (33%)]\tLoss: 0.027344\n",
      " Train Epoch: 1 [30000/60000 (50%)]\tLoss: 0.027904\n",
      " Train Epoch: 1 [40000/60000 (67%)]\tLoss: 0.023094\n",
      " Train Epoch: 1 [50000/60000 (83%)]\tLoss: 0.021174\n",
      " Train Epoch: 2 [0/60000 (0%)]\tLoss: 0.019049\n",
      " Train Epoch: 2 [10000/60000 (17%)]\tLoss: 0.014943\n",
      " Train Epoch: 2 [20000/60000 (33%)]\tLoss: 0.013038\n",
      " Train Epoch: 2 [30000/60000 (50%)]\tLoss: 0.016326\n",
      " Train Epoch: 2 [40000/60000 (67%)]\tLoss: 0.018714\n",
      " Train Epoch: 2 [50000/60000 (83%)]\tLoss: 0.017575\n",
      " Train Epoch: 3 [0/60000 (0%)]\tLoss: 0.009886\n",
      " Train Epoch: 3 [10000/60000 (17%)]\tLoss: 0.006517\n",
      " Train Epoch: 3 [20000/60000 (33%)]\tLoss: 0.013543\n",
      " Train Epoch: 3 [30000/60000 (50%)]\tLoss: 0.007697\n",
      " Train Epoch: 3 [40000/60000 (67%)]\tLoss: 0.009961\n",
      " Train Epoch: 3 [50000/60000 (83%)]\tLoss: 0.010778\n",
      " Train Epoch: 4 [0/60000 (0%)]\tLoss: 0.010801\n",
      " Train Epoch: 4 [10000/60000 (17%)]\tLoss: 0.006437\n",
      " Train Epoch: 4 [20000/60000 (33%)]\tLoss: 0.009494\n",
      " Train Epoch: 4 [30000/60000 (50%)]\tLoss: 0.007982\n",
      " Train Epoch: 4 [40000/60000 (67%)]\tLoss: 0.005756\n",
      " Train Epoch: 4 [50000/60000 (83%)]\tLoss: 0.005734\n",
      " Train Epoch: 5 [0/60000 (0%)]\tLoss: 0.002854\n",
      " Train Epoch: 5 [10000/60000 (17%)]\tLoss: 0.005621\n",
      " Train Epoch: 5 [20000/60000 (33%)]\tLoss: 0.004618\n",
      " Train Epoch: 5 [30000/60000 (50%)]\tLoss: 0.003733\n",
      " Train Epoch: 5 [40000/60000 (67%)]\tLoss: 0.003793\n",
      " Train Epoch: 5 [50000/60000 (83%)]\tLoss: 0.006029\n",
      " Train Epoch: 6 [0/60000 (0%)]\tLoss: 0.003956\n",
      " Train Epoch: 6 [10000/60000 (17%)]\tLoss: 0.002366\n",
      " Train Epoch: 6 [20000/60000 (33%)]\tLoss: 0.002057\n",
      " Train Epoch: 6 [30000/60000 (50%)]\tLoss: 0.003528\n",
      " Train Epoch: 6 [40000/60000 (67%)]\tLoss: 0.004474\n",
      " Train Epoch: 6 [50000/60000 (83%)]\tLoss: 0.004253\n",
      " Train Epoch: 7 [0/60000 (0%)]\tLoss: 0.002234\n",
      " Train Epoch: 7 [10000/60000 (17%)]\tLoss: 0.002218\n",
      " Train Epoch: 7 [20000/60000 (33%)]\tLoss: 0.002784\n",
      " Train Epoch: 7 [30000/60000 (50%)]\tLoss: 0.003596\n",
      " Train Epoch: 7 [40000/60000 (67%)]\tLoss: 0.001216\n",
      " Train Epoch: 7 [50000/60000 (83%)]\tLoss: 0.001598\n",
      " Train Epoch: 8 [0/60000 (0%)]\tLoss: 0.001169\n",
      " Train Epoch: 8 [10000/60000 (17%)]\tLoss: 0.001628\n",
      " Train Epoch: 8 [20000/60000 (33%)]\tLoss: 0.001425\n",
      " Train Epoch: 8 [30000/60000 (50%)]\tLoss: 0.001104\n",
      " Train Epoch: 8 [40000/60000 (67%)]\tLoss: 0.001033\n",
      " Train Epoch: 8 [50000/60000 (83%)]\tLoss: 0.002226\n",
      " Train Epoch: 9 [0/60000 (0%)]\tLoss: 0.001027\n",
      " Train Epoch: 9 [10000/60000 (17%)]\tLoss: 0.000534\n",
      " Train Epoch: 9 [20000/60000 (33%)]\tLoss: 0.001045\n",
      " Train Epoch: 9 [30000/60000 (50%)]\tLoss: 0.001881\n",
      " Train Epoch: 9 [40000/60000 (67%)]\tLoss: 0.000954\n",
      " Train Epoch: 9 [50000/60000 (83%)]\tLoss: 0.000526\n",
      " Train Epoch: 10 [0/60000 (0%)]\tLoss: 0.001296\n",
      " Train Epoch: 10 [10000/60000 (17%)]\tLoss: 0.000614\n",
      " Train Epoch: 10 [20000/60000 (33%)]\tLoss: 0.000645\n",
      " Train Epoch: 10 [30000/60000 (50%)]\tLoss: 0.001230\n",
      " Train Epoch: 10 [40000/60000 (67%)]\tLoss: 0.000608\n",
      " Train Epoch: 10 [50000/60000 (83%)]\tLoss: 0.000637\n",
      " Train Epoch: 11 [0/60000 (0%)]\tLoss: 0.000462\n",
      " Train Epoch: 11 [10000/60000 (17%)]\tLoss: 0.001407\n",
      " Train Epoch: 11 [20000/60000 (33%)]\tLoss: 0.000301\n",
      " Train Epoch: 11 [30000/60000 (50%)]\tLoss: 0.000376\n",
      " Train Epoch: 11 [40000/60000 (67%)]\tLoss: 0.000250\n",
      " Train Epoch: 11 [50000/60000 (83%)]\tLoss: 0.000318\n",
      " Train Epoch: 12 [0/60000 (0%)]\tLoss: 0.000229\n",
      " Train Epoch: 12 [10000/60000 (17%)]\tLoss: 0.000277\n",
      " Train Epoch: 12 [20000/60000 (33%)]\tLoss: 0.000287\n",
      " Train Epoch: 12 [30000/60000 (50%)]\tLoss: 0.000307\n",
      " Train Epoch: 12 [40000/60000 (67%)]\tLoss: 0.000204\n",
      " Train Epoch: 12 [50000/60000 (83%)]\tLoss: 0.000181\n",
      " Train Epoch: 13 [0/60000 (0%)]\tLoss: 0.000210\n",
      " Train Epoch: 13 [10000/60000 (17%)]\tLoss: 0.000207\n",
      " Train Epoch: 13 [20000/60000 (33%)]\tLoss: 0.000218\n",
      " Train Epoch: 13 [30000/60000 (50%)]\tLoss: 0.000187\n",
      " Train Epoch: 13 [40000/60000 (67%)]\tLoss: 0.000172\n",
      " Train Epoch: 13 [50000/60000 (83%)]\tLoss: 0.000169\n",
      " Train Epoch: 14 [0/60000 (0%)]\tLoss: 0.000493\n",
      " Train Epoch: 14 [10000/60000 (17%)]\tLoss: 0.000137\n",
      " Train Epoch: 14 [20000/60000 (33%)]\tLoss: 0.000203\n",
      " Train Epoch: 14 [30000/60000 (50%)]\tLoss: 0.000620\n",
      " Train Epoch: 14 [40000/60000 (67%)]\tLoss: 0.000149\n",
      " Train Epoch: 14 [50000/60000 (83%)]\tLoss: 0.000113\n",
      " Train Epoch: 15 [0/60000 (0%)]\tLoss: 0.000405\n",
      " Train Epoch: 15 [10000/60000 (17%)]\tLoss: 0.000191\n",
      " Train Epoch: 15 [20000/60000 (33%)]\tLoss: 0.000138\n",
      " Train Epoch: 15 [30000/60000 (50%)]\tLoss: 0.000073\n",
      " Train Epoch: 15 [40000/60000 (67%)]\tLoss: 0.000721\n",
      " Train Epoch: 15 [50000/60000 (83%)]\tLoss: 0.000089\n",
      " Train Epoch: 16 [0/60000 (0%)]\tLoss: 0.000294\n",
      " Train Epoch: 16 [10000/60000 (17%)]\tLoss: 0.000148\n",
      " Train Epoch: 16 [20000/60000 (33%)]\tLoss: 0.000130\n",
      " Train Epoch: 16 [30000/60000 (50%)]\tLoss: 0.000152\n",
      " Train Epoch: 16 [40000/60000 (67%)]\tLoss: 0.000126\n",
      " Train Epoch: 16 [50000/60000 (83%)]\tLoss: 0.000114\n",
      " Train Epoch: 17 [0/60000 (0%)]\tLoss: 0.000084\n",
      " Train Epoch: 17 [10000/60000 (17%)]\tLoss: 0.000077\n",
      " Train Epoch: 17 [20000/60000 (33%)]\tLoss: 0.000071\n",
      " Train Epoch: 17 [30000/60000 (50%)]\tLoss: 0.000085\n",
      " Train Epoch: 17 [40000/60000 (67%)]\tLoss: 0.000135\n",
      " Train Epoch: 17 [50000/60000 (83%)]\tLoss: 0.000105\n",
      " Train Epoch: 18 [0/60000 (0%)]\tLoss: 0.000095\n",
      " Train Epoch: 18 [10000/60000 (17%)]\tLoss: 0.000082\n",
      " Train Epoch: 18 [20000/60000 (33%)]\tLoss: 0.000100\n",
      " Train Epoch: 18 [30000/60000 (50%)]\tLoss: 0.000087\n",
      " Train Epoch: 18 [40000/60000 (67%)]\tLoss: 0.000073\n",
      " Train Epoch: 18 [50000/60000 (83%)]\tLoss: 0.000091\n",
      " Train Epoch: 19 [0/60000 (0%)]\tLoss: 0.000136\n",
      " Train Epoch: 19 [10000/60000 (17%)]\tLoss: 0.000092\n",
      " Train Epoch: 19 [20000/60000 (33%)]\tLoss: 0.000083\n",
      " Train Epoch: 19 [30000/60000 (50%)]\tLoss: 0.000088\n",
      " Train Epoch: 19 [40000/60000 (67%)]\tLoss: 0.000070\n",
      " Train Epoch: 19 [50000/60000 (83%)]\tLoss: 0.000077"
     ]
    }
   ],
   "source": [
    "losses = train(model, 20, train_loader, device)"
   ]
  },
  {
   "cell_type": "code",
   "execution_count": 116,
   "id": "43c75586",
   "metadata": {},
   "outputs": [
    {
     "data": {
      "text/plain": [
       "[<matplotlib.lines.Line2D at 0x7f9399f36850>]"
      ]
     },
     "execution_count": 116,
     "metadata": {},
     "output_type": "execute_result"
    },
    {
     "data": {
      "image/png": "[encoded data removed]",
      "text/plain": [
       "<Figure size 432x288 with 1 Axes>"
      ]
     },
     "metadata": {
      "needs_background": "light"
     },
     "output_type": "display_data"
    }
   ],
   "source": [
    "plt.plot(losses)"
   ]
  },
  {
   "cell_type": "code",
   "execution_count": 114,
   "id": "a876716f",
   "metadata": {},
   "outputs": [
    {
     "data": {
      "text/plain": [
       "0.9793"
      ]
     },
     "execution_count": 114,
     "metadata": {},
     "output_type": "execute_result"
    }
   ],
   "source": [
    "# testing accuracy\n",
    "def accuracy(model, test_loader, device):\n",
    "  model.eval()\n",
    "  totalcorrect = 0\n",
    "  total = 0\n",
    "  for batch_idx, (images, labels) in enumerate(test_loader):\n",
    "      images = images.to(device).view(-1, 28*28)\n",
    "      labels = labels.to(device)                \n",
    "      probs = model(images) \n",
    "      preds = probs.argmax(dim=1, keepdim=True)\n",
    "      correct = preds.eq(labels.view_as(preds)).sum().item()\n",
    "      totalcorrect += correct\n",
    "      total += len(labels)\n",
    "  return totalcorrect / total\n",
    "\n",
    "accuracy(model, test_loader, 'cuda')\n",
    "\n"
   ]
  },
  {
   "cell_type": "markdown",
   "id": "148a5ba9",
   "metadata": {},
   "source": [
    "[Performance of other models.](http://yann.lecun.com/exdb/mnist/)"
   ]
  },
  {
   "cell_type": "code",
   "execution_count": null,
   "id": "a7bb08ea",
   "metadata": {},
   "outputs": [],
   "source": []
  }
 ],
 "metadata": {
  "date": 1627429656.4709477,
  "filename": "regression.md",
  "interpreter": {
   "hash": "6fbdd1b0f6f7bf806920944b07d1c036c1041c574036a58ea98fdf4e23aebe6e"
  },
  "kernelspec": {
   "display_name": "Python 3.9.6 64-bit ('lecture-datascience': conda)",
   "name": "python3"
  },
  "language_info": {
   "codemirror_mode": {
    "name": "ipython",
    "version": 3
   },
   "file_extension": ".py",
   "mimetype": "text/x-python",
   "name": "python",
   "nbconvert_exporter": "python",
   "pygments_lexer": "ipython3",
   "version": "3.9.7"
  },
  "title": "Regression"
 },
 "nbformat": 4,
 "nbformat_minor": 5
}
