{
 "cells": [
  {
   "cell_type": "markdown",
   "id": "873abb05",
   "metadata": {},
   "source": [
    "# Classification with Neural Networks \n",
    "\n",
    "**Author**\n",
    "\n",
    "> - [Paul Schrimpf *UBC*](https://economics.ubc.ca/faculty-and-staff/paul-schrimpf/)  \n",
    "\n",
    "\n",
    "\n",
    "**Prerequisites**\n",
    "\n",
    "- [Classification](https://datascience.quantecon.org/../appplications/classification.html)  \n",
    "\n",
    "\n",
    "**Outcomes**\n",
    "\n",
    "- Use pytorch to classify images"
   ]
  },
  {
   "cell_type": "code",
   "execution_count": 1,
   "id": "d2b7dd38",
   "metadata": {
    "hide-output": false
   },
   "outputs": [],
   "source": [
    "# Uncomment following line to install on colab\n",
    "#! pip install torch torchvision # TODO: THERE MIGHT BE MORE NEEDED"
   ]
  },
  {
   "cell_type": "markdown",
   "id": "ef3f9573",
   "metadata": {},
   "source": [
    "## Introduction\n",
    "\n",
    "Neural networks can do a remarkably good job of recognizing images. We will explore a simple example here. \n",
    "\n",
    "A classic image recognition task is classifying hand written digits from the MNIST dataset."
   ]
  },
  {
   "cell_type": "markdown",
   "id": "1e1aec90",
   "metadata": {},
   "source": [
    "## Data: MNIST\n",
    "\n",
    "PyTorch includes convenient functions for downloading MNIST data."
   ]
  },
  {
   "cell_type": "code",
   "execution_count": 2,
   "id": "cb03f592",
   "metadata": {},
   "outputs": [],
   "source": [
    "import torch\n",
    "import torchvision\n",
    "import torch.nn as nn\n",
    "\n",
    "\n",
    "# define how image transformed\n",
    "image_transform = torchvision.transforms.Compose([\n",
    "                               torchvision.transforms.ToTensor(),\n",
    "                               torchvision.transforms.Normalize(\n",
    "                                 (0.1307,), (0.3081,))\n",
    "                             ])\n",
    "#image datasets\n",
    "train_dataset = torchvision.datasets.MNIST('dataset/', \n",
    "                                           train=True, \n",
    "                                           download=True,\n",
    "                                           transform=image_transform)\n",
    "test_dataset = torchvision.datasets.MNIST('dataset/', \n",
    "                                          train=False, \n",
    "                                          download=True,\n",
    "                                          transform=image_transform)\n"
   ]
  },
  {
   "cell_type": "markdown",
   "id": "50415a97",
   "metadata": {},
   "source": [
    "The MNIST data consists of 28 by 28 pixel grayscale images of hand written digits. Let's look at some of them."
   ]
  },
  {
   "cell_type": "code",
   "execution_count": 3,
   "id": "146f4fda",
   "metadata": {},
   "outputs": [
    {
     "data": {
      "image/png": "[encoded data removed]",
      "text/plain": [
       "<Figure size 432x432 with 9 Axes>"
      ]
     },
     "metadata": {
      "needs_background": "light"
     },
     "output_type": "display_data"
    }
   ],
   "source": [
    "import matplotlib.pyplot as plt\n",
    "fig, ax = plt.subplots(3, 3, figsize=(6, 6))\n",
    "for i, axi in enumerate(ax.flat):\n",
    "  axi.imshow(train_dataset[i][0][0,:,:], cmap='gray_r')\n",
    "  axi.set_title(train_dataset[i][1])\n",
    "  axi.set_axis_off()"
   ]
  },
  {
   "cell_type": "code",
   "execution_count": 7,
   "id": "ff45420f",
   "metadata": {},
   "outputs": [
    {
     "data": {
      "text/plain": [
       "tensor([[[-0.4242, -0.4242, -0.4242, -0.4242, -0.4242, -0.4242, -0.4242,\n",
       "          -0.4242, -0.4242, -0.4242, -0.4242, -0.4242, -0.4242, -0.4242,\n",
       "          -0.4242, -0.4242, -0.4242, -0.4242, -0.4242, -0.4242, -0.4242,\n",
       "          -0.4242, -0.4242, -0.4242, -0.4242, -0.4242, -0.4242, -0.4242],\n",
       "         [-0.4242, -0.4242, -0.4242, -0.4242, -0.4242, -0.4242, -0.4242,\n",
       "          -0.4242, -0.4242, -0.4242, -0.4242, -0.4242, -0.4242, -0.4242,\n",
       "          -0.4242, -0.4242, -0.4242, -0.4242, -0.4242, -0.4242, -0.4242,\n",
       "          -0.4242, -0.4242, -0.4242, -0.4242, -0.4242, -0.4242, -0.4242],\n",
       "         [-0.4242, -0.4242, -0.4242, -0.4242, -0.4242, -0.4242, -0.4242,\n",
       "          -0.4242, -0.4242, -0.4242, -0.4242, -0.4242, -0.4242, -0.4242,\n",
       "          -0.4242, -0.4242, -0.4242, -0.4242, -0.4242, -0.4242, -0.4242,\n",
       "          -0.4242, -0.4242, -0.4242, -0.4242, -0.4242, -0.4242, -0.4242],\n",
       "         [-0.4242, -0.4242, -0.4242, -0.4242, -0.4242, -0.4242, -0.4242,\n",
       "          -0.4242, -0.4242, -0.4242, -0.4242, -0.4242, -0.4242, -0.4242,\n",
       "          -0.4242, -0.4242, -0.4242, -0.4242, -0.4242, -0.4242, -0.4242,\n",
       "          -0.4242, -0.4242, -0.4242, -0.4242, -0.4242, -0.4242, -0.4242],\n",
       "         [-0.4242, -0.4242, -0.4242, -0.4242, -0.4242, -0.4242, -0.4242,\n",
       "          -0.4242, -0.4242, -0.4242, -0.4242, -0.4242, -0.4242, -0.4242,\n",
       "          -0.4242, -0.4242, -0.4242, -0.4242, -0.4242, -0.4242, -0.4242,\n",
       "          -0.4242, -0.4242, -0.4242, -0.4242, -0.4242, -0.4242, -0.4242],\n",
       "         [-0.4242, -0.4242, -0.4242, -0.4242, -0.4242, -0.4242, -0.4242,\n",
       "          -0.4242, -0.4242, -0.4242, -0.4242, -0.4242, -0.3860, -0.1951,\n",
       "          -0.1951, -0.1951,  1.1795,  1.3068,  1.8032, -0.0933,  1.6887,\n",
       "           2.8215,  2.7197,  1.1923, -0.4242, -0.4242, -0.4242, -0.4242],\n",
       "         [-0.4242, -0.4242, -0.4242, -0.4242, -0.4242, -0.4242, -0.4242,\n",
       "          -0.4242, -0.0424,  0.0340,  0.7722,  1.5359,  1.7396,  2.7960,\n",
       "           2.7960,  2.7960,  2.7960,  2.7960,  2.4396,  1.7650,  2.7960,\n",
       "           2.6560,  2.0578,  0.3904, -0.4242, -0.4242, -0.4242, -0.4242],\n",
       "         [-0.4242, -0.4242, -0.4242, -0.4242, -0.4242, -0.4242, -0.4242,\n",
       "           0.1995,  2.6051,  2.7960,  2.7960,  2.7960,  2.7960,  2.7960,\n",
       "           2.7960,  2.7960,  2.7960,  2.7706,  0.7595,  0.6195,  0.6195,\n",
       "           0.2886,  0.0722, -0.4242, -0.4242, -0.4242, -0.4242, -0.4242],\n",
       "         [-0.4242, -0.4242, -0.4242, -0.4242, -0.4242, -0.4242, -0.4242,\n",
       "          -0.1951,  2.3633,  2.7960,  2.7960,  2.7960,  2.7960,  2.7960,\n",
       "           2.0960,  1.8923,  2.7197,  2.6433, -0.4242, -0.4242, -0.4242,\n",
       "          -0.4242, -0.4242, -0.4242, -0.4242, -0.4242, -0.4242, -0.4242],\n",
       "         [-0.4242, -0.4242, -0.4242, -0.4242, -0.4242, -0.4242, -0.4242,\n",
       "          -0.4242,  0.5940,  1.5614,  0.9377,  2.7960,  2.7960,  2.1851,\n",
       "          -0.2842, -0.4242,  0.1231,  1.5359, -0.4242, -0.4242, -0.4242,\n",
       "          -0.4242, -0.4242, -0.4242, -0.4242, -0.4242, -0.4242, -0.4242],\n",
       "         [-0.4242, -0.4242, -0.4242, -0.4242, -0.4242, -0.4242, -0.4242,\n",
       "          -0.4242, -0.4242, -0.2460, -0.4115,  1.5359,  2.7960,  0.7213,\n",
       "          -0.4242, -0.4242, -0.4242, -0.4242, -0.4242, -0.4242, -0.4242,\n",
       "          -0.4242, -0.4242, -0.4242, -0.4242, -0.4242, -0.4242, -0.4242],\n",
       "         [-0.4242, -0.4242, -0.4242, -0.4242, -0.4242, -0.4242, -0.4242,\n",
       "          -0.4242, -0.4242, -0.4242, -0.4242,  1.3450,  2.7960,  1.9942,\n",
       "          -0.3988, -0.4242, -0.4242, -0.4242, -0.4242, -0.4242, -0.4242,\n",
       "          -0.4242, -0.4242, -0.4242, -0.4242, -0.4242, -0.4242, -0.4242],\n",
       "         [-0.4242, -0.4242, -0.4242, -0.4242, -0.4242, -0.4242, -0.4242,\n",
       "          -0.4242, -0.4242, -0.4242, -0.4242, -0.2842,  1.9942,  2.7960,\n",
       "           0.4668, -0.4242, -0.4242, -0.4242, -0.4242, -0.4242, -0.4242,\n",
       "          -0.4242, -0.4242, -0.4242, -0.4242, -0.4242, -0.4242, -0.4242],\n",
       "         [-0.4242, -0.4242, -0.4242, -0.4242, -0.4242, -0.4242, -0.4242,\n",
       "          -0.4242, -0.4242, -0.4242, -0.4242, -0.4242,  0.0213,  2.6433,\n",
       "           2.4396,  1.6123,  0.9504, -0.4115, -0.4242, -0.4242, -0.4242,\n",
       "          -0.4242, -0.4242, -0.4242, -0.4242, -0.4242, -0.4242, -0.4242],\n",
       "         [-0.4242, -0.4242, -0.4242, -0.4242, -0.4242, -0.4242, -0.4242,\n",
       "          -0.4242, -0.4242, -0.4242, -0.4242, -0.4242, -0.4242,  0.6068,\n",
       "           2.6306,  2.7960,  2.7960,  1.0904, -0.1060, -0.4242, -0.4242,\n",
       "          -0.4242, -0.4242, -0.4242, -0.4242, -0.4242, -0.4242, -0.4242],\n",
       "         [-0.4242, -0.4242, -0.4242, -0.4242, -0.4242, -0.4242, -0.4242,\n",
       "          -0.4242, -0.4242, -0.4242, -0.4242, -0.4242, -0.4242, -0.4242,\n",
       "           0.1486,  1.9432,  2.7960,  2.7960,  1.4850, -0.0806, -0.4242,\n",
       "          -0.4242, -0.4242, -0.4242, -0.4242, -0.4242, -0.4242, -0.4242],\n",
       "         [-0.4242, -0.4242, -0.4242, -0.4242, -0.4242, -0.4242, -0.4242,\n",
       "          -0.4242, -0.4242, -0.4242, -0.4242, -0.4242, -0.4242, -0.4242,\n",
       "          -0.4242, -0.2206,  0.7595,  2.7833,  2.7960,  1.9560, -0.4242,\n",
       "          -0.4242, -0.4242, -0.4242, -0.4242, -0.4242, -0.4242, -0.4242],\n",
       "         [-0.4242, -0.4242, -0.4242, -0.4242, -0.4242, -0.4242, -0.4242,\n",
       "          -0.4242, -0.4242, -0.4242, -0.4242, -0.4242, -0.4242, -0.4242,\n",
       "          -0.4242, -0.4242, -0.4242,  2.7451,  2.7960,  2.7451,  0.3904,\n",
       "          -0.4242, -0.4242, -0.4242, -0.4242, -0.4242, -0.4242, -0.4242],\n",
       "         [-0.4242, -0.4242, -0.4242, -0.4242, -0.4242, -0.4242, -0.4242,\n",
       "          -0.4242, -0.4242, -0.4242, -0.4242, -0.4242, -0.4242, -0.4242,\n",
       "           0.1613,  1.2305,  1.9051,  2.7960,  2.7960,  2.2105, -0.3988,\n",
       "          -0.4242, -0.4242, -0.4242, -0.4242, -0.4242, -0.4242, -0.4242],\n",
       "         [-0.4242, -0.4242, -0.4242, -0.4242, -0.4242, -0.4242, -0.4242,\n",
       "          -0.4242, -0.4242, -0.4242, -0.4242, -0.4242,  0.0722,  1.4596,\n",
       "           2.4906,  2.7960,  2.7960,  2.7960,  2.7578,  1.8923, -0.4242,\n",
       "          -0.4242, -0.4242, -0.4242, -0.4242, -0.4242, -0.4242, -0.4242],\n",
       "         [-0.4242, -0.4242, -0.4242, -0.4242, -0.4242, -0.4242, -0.4242,\n",
       "          -0.4242, -0.4242, -0.4242, -0.1187,  1.0268,  2.3887,  2.7960,\n",
       "           2.7960,  2.7960,  2.7960,  2.1342,  0.5686, -0.4242, -0.4242,\n",
       "          -0.4242, -0.4242, -0.4242, -0.4242, -0.4242, -0.4242, -0.4242],\n",
       "         [-0.4242, -0.4242, -0.4242, -0.4242, -0.4242, -0.4242, -0.4242,\n",
       "          -0.4242, -0.1315,  0.4159,  2.2869,  2.7960,  2.7960,  2.7960,\n",
       "           2.7960,  2.0960,  0.6068, -0.3988, -0.4242, -0.4242, -0.4242,\n",
       "          -0.4242, -0.4242, -0.4242, -0.4242, -0.4242, -0.4242, -0.4242],\n",
       "         [-0.4242, -0.4242, -0.4242, -0.4242, -0.4242, -0.4242, -0.1951,\n",
       "           1.7523,  2.3633,  2.7960,  2.7960,  2.7960,  2.7960,  2.0578,\n",
       "           0.5940, -0.3097, -0.4242, -0.4242, -0.4242, -0.4242, -0.4242,\n",
       "          -0.4242, -0.4242, -0.4242, -0.4242, -0.4242, -0.4242, -0.4242],\n",
       "         [-0.4242, -0.4242, -0.4242, -0.4242,  0.2758,  1.7650,  2.4524,\n",
       "           2.7960,  2.7960,  2.7960,  2.7960,  2.6815,  1.2686, -0.2842,\n",
       "          -0.4242, -0.4242, -0.4242, -0.4242, -0.4242, -0.4242, -0.4242,\n",
       "          -0.4242, -0.4242, -0.4242, -0.4242, -0.4242, -0.4242, -0.4242],\n",
       "         [-0.4242, -0.4242, -0.4242, -0.4242,  1.3068,  2.7960,  2.7960,\n",
       "           2.7960,  2.2742,  1.2941,  1.2559, -0.2206, -0.4242, -0.4242,\n",
       "          -0.4242, -0.4242, -0.4242, -0.4242, -0.4242, -0.4242, -0.4242,\n",
       "          -0.4242, -0.4242, -0.4242, -0.4242, -0.4242, -0.4242, -0.4242],\n",
       "         [-0.4242, -0.4242, -0.4242, -0.4242, -0.4242, -0.4242, -0.4242,\n",
       "          -0.4242, -0.4242, -0.4242, -0.4242, -0.4242, -0.4242, -0.4242,\n",
       "          -0.4242, -0.4242, -0.4242, -0.4242, -0.4242, -0.4242, -0.4242,\n",
       "          -0.4242, -0.4242, -0.4242, -0.4242, -0.4242, -0.4242, -0.4242],\n",
       "         [-0.4242, -0.4242, -0.4242, -0.4242, -0.4242, -0.4242, -0.4242,\n",
       "          -0.4242, -0.4242, -0.4242, -0.4242, -0.4242, -0.4242, -0.4242,\n",
       "          -0.4242, -0.4242, -0.4242, -0.4242, -0.4242, -0.4242, -0.4242,\n",
       "          -0.4242, -0.4242, -0.4242, -0.4242, -0.4242, -0.4242, -0.4242],\n",
       "         [-0.4242, -0.4242, -0.4242, -0.4242, -0.4242, -0.4242, -0.4242,\n",
       "          -0.4242, -0.4242, -0.4242, -0.4242, -0.4242, -0.4242, -0.4242,\n",
       "          -0.4242, -0.4242, -0.4242, -0.4242, -0.4242, -0.4242, -0.4242,\n",
       "          -0.4242, -0.4242, -0.4242, -0.4242, -0.4242, -0.4242, -0.4242]]])"
      ]
     },
     "execution_count": 7,
     "metadata": {},
     "output_type": "execute_result"
    }
   ],
   "source": [
    "train_dataset[0][0]"
   ]
  },
  {
   "cell_type": "markdown",
   "id": "887aaa3e",
   "metadata": {},
   "source": [
    "We now define our classification model. We will use a feed forward neural network. "
   ]
  },
  {
   "cell_type": "code",
   "execution_count": 8,
   "id": "167d8916",
   "metadata": {},
   "outputs": [],
   "source": [
    "import itertools\n",
    "\n",
    "device = 'cuda'\n",
    "layers = [128, 64, 32] \n",
    "cmgslayers = [2500, 2000, 1500, 1000, 500]  # Ciresan et al (2010) architecture\n",
    "\n",
    "def createmodel(layers):\n",
    "  model = nn.Sequential(\n",
    "    nn.Linear(28*28, layers[0]),\n",
    "    nn.ReLU(),\n",
    "    *itertools.chain.from_iterable(zip( (nn.Linear(layers[i-1], layers[i]) for i in range(1, len(layers))),\n",
    "          (nn.ReLU() for i in range(1, len(layers))) )),\n",
    "    nn.Linear(layers[-1], 10),\n",
    "    nn.LogSoftmax(dim=1)\n",
    "  )\n",
    "  return model\n",
    "\n",
    "model = createmodel(layers).to(device)"
   ]
  },
  {
   "cell_type": "code",
   "execution_count": 9,
   "id": "35a6223d",
   "metadata": {},
   "outputs": [
    {
     "data": {
      "text/plain": [
       "Sequential(\n",
       "  (0): Linear(in_features=784, out_features=128, bias=True)\n",
       "  (1): ReLU()\n",
       "  (2): Linear(in_features=128, out_features=64, bias=True)\n",
       "  (3): ReLU()\n",
       "  (4): Linear(in_features=64, out_features=32, bias=True)\n",
       "  (5): ReLU()\n",
       "  (6): Linear(in_features=32, out_features=10, bias=True)\n",
       "  (7): LogSoftmax(dim=1)\n",
       ")"
      ]
     },
     "execution_count": 9,
     "metadata": {},
     "output_type": "execute_result"
    }
   ],
   "source": [
    "model"
   ]
  },
  {
   "cell_type": "code",
   "execution_count": 11,
   "id": "59de337a",
   "metadata": {},
   "outputs": [
    {
     "data": {
      "text/plain": [
       "111146"
      ]
     },
     "execution_count": 11,
     "metadata": {},
     "output_type": "execute_result"
    }
   ],
   "source": [
    "import numpy as np\n",
    "sum([np.prod(p.shape) for p in model.parameters()])"
   ]
  },
  {
   "cell_type": "code",
   "execution_count": 14,
   "id": "e1b81760",
   "metadata": {},
   "outputs": [],
   "source": [
    "# prepare data for training \n",
    "batch_size_train = 5000  \n",
    "batch_size_test = 5000 \n",
    "\n",
    "train_loader = torch.utils.data.DataLoader(train_dataset,\n",
    "                                           batch_size=batch_size_train, \n",
    "                                           shuffle=True)\n",
    "test_loader = torch.utils.data.DataLoader(test_dataset,\n",
    "                                          batch_size=batch_size_test, \n",
    "                                          shuffle=True)"
   ]
  },
  {
   "cell_type": "code",
   "execution_count": 15,
   "id": "36a76609",
   "metadata": {},
   "outputs": [],
   "source": [
    "# training\n",
    "def train(model, epochs, train_loader, device):\n",
    "  optimizer = torch.optim.Adam(model.parameters(), lr=0.01)\n",
    "  model.train()\n",
    "\n",
    "  losses = []\n",
    "  for epoch in range(epochs):\n",
    "    for batch_idx, (images, labels) in enumerate(train_loader):\n",
    "      images = images.to(device).view(-1, 28*28)\n",
    "      labels = labels.to(device)          \n",
    "      optimizer.zero_grad()\n",
    "      probs = model(images) \n",
    "      loss = nn.functional.cross_entropy(probs, labels)\n",
    "      losses.append(loss.to('cpu').item())\n",
    "      loss.backward()\n",
    "      optimizer.step()\n",
    "                \n",
    "      \n",
    "      if batch_idx % (len(train_loader)//10 +1) == 0:\n",
    "        print('\\n Train Epoch: {} [{}/{} ({:.0f}%)]\\tLoss: {:.6f}'.format(\n",
    "                epoch, \n",
    "                batch_idx * len(images), \n",
    "                len(train_loader.dataset),\n",
    "                100. * batch_idx / len(train_loader), \n",
    "                loss), \n",
    "                end='')\n",
    "            \n",
    "  return losses"
   ]
  },
  {
   "cell_type": "code",
   "execution_count": 16,
   "id": "f87f3bb1",
   "metadata": {},
   "outputs": [
    {
     "name": "stdout",
     "output_type": "stream",
     "text": [
      "\n",
      " Train Epoch: 0 [0/60000 (0%)]\tLoss: 2.306690\n",
      " Train Epoch: 0 [10000/60000 (17%)]\tLoss: 1.979540\n",
      " Train Epoch: 0 [20000/60000 (33%)]\tLoss: 1.453545\n",
      " Train Epoch: 0 [30000/60000 (50%)]\tLoss: 1.149271\n",
      " Train Epoch: 0 [40000/60000 (67%)]\tLoss: 1.051019\n",
      " Train Epoch: 0 [50000/60000 (83%)]\tLoss: 0.780881\n",
      " Train Epoch: 1 [0/60000 (0%)]\tLoss: 0.720273\n",
      " Train Epoch: 1 [10000/60000 (17%)]\tLoss: 0.524998\n",
      " Train Epoch: 1 [20000/60000 (33%)]\tLoss: 0.478066\n",
      " Train Epoch: 1 [30000/60000 (50%)]\tLoss: 0.447358\n",
      " Train Epoch: 1 [40000/60000 (67%)]\tLoss: 0.361017\n",
      " Train Epoch: 1 [50000/60000 (83%)]\tLoss: 0.348813\n",
      " Train Epoch: 2 [0/60000 (0%)]\tLoss: 0.309767\n",
      " Train Epoch: 2 [10000/60000 (17%)]\tLoss: 0.271601\n",
      " Train Epoch: 2 [20000/60000 (33%)]\tLoss: 0.250491\n",
      " Train Epoch: 2 [30000/60000 (50%)]\tLoss: 0.253282\n",
      " Train Epoch: 2 [40000/60000 (67%)]\tLoss: 0.241790\n",
      " Train Epoch: 2 [50000/60000 (83%)]\tLoss: 0.212565\n",
      " Train Epoch: 3 [0/60000 (0%)]\tLoss: 0.200218\n",
      " Train Epoch: 3 [10000/60000 (17%)]\tLoss: 0.186537\n",
      " Train Epoch: 3 [20000/60000 (33%)]\tLoss: 0.166008\n",
      " Train Epoch: 3 [30000/60000 (50%)]\tLoss: 0.173666\n",
      " Train Epoch: 3 [40000/60000 (67%)]\tLoss: 0.190511\n",
      " Train Epoch: 3 [50000/60000 (83%)]\tLoss: 0.175143\n",
      " Train Epoch: 4 [0/60000 (0%)]\tLoss: 0.143614\n",
      " Train Epoch: 4 [10000/60000 (17%)]\tLoss: 0.153544\n",
      " Train Epoch: 4 [20000/60000 (33%)]\tLoss: 0.126858\n",
      " Train Epoch: 4 [30000/60000 (50%)]\tLoss: 0.152102\n",
      " Train Epoch: 4 [40000/60000 (67%)]\tLoss: 0.143746\n",
      " Train Epoch: 4 [50000/60000 (83%)]\tLoss: 0.136913\n",
      " Train Epoch: 5 [0/60000 (0%)]\tLoss: 0.121637\n",
      " Train Epoch: 5 [10000/60000 (17%)]\tLoss: 0.118079\n",
      " Train Epoch: 5 [20000/60000 (33%)]\tLoss: 0.123639\n",
      " Train Epoch: 5 [30000/60000 (50%)]\tLoss: 0.104057\n",
      " Train Epoch: 5 [40000/60000 (67%)]\tLoss: 0.125497\n",
      " Train Epoch: 5 [50000/60000 (83%)]\tLoss: 0.114590\n",
      " Train Epoch: 6 [0/60000 (0%)]\tLoss: 0.103921\n",
      " Train Epoch: 6 [10000/60000 (17%)]\tLoss: 0.097672\n",
      " Train Epoch: 6 [20000/60000 (33%)]\tLoss: 0.097761\n",
      " Train Epoch: 6 [30000/60000 (50%)]\tLoss: 0.090581\n",
      " Train Epoch: 6 [40000/60000 (67%)]\tLoss: 0.091408\n",
      " Train Epoch: 6 [50000/60000 (83%)]\tLoss: 0.089293\n",
      " Train Epoch: 7 [0/60000 (0%)]\tLoss: 0.080067\n",
      " Train Epoch: 7 [10000/60000 (17%)]\tLoss: 0.069219\n",
      " Train Epoch: 7 [20000/60000 (33%)]\tLoss: 0.086358\n",
      " Train Epoch: 7 [30000/60000 (50%)]\tLoss: 0.085081\n",
      " Train Epoch: 7 [40000/60000 (67%)]\tLoss: 0.072092\n",
      " Train Epoch: 7 [50000/60000 (83%)]\tLoss: 0.078484\n",
      " Train Epoch: 8 [0/60000 (0%)]\tLoss: 0.068279\n",
      " Train Epoch: 8 [10000/60000 (17%)]\tLoss: 0.080915\n",
      " Train Epoch: 8 [20000/60000 (33%)]\tLoss: 0.075928\n",
      " Train Epoch: 8 [30000/60000 (50%)]\tLoss: 0.074719\n",
      " Train Epoch: 8 [40000/60000 (67%)]\tLoss: 0.070693\n",
      " Train Epoch: 8 [50000/60000 (83%)]\tLoss: 0.069273\n",
      " Train Epoch: 9 [0/60000 (0%)]\tLoss: 0.062256\n",
      " Train Epoch: 9 [10000/60000 (17%)]\tLoss: 0.065000\n",
      " Train Epoch: 9 [20000/60000 (33%)]\tLoss: 0.051086\n",
      " Train Epoch: 9 [30000/60000 (50%)]\tLoss: 0.055479\n",
      " Train Epoch: 9 [40000/60000 (67%)]\tLoss: 0.068017\n",
      " Train Epoch: 9 [50000/60000 (83%)]\tLoss: 0.069240\n",
      " Train Epoch: 10 [0/60000 (0%)]\tLoss: 0.059986\n",
      " Train Epoch: 10 [10000/60000 (17%)]\tLoss: 0.055149\n",
      " Train Epoch: 10 [20000/60000 (33%)]\tLoss: 0.061753\n",
      " Train Epoch: 10 [30000/60000 (50%)]\tLoss: 0.054953\n",
      " Train Epoch: 10 [40000/60000 (67%)]\tLoss: 0.040536\n",
      " Train Epoch: 10 [50000/60000 (83%)]\tLoss: 0.046765\n",
      " Train Epoch: 11 [0/60000 (0%)]\tLoss: 0.043622\n",
      " Train Epoch: 11 [10000/60000 (17%)]\tLoss: 0.042195\n",
      " Train Epoch: 11 [20000/60000 (33%)]\tLoss: 0.046197\n",
      " Train Epoch: 11 [30000/60000 (50%)]\tLoss: 0.041942\n",
      " Train Epoch: 11 [40000/60000 (67%)]\tLoss: 0.037955\n",
      " Train Epoch: 11 [50000/60000 (83%)]\tLoss: 0.047161\n",
      " Train Epoch: 12 [0/60000 (0%)]\tLoss: 0.035982\n",
      " Train Epoch: 12 [10000/60000 (17%)]\tLoss: 0.033852\n",
      " Train Epoch: 12 [20000/60000 (33%)]\tLoss: 0.043251\n",
      " Train Epoch: 12 [30000/60000 (50%)]\tLoss: 0.037801\n",
      " Train Epoch: 12 [40000/60000 (67%)]\tLoss: 0.037415\n",
      " Train Epoch: 12 [50000/60000 (83%)]\tLoss: 0.042371\n",
      " Train Epoch: 13 [0/60000 (0%)]\tLoss: 0.037627\n",
      " Train Epoch: 13 [10000/60000 (17%)]\tLoss: 0.037040\n",
      " Train Epoch: 13 [20000/60000 (33%)]\tLoss: 0.026912\n",
      " Train Epoch: 13 [30000/60000 (50%)]\tLoss: 0.031747\n",
      " Train Epoch: 13 [40000/60000 (67%)]\tLoss: 0.032563\n",
      " Train Epoch: 13 [50000/60000 (83%)]\tLoss: 0.032536\n",
      " Train Epoch: 14 [0/60000 (0%)]\tLoss: 0.027493\n",
      " Train Epoch: 14 [10000/60000 (17%)]\tLoss: 0.028376\n",
      " Train Epoch: 14 [20000/60000 (33%)]\tLoss: 0.026540\n",
      " Train Epoch: 14 [30000/60000 (50%)]\tLoss: 0.026599\n",
      " Train Epoch: 14 [40000/60000 (67%)]\tLoss: 0.030299\n",
      " Train Epoch: 14 [50000/60000 (83%)]\tLoss: 0.039685\n",
      " Train Epoch: 15 [0/60000 (0%)]\tLoss: 0.023636\n",
      " Train Epoch: 15 [10000/60000 (17%)]\tLoss: 0.025198\n",
      " Train Epoch: 15 [20000/60000 (33%)]\tLoss: 0.025869\n",
      " Train Epoch: 15 [30000/60000 (50%)]\tLoss: 0.028836\n",
      " Train Epoch: 15 [40000/60000 (67%)]\tLoss: 0.025487\n",
      " Train Epoch: 15 [50000/60000 (83%)]\tLoss: 0.022332\n",
      " Train Epoch: 16 [0/60000 (0%)]\tLoss: 0.020567\n",
      " Train Epoch: 16 [10000/60000 (17%)]\tLoss: 0.018238\n",
      " Train Epoch: 16 [20000/60000 (33%)]\tLoss: 0.019111\n",
      " Train Epoch: 16 [30000/60000 (50%)]\tLoss: 0.026696\n",
      " Train Epoch: 16 [40000/60000 (67%)]\tLoss: 0.018692\n",
      " Train Epoch: 16 [50000/60000 (83%)]\tLoss: 0.022070\n",
      " Train Epoch: 17 [0/60000 (0%)]\tLoss: 0.018877\n",
      " Train Epoch: 17 [10000/60000 (17%)]\tLoss: 0.017337\n",
      " Train Epoch: 17 [20000/60000 (33%)]\tLoss: 0.015233\n",
      " Train Epoch: 17 [30000/60000 (50%)]\tLoss: 0.020733\n",
      " Train Epoch: 17 [40000/60000 (67%)]\tLoss: 0.019319\n",
      " Train Epoch: 17 [50000/60000 (83%)]\tLoss: 0.015787\n",
      " Train Epoch: 18 [0/60000 (0%)]\tLoss: 0.012947\n",
      " Train Epoch: 18 [10000/60000 (17%)]\tLoss: 0.019612\n",
      " Train Epoch: 18 [20000/60000 (33%)]\tLoss: 0.019128\n",
      " Train Epoch: 18 [30000/60000 (50%)]\tLoss: 0.013235\n",
      " Train Epoch: 18 [40000/60000 (67%)]\tLoss: 0.019073\n",
      " Train Epoch: 18 [50000/60000 (83%)]\tLoss: 0.016656\n",
      " Train Epoch: 19 [0/60000 (0%)]\tLoss: 0.011850\n",
      " Train Epoch: 19 [10000/60000 (17%)]\tLoss: 0.020060\n",
      " Train Epoch: 19 [20000/60000 (33%)]\tLoss: 0.013970\n",
      " Train Epoch: 19 [30000/60000 (50%)]\tLoss: 0.014649\n",
      " Train Epoch: 19 [40000/60000 (67%)]\tLoss: 0.011412\n",
      " Train Epoch: 19 [50000/60000 (83%)]\tLoss: 0.022255"
     ]
    }
   ],
   "source": [
    "losses = train(model, 20, train_loader, device)"
   ]
  },
  {
   "cell_type": "code",
   "execution_count": 17,
   "id": "43c75586",
   "metadata": {},
   "outputs": [
    {
     "data": {
      "text/plain": [
       "[<matplotlib.lines.Line2D at 0x7f49a0c73430>]"
      ]
     },
     "execution_count": 17,
     "metadata": {},
     "output_type": "execute_result"
    },
    {
     "data": {
      "image/png": "[encoded data removed]",
      "text/plain": [
       "<Figure size 432x288 with 1 Axes>"
      ]
     },
     "metadata": {
      "needs_background": "light"
     },
     "output_type": "display_data"
    }
   ],
   "source": [
    "plt.plot(losses)"
   ]
  },
  {
   "cell_type": "code",
   "execution_count": 18,
   "id": "a876716f",
   "metadata": {},
   "outputs": [
    {
     "data": {
      "text/plain": [
       "0.9745"
      ]
     },
     "execution_count": 18,
     "metadata": {},
     "output_type": "execute_result"
    }
   ],
   "source": [
    "# testing accuracy\n",
    "def accuracy(model, test_loader, device):\n",
    "  model.eval()\n",
    "  totalcorrect = 0\n",
    "  total = 0\n",
    "  for batch_idx, (images, labels) in enumerate(test_loader):\n",
    "      images = images.to(device).view(-1, 28*28)\n",
    "      labels = labels.to(device)                \n",
    "      probs = model(images) \n",
    "      preds = probs.argmax(dim=1, keepdim=True)\n",
    "      correct = preds.eq(labels.view_as(preds)).sum().item()\n",
    "      totalcorrect += correct\n",
    "      total += len(labels)\n",
    "  return totalcorrect / total\n",
    "\n",
    "accuracy(model, test_loader, 'cuda')\n",
    "\n"
   ]
  },
  {
   "cell_type": "markdown",
   "id": "148a5ba9",
   "metadata": {},
   "source": [
    "[Performance of other models.](http://yann.lecun.com/exdb/mnist/)"
   ]
  },
  {
   "cell_type": "code",
   "execution_count": null,
   "id": "a7bb08ea",
   "metadata": {},
   "outputs": [],
   "source": []
  }
 ],
 "metadata": {
  "date": 1627429656.4709477,
  "filename": "regression.md",
  "interpreter": {
   "hash": "6fbdd1b0f6f7bf806920944b07d1c036c1041c574036a58ea98fdf4e23aebe6e"
  },
  "kernelspec": {
   "display_name": "Python 3.9.6 64-bit ('lecture-datascience': conda)",
   "name": "python3"
  },
  "language_info": {
   "codemirror_mode": {
    "name": "ipython",
    "version": 3
   },
   "file_extension": ".py",
   "mimetype": "text/x-python",
   "name": "python",
   "nbconvert_exporter": "python",
   "pygments_lexer": "ipython3",
   "version": "3.9.7"
  },
  "title": "Regression"
 },
 "nbformat": 4,
 "nbformat_minor": 5
}
