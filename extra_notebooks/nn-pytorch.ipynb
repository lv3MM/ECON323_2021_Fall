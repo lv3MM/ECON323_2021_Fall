{
 "cells": [
  {
   "cell_type": "markdown",
   "id": "873abb05",
   "metadata": {},
   "source": [
    "# Larger Neural Networks \n",
    "\n",
    "**Author**\n",
    "\n",
    "> - [Paul Schrimpf *UBC*](https://economics.ubc.ca/faculty-and-staff/paul-schrimpf/)  \n",
    "\n",
    "\n",
    "\n",
    "**Prerequisites**\n",
    "\n",
    "- [Regression](https://datascience.quantecon.org/../appplications/regression.html)  \n",
    "\n",
    "\n",
    "**Outcomes**\n",
    "\n",
    "- Use pytorch to fit multi-layer perceptrons"
   ]
  },
  {
   "cell_type": "code",
   "execution_count": 1,
   "id": "d2b7dd38",
   "metadata": {
    "hide-output": false
   },
   "outputs": [],
   "source": [
    "# Uncomment following line to install on colab\n",
    "#! pip install pytorch"
   ]
  },
  {
   "cell_type": "markdown",
   "id": "ef3f9573",
   "metadata": {},
   "source": [
    "## Introduction\n",
    "\n",
    "State of the art neural networks have billions of parameters and are trained with billions of parameters. For example, GPT-3, a well-known deep learning model for natural language, has 175 billion parameters and was was trained on about 500 billion observations. \n",
    "\n",
    "Efficient computing is essential to fit such large models. Efficient code that can be run in parallel on multiple GPUs is needed. scikit-learn cannot do this. Fortunately, there are high quality python packages that can. The two most widely used are TensorFlow and PyTorch. \n",
    "\n",
    "This notebook will go over the basics of PyTorch. While we won't be able to fit models as large as GPT-3 ([unless you have a few million dollars to rent GPUs](https://lambdalabs.com/blog/demystifying-gpt-3/#1)), working with models with millions of parameters is very feasible. "
   ]
  },
  {
   "cell_type": "markdown",
   "id": "1e1aec90",
   "metadata": {},
   "source": [
    "### Dataset\n",
    "\n",
    "To begin with, we will use the same King County housing price data as in the regression lecture. "
   ]
  },
  {
   "cell_type": "markdown",
   "id": "3a329247",
   "metadata": {},
   "source": [
    "This dataset contains sales prices on houses in King County (which\n",
    "includes Seattle),\n",
    "Washington, from May 2014 to May 2015.\n",
    "\n",
    "The data comes from\n",
    "[Kaggle](https://www.kaggle.com/harlfoxem/housesalesprediction) . Variable definitions and additional documentation are available at that link."
   ]
  },
  {
   "cell_type": "code",
   "execution_count": 2,
   "id": "29ccc821",
   "metadata": {
    "hide-output": false
   },
   "outputs": [],
   "source": [
    "import pandas as pd\n",
    "import numpy as np\n",
    "import matplotlib.pyplot as plt\n",
    "\n",
    "from sklearn import model_selection\n",
    "\n",
    "def kc_house_data(url = \"https://datascience.quantecon.org/assets/data/kc_house_data.csv\"):\n",
    "    df = pd.read_csv(url)\n",
    "    X = df.drop([\"price\", \"date\", \"id\"], axis=1).copy()\n",
    "    # convert everything to be a float for later on\n",
    "    for col in list(X):\n",
    "            X[col] = X[col].astype(float)\n",
    "    y = np.log(df[\"price\"])\n",
    "    df[\"log_price\"] = y    \n",
    "    return(X, y, df)\n",
    "\n",
    "X, y, df = kc_house_data()\n",
    "\n",
    "X_train, X_test, y_train, y_test = model_selection.train_test_split(X, y, test_size=0.25)"
   ]
  },
  {
   "cell_type": "markdown",
   "id": "4b615c8c",
   "metadata": {},
   "source": [
    "### scikit-learn\n",
    "\n",
    "Now let's use scikit-learn to fit the same model as in the `regression` notebook.\n",
    "\n",
    "This is a feed forward network with two layers consisting of 30 and 20 units. "
   ]
  },
  {
   "cell_type": "code",
   "execution_count": 106,
   "id": "c047a297",
   "metadata": {
    "hide-output": false
   },
   "outputs": [],
   "source": [
    "from sklearn import neural_network, preprocessing, pipeline, metrics\n",
    "\n",
    "nn_scaled_model = pipeline.make_pipeline(\n",
    "    preprocessing.StandardScaler(),  \n",
    "    neural_network.MLPRegressor((30, 20), \n",
    "    # we'll specify some options, but except for verbose, these are the defaults\n",
    "                                activation='relu', \n",
    "                                solver='adam', alpha=0.0,\n",
    "                                batch_size=200, verbose=False, max_iter=200) \n",
    ")"
   ]
  },
  {
   "cell_type": "markdown",
   "id": "cee9ede3",
   "metadata": {},
   "source": [
    "This model is not that big, so we can fit in a reasonable amount of time using scikit-learn."
   ]
  },
  {
   "cell_type": "code",
   "execution_count": 107,
   "id": "5aa554e0",
   "metadata": {},
   "outputs": [
    {
     "name": "stdout",
     "output_type": "stream",
     "text": [
      "Iteration 1, loss = 43.39193093\n",
      "Iteration 2, loss = 5.13340433\n",
      "Iteration 3, loss = 2.10395002\n",
      "Iteration 4, loss = 1.39677173\n",
      "Iteration 5, loss = 1.06140329\n",
      "Iteration 6, loss = 0.84967567\n",
      "Iteration 7, loss = 0.69311232\n",
      "Iteration 8, loss = 0.56785824\n",
      "Iteration 9, loss = 0.46136917\n",
      "Iteration 10, loss = 0.36982295\n",
      "Iteration 11, loss = 0.29270858\n",
      "Iteration 12, loss = 0.23141861\n",
      "Iteration 13, loss = 0.18287467\n",
      "Iteration 14, loss = 0.14634622\n",
      "Iteration 15, loss = 0.11995077\n",
      "Iteration 16, loss = 0.09990708\n",
      "Iteration 17, loss = 0.08540047\n",
      "Iteration 18, loss = 0.07463523\n",
      "Iteration 19, loss = 0.06554504\n",
      "Iteration 20, loss = 0.05950341\n",
      "Iteration 21, loss = 0.05390285\n",
      "Iteration 22, loss = 0.04940201\n",
      "Iteration 23, loss = 0.04650931\n",
      "Iteration 24, loss = 0.04316570\n",
      "Iteration 25, loss = 0.04075892\n",
      "Iteration 26, loss = 0.03884149\n",
      "Iteration 27, loss = 0.03687895\n",
      "Iteration 28, loss = 0.03571060\n",
      "Iteration 29, loss = 0.03451115\n",
      "Iteration 30, loss = 0.03334200\n",
      "Iteration 31, loss = 0.03261639\n",
      "Iteration 32, loss = 0.03172085\n",
      "Iteration 33, loss = 0.03120840\n",
      "Iteration 34, loss = 0.03048789\n",
      "Iteration 35, loss = 0.03020736\n",
      "Iteration 36, loss = 0.02934921\n",
      "Iteration 37, loss = 0.03212186\n",
      "Iteration 38, loss = 0.02878200\n",
      "Iteration 39, loss = 0.02845860\n",
      "Iteration 40, loss = 0.02798980\n",
      "Iteration 41, loss = 0.02756265\n",
      "Iteration 42, loss = 0.02734575\n",
      "Iteration 43, loss = 0.02693949\n",
      "Iteration 44, loss = 0.02639991\n",
      "Iteration 45, loss = 0.02618549\n",
      "Iteration 46, loss = 0.02563615\n",
      "Iteration 47, loss = 0.02518329\n",
      "Iteration 48, loss = 0.02462504\n",
      "Iteration 49, loss = 0.02390249\n",
      "Iteration 50, loss = 0.02333043\n",
      "Iteration 51, loss = 0.02283819\n",
      "Iteration 52, loss = 0.02241711\n",
      "Iteration 53, loss = 0.02199942\n",
      "Iteration 54, loss = 0.02131375\n",
      "Iteration 55, loss = 0.02093117\n",
      "Iteration 56, loss = 0.02063012\n",
      "Iteration 57, loss = 0.02016022\n",
      "Iteration 58, loss = 0.01968622\n",
      "Iteration 59, loss = 0.01972864\n",
      "Iteration 60, loss = 0.01975378\n",
      "Iteration 61, loss = 0.01970374\n",
      "Iteration 62, loss = 0.01900770\n",
      "Iteration 63, loss = 0.01912358\n",
      "Iteration 64, loss = 0.01875064\n",
      "Iteration 65, loss = 0.01883820\n",
      "Iteration 66, loss = 0.01871330\n",
      "Iteration 67, loss = 0.01892753\n",
      "Iteration 68, loss = 0.01842956\n",
      "Iteration 69, loss = 0.01822494\n",
      "Iteration 70, loss = 0.01829829\n",
      "Iteration 71, loss = 0.01855783\n",
      "Iteration 72, loss = 0.01851313\n",
      "Iteration 73, loss = 0.01823874\n",
      "Iteration 74, loss = 0.01826113\n",
      "Iteration 75, loss = 0.01824032\n",
      "Iteration 76, loss = 0.01832878\n",
      "Iteration 77, loss = 0.01801274\n",
      "Iteration 78, loss = 0.01850285\n",
      "Iteration 79, loss = 0.01789490\n",
      "Iteration 80, loss = 0.01777054\n",
      "Iteration 81, loss = 0.01793429\n",
      "Iteration 82, loss = 0.01815113\n",
      "Iteration 83, loss = 0.01797604\n",
      "Iteration 84, loss = 0.01752599\n",
      "Iteration 85, loss = 0.01821358\n",
      "Iteration 86, loss = 0.01751949\n",
      "Iteration 87, loss = 0.01791723\n",
      "Iteration 88, loss = 0.01819008\n",
      "Iteration 89, loss = 0.01869066\n",
      "Iteration 90, loss = 0.01723616\n",
      "Iteration 91, loss = 0.01704719\n",
      "Iteration 92, loss = 0.01715065\n",
      "Iteration 93, loss = 0.01706886\n",
      "Iteration 94, loss = 0.01709359\n",
      "Iteration 95, loss = 0.01735396\n",
      "Iteration 96, loss = 0.01701186\n",
      "Iteration 97, loss = 0.01693842\n",
      "Iteration 98, loss = 0.01718993\n",
      "Iteration 99, loss = 0.01717406\n",
      "Iteration 100, loss = 0.01679984\n",
      "Iteration 101, loss = 0.01707768\n",
      "Iteration 102, loss = 0.01704761\n",
      "Iteration 103, loss = 0.01704218\n",
      "Iteration 104, loss = 0.01710961\n",
      "Iteration 105, loss = 0.01663909\n",
      "Iteration 106, loss = 0.01678648\n",
      "Iteration 107, loss = 0.01655289\n",
      "Iteration 108, loss = 0.01720889\n",
      "Iteration 109, loss = 0.01698278\n",
      "Iteration 110, loss = 0.01685550\n",
      "Iteration 111, loss = 0.01672385\n",
      "Iteration 112, loss = 0.01670674\n",
      "Iteration 113, loss = 0.01682698\n",
      "Iteration 114, loss = 0.01680881\n",
      "Iteration 115, loss = 0.01675432\n",
      "Iteration 116, loss = 0.01657112\n",
      "Training loss did not improve more than tol=0.000100 for 10 consecutive epochs. Stopping.\n"
     ]
    },
    {
     "data": {
      "text/plain": [
       "Pipeline(steps=[('standardscaler', StandardScaler()),\n",
       "                ('mlpregressor',\n",
       "                 MLPRegressor(alpha=0.0, batch_size=200,\n",
       "                              hidden_layer_sizes=(30, 20), verbose=True))])"
      ]
     },
     "execution_count": 107,
     "metadata": {},
     "output_type": "execute_result"
    }
   ],
   "source": [
    "nn_scaled_model.fit(X, y)"
   ]
  },
  {
   "cell_type": "code",
   "execution_count": 5,
   "id": "4562bc0b",
   "metadata": {},
   "outputs": [
    {
     "name": "stdout",
     "output_type": "stream",
     "text": [
      "This model has 1160 coefficients.\n",
      "There are 21613 observations.\n"
     ]
    }
   ],
   "source": [
    "print(f\"This model has {sum(np.product(np.shape(c)) for c in nn_scaled_model.steps[1][1].coefs_)} coefficients.\")\n",
    "print(f\"There are {len(y)} observations.\")"
   ]
  },
  {
   "cell_type": "code",
   "execution_count": 6,
   "id": "27ccf9ff",
   "metadata": {},
   "outputs": [
    {
     "name": "stdout",
     "output_type": "stream",
     "text": [
      "Scaled mse 0.032467442067512495\n"
     ]
    }
   ],
   "source": [
    "mse_nn_scaled = metrics.mean_squared_error(y, nn_scaled_model.predict(X))\n",
    "\n",
    "print(f\"Scaled mse {mse_nn_scaled}\")"
   ]
  },
  {
   "cell_type": "markdown",
   "id": "0412ecc1",
   "metadata": {},
   "source": [
    "### PyTorch\n",
    "\n",
    "Let's fit a similar model using PyTorch. \n",
    "\n",
    "Compared to scikit-learn, we must specify more details when using PyTorch. That is, PyTorch has a lower level interface. This means we must write more code, but we also have more control over all details.  \n",
    "\n",
    "There are python packages with a higher level interface for PyTorch, such as [fastai](https://docs.fast.ai/) and [skorch](https://skorch.readthedocs.io/en/stable/).\n"
   ]
  },
  {
   "cell_type": "code",
   "execution_count": 29,
   "id": "234f0f5a",
   "metadata": {},
   "outputs": [],
   "source": [
    "import torch\n",
    "\n",
    "# pytorch has some torch.utils.dataloader for batching and shuffling. \n",
    "# These utilities want the data in this sort of class\n",
    "class xyDataSet(torch.utils.data.Dataset):  # inherit from torch.utils.data.Dataset\n",
    "  def __init__(self, x, y, device=\"cpu\"): # constructor\n",
    "    # similar to numpy, pytorch has a special array class for efficient computation, called tensor\n",
    "    self.x = torch.tensor(x).float().to(device)\n",
    "    self.y = torch.tensor(y).float().to(device)\n",
    "  def __getitem__(self, index):\n",
    "    return self.x[index], self.y[index]\n",
    "  def __len__(self):\n",
    "    return len(self.x)\n"
   ]
  },
  {
   "cell_type": "code",
   "execution_count": 12,
   "id": "0ac8ca77",
   "metadata": {},
   "outputs": [],
   "source": [
    "# define the model\n",
    "class MLP(torch.nn.Module): # inherit from torch.nn.Module. This gives us things like .to(device) and .parameters()\n",
    "  def __init__(self, nfeatures, layer_sizes):\n",
    "    super(MLP, self).__init__() # initialize the superclass, this is required\n",
    "    if (len(layer_sizes) != 2):\n",
    "      raise ValueError(\"Assumes 2 layers\")\n",
    "    self.mlp = torch.nn.Sequential( \n",
    "      torch.nn.Linear(nfeatures, layer_sizes[0]), \n",
    "      torch.nn.ReLU(),\n",
    "      torch.nn.Linear(layer_sizes[0], layer_sizes[1]),\n",
    "      torch.nn.ReLU(),\n",
    "      torch.nn.Linear(layer_sizes[1],1)\n",
    "    )\n",
    "    \n",
    "  def forward(self, x): # define the forward pass. this gets called when you call mlp(x)\n",
    "    return self.mlp(x)"
   ]
  },
  {
   "cell_type": "code",
   "execution_count": 122,
   "id": "43bbf298",
   "metadata": {},
   "outputs": [],
   "source": [
    "\n",
    "class MLP_scaled: \n",
    "  # this class is meant to enable usage similar to sklearn's pipeline and other models. \n",
    "  # specifically, it has fit() and predict() methods.\n",
    "  def __init__(self, x, y, layer_sizes=[30,20],device=\"cpu\"):\n",
    "    self.data = xyDataSet(x, y, device=device)\n",
    "    self.mlp = MLP(x.shape[1], layer_sizes).to(device)\n",
    "    self.xmeans = self.data.x.mean(0, keepdim=True)\n",
    "    self.xdevs = self.data.x.std(0, keepdim=True)\n",
    "\n",
    "  def fit(self, batch_size=200, shuffle=True, epochs=200, tol=1e-4, verbose=True):\n",
    "    self.xmeans = self.data.x.mean(0, keepdim=True)\n",
    "    self.xdevs = self.data.x.std(0, keepdim=True)\n",
    "    dataloader = torch.utils.data.DataLoader(self.data, batch_size=batch_size, shuffle=True)\n",
    "    self.mlp.train() # set the model to training mode    \n",
    "    optimizer = torch.optim.Adam(self.mlp.parameters(), lr=0.001, betas=(0.9,0.999), eps=1e-8)\n",
    "    max_stuck = 10\n",
    "    lossfn = torch.nn.MSELoss(reduction='mean')\n",
    "    bestloss = 1e10\n",
    "    nstuck = 0\n",
    "    # the main training loop. this is meant to be mimic sklearn's fit(). \n",
    "    # the use of batching and the optimizer is the same, but the convergence criterion might be slightly different.\n",
    "    for epoch in range(epochs):\n",
    "      for i, (x, y) in enumerate(dataloader):  # loop over batches\n",
    "        # compute the loss function\n",
    "        x = self.standardize(x)\n",
    "        yhat = self.mlp(x).flatten()\n",
    "        loss = lossfn(yhat, y)\n",
    "\n",
    "        optimizer.zero_grad()\n",
    "        # compute the gradients\n",
    "        loss.backward()\n",
    "        # update the parameters \n",
    "        optimizer.step()                \n",
    "      if (verbose):\n",
    "        print(f\"Epoch {epoch} loss {loss}\")\n",
    "\n",
    "      with torch.no_grad():\n",
    "        yhat = self.mlp(self.standardize(self.data.x)).flatten()\n",
    "        aloss = lossfn(yhat, self.data.y)\n",
    "      if (aloss < bestloss - tol):\n",
    "        bestloss = aloss\n",
    "        nstuck = 0\n",
    "      else:\n",
    "        nstuck = nstuck + 1      \n",
    "      if (nstuck > max_stuck):\n",
    "        break\n",
    "    return(aloss)\n",
    "\n",
    "  def standardize(self, x):\n",
    "    return (x - self.xmeans) / self.xdevs\n",
    "\n",
    " \n",
    "  def predict(self, X):\n",
    "    return(self.mlp(self.standardize(X)))\n",
    "\n",
    "\n",
    "tmlp = MLP_scaled(X.to_numpy(), y.to_numpy(), [30, 20])"
   ]
  },
  {
   "cell_type": "markdown",
   "id": "b2703c35",
   "metadata": {},
   "source": [
    "Now, we can fit this model."
   ]
  },
  {
   "cell_type": "code",
   "execution_count": 123,
   "id": "5c508c2f",
   "metadata": {},
   "outputs": [
    {
     "name": "stdout",
     "output_type": "stream",
     "text": [
      "Epoch 0 loss 40.491573333740234\n",
      "Epoch 1 loss 7.941810131072998\n",
      "Epoch 2 loss 4.720028400421143\n",
      "Epoch 3 loss 2.479236364364624\n",
      "Epoch 4 loss 1.9418965578079224\n",
      "Epoch 5 loss 3.6526339054107666\n",
      "Epoch 6 loss 1.449804425239563\n",
      "Epoch 7 loss 1.0574568510055542\n",
      "Epoch 8 loss 0.5299814343452454\n",
      "Epoch 9 loss 0.4952147901058197\n",
      "Epoch 10 loss 0.6240981221199036\n",
      "Epoch 11 loss 0.16195601224899292\n",
      "Epoch 12 loss 0.24512670934200287\n",
      "Epoch 13 loss 0.6002450585365295\n",
      "Epoch 14 loss 0.38630178570747375\n",
      "Epoch 15 loss 0.10161130130290985\n",
      "Epoch 16 loss 0.2708132565021515\n",
      "Epoch 17 loss 0.043772902339696884\n",
      "Epoch 18 loss 0.0987187922000885\n",
      "Epoch 19 loss 0.12769366800785065\n",
      "Epoch 20 loss 0.08313051611185074\n",
      "Epoch 21 loss 0.19967402517795563\n",
      "Epoch 22 loss 0.08035913109779358\n",
      "Epoch 23 loss 0.09878825396299362\n",
      "Epoch 24 loss 0.04391440376639366\n",
      "Epoch 25 loss 0.09564924240112305\n",
      "Epoch 26 loss 0.047616686671972275\n",
      "Epoch 27 loss 0.09026544541120529\n",
      "Epoch 28 loss 0.09229080379009247\n",
      "Epoch 29 loss 0.06822967529296875\n",
      "Epoch 30 loss 0.054581418633461\n",
      "Epoch 31 loss 0.04655273258686066\n",
      "Epoch 32 loss 0.0681881234049797\n",
      "Epoch 33 loss 0.016890358179807663\n",
      "Epoch 34 loss 0.0688553899526596\n",
      "Epoch 35 loss 0.06540475785732269\n",
      "Epoch 36 loss 0.09443104267120361\n",
      "Epoch 37 loss 0.06957413256168365\n",
      "Epoch 38 loss 0.0426192469894886\n",
      "Epoch 39 loss 0.05175117030739784\n",
      "Epoch 40 loss 0.03877812996506691\n",
      "Epoch 41 loss 0.0223271232098341\n",
      "Epoch 42 loss 0.1664498746395111\n",
      "Epoch 43 loss 0.04962534084916115\n",
      "Epoch 44 loss 0.03618938475847244\n",
      "Epoch 45 loss 0.11459735780954361\n",
      "Epoch 46 loss 0.03105512075126171\n",
      "Epoch 47 loss 0.03254111856222153\n",
      "Epoch 48 loss 0.08057809621095657\n",
      "Epoch 49 loss 0.0882495790719986\n",
      "Epoch 50 loss 0.05394616350531578\n",
      "Epoch 51 loss 0.04179220646619797\n",
      "Epoch 52 loss 0.027621282264590263\n",
      "Epoch 53 loss 0.05978652089834213\n",
      "Epoch 54 loss 0.03422071784734726\n",
      "Epoch 55 loss 0.05052654445171356\n",
      "Epoch 56 loss 0.06124771013855934\n",
      "Epoch 57 loss 0.011743872426450253\n",
      "Epoch 58 loss 0.028542153537273407\n",
      "Epoch 59 loss 0.0280461385846138\n",
      "Epoch 60 loss 0.03286519646644592\n",
      "Epoch 61 loss 0.04634479805827141\n",
      "Epoch 62 loss 0.03067239373922348\n",
      "Epoch 63 loss 0.019063930958509445\n",
      "Epoch 64 loss 0.07883326709270477\n",
      "Epoch 65 loss 0.04855716601014137\n",
      "Epoch 66 loss 0.05281873047351837\n",
      "Epoch 67 loss 0.033510249108076096\n",
      "Epoch 68 loss 0.0233580581843853\n",
      "Epoch 69 loss 0.07407702505588531\n",
      "Epoch 70 loss 0.046751849353313446\n",
      "Epoch 71 loss 0.058400556445121765\n",
      "Epoch 72 loss 0.024514390155673027\n",
      "Epoch 73 loss 0.06579255312681198\n",
      "Epoch 74 loss 0.04498681053519249\n",
      "Epoch 75 loss 0.03497688099741936\n",
      "Epoch 76 loss 0.03354924917221069\n",
      "Epoch 77 loss 0.03017425909638405\n",
      "Epoch 78 loss 0.049610015004873276\n",
      "Epoch 79 loss 0.05412125214934349\n",
      "Epoch 80 loss 0.032305195927619934\n",
      "Epoch 81 loss 0.06013496592640877\n",
      "Epoch 82 loss 0.029978279024362564\n",
      "Epoch 83 loss 0.025079144164919853\n",
      "Epoch 84 loss 0.02851530909538269\n",
      "Epoch 85 loss 0.08268585801124573\n",
      "Epoch 86 loss 0.04649994894862175\n",
      "Epoch 87 loss 0.04372619092464447\n",
      "Epoch 88 loss 0.02100704051554203\n",
      "Epoch 89 loss 0.035255007445812225\n",
      "Epoch 90 loss 0.021138854324817657\n",
      "Epoch 91 loss 0.06818659603595734\n",
      "Epoch 92 loss 0.01723887398838997\n",
      "Epoch 93 loss 0.02145499363541603\n",
      "Epoch 94 loss 0.023476067930459976\n",
      "Epoch 95 loss 0.01633271761238575\n",
      "Epoch 96 loss 0.02121673710644245\n",
      "Epoch 97 loss 0.024204693734645844\n",
      "Epoch 98 loss 0.022864503785967827\n",
      "Epoch 99 loss 0.05015423521399498\n",
      "Epoch 100 loss 0.038219012320041656\n",
      "Epoch 101 loss 0.028082089498639107\n",
      "Epoch 102 loss 0.01592593640089035\n",
      "Epoch 103 loss 0.03569703921675682\n",
      "Epoch 104 loss 0.0298441331833601\n",
      "Epoch 105 loss 0.038991525769233704\n"
     ]
    },
    {
     "data": {
      "text/plain": [
       "tensor(0.0420)"
      ]
     },
     "execution_count": 123,
     "metadata": {},
     "output_type": "execute_result"
    }
   ],
   "source": [
    "tmlp.fit(epochs=200, batch_size=200)"
   ]
  },
  {
   "cell_type": "markdown",
   "id": "338348f8",
   "metadata": {},
   "source": [
    "The performance should be similar to the sklearn model above. In fact, you might find the run time is a bit longer. "
   ]
  },
  {
   "cell_type": "markdown",
   "id": "ad3d75c4",
   "metadata": {},
   "source": [
    "### GPU\n",
    "\n",
    "To see the benefits of pytorch, we need to execute code on the GPU. PyTorch makes it very easy to move execution onto GPUs."
   ]
  },
  {
   "cell_type": "code",
   "execution_count": 117,
   "id": "9f33cd4c",
   "metadata": {},
   "outputs": [
    {
     "name": "stdout",
     "output_type": "stream",
     "text": [
      "Using cuda device\n"
     ]
    }
   ],
   "source": [
    "device = 'cuda' if torch.cuda.is_available() else 'cpu'\n",
    "print('Using {} device'.format(device))"
   ]
  },
  {
   "cell_type": "code",
   "execution_count": 112,
   "id": "b91a2922",
   "metadata": {},
   "outputs": [],
   "source": [
    "tmlp_gpu = MLP_scaled(X.to_numpy(), y.to_numpy(), [30, 20], device=device)  # create a model on the GPU"
   ]
  },
  {
   "cell_type": "code",
   "execution_count": 116,
   "id": "29d65ae9",
   "metadata": {},
   "outputs": [
    {
     "name": "stdout",
     "output_type": "stream",
     "text": [
      "Epoch 0 loss 0.8189539909362793\n",
      "Epoch 1 loss 0.17582881450653076\n",
      "Epoch 2 loss 0.06308358162641525\n",
      "Epoch 3 loss 0.05912668630480766\n",
      "Epoch 4 loss 0.06194499507546425\n",
      "Epoch 5 loss 0.047881800681352615\n",
      "Epoch 6 loss 0.058075275272130966\n",
      "Epoch 7 loss 0.0553312748670578\n",
      "Epoch 8 loss 0.05017908662557602\n",
      "Epoch 9 loss 0.04725100100040436\n",
      "Epoch 10 loss 0.038942426443099976\n",
      "Epoch 11 loss 0.045667603611946106\n",
      "Epoch 12 loss 0.04397163540124893\n",
      "Epoch 13 loss 0.043166570365428925\n",
      "Epoch 14 loss 0.047655366361141205\n",
      "Epoch 15 loss 0.043249912559986115\n",
      "Epoch 16 loss 0.03927473723888397\n",
      "Epoch 17 loss 0.04984626546502113\n",
      "Epoch 18 loss 0.03686951845884323\n",
      "Epoch 19 loss 0.039066482335329056\n"
     ]
    },
    {
     "data": {
      "text/plain": [
       "tensor(0.0385, device='cuda:0')"
      ]
     },
     "execution_count": 116,
     "metadata": {},
     "output_type": "execute_result"
    }
   ],
   "source": [
    "tmlp_gpu.fit(epochs=200, batch_size=200)"
   ]
  },
  {
   "cell_type": "markdown",
   "id": "b7589d05",
   "metadata": {},
   "source": [
    "That's not any faster. What's the problem?\n",
    "\n",
    "This model is too small to see benefits from using a GPU. The GPU is great at computing predictions and gradients of large neural networks. The GPU doesn't make many of the other steps of fitting faster (checking convergence, iterating through the loop, etc.) Let's try some larger networks."
   ]
  },
  {
   "cell_type": "code",
   "execution_count": 130,
   "id": "e030d6a0",
   "metadata": {},
   "outputs": [
    {
     "name": "stderr",
     "output_type": "stream",
     "text": [
      "/usr/lib/python3.9/site-packages/sklearn/neural_network/_multilayer_perceptron.py:692: ConvergenceWarning: Stochastic Optimizer: Maximum iterations (10) reached and the optimization hasn't converged yet.\n",
      "  warnings.warn(\n",
      "/usr/lib/python3.9/site-packages/sklearn/neural_network/_multilayer_perceptron.py:692: ConvergenceWarning: Stochastic Optimizer: Maximum iterations (10) reached and the optimization hasn't converged yet.\n",
      "  warnings.warn(\n",
      "/usr/lib/python3.9/site-packages/sklearn/neural_network/_multilayer_perceptron.py:692: ConvergenceWarning: Stochastic Optimizer: Maximum iterations (10) reached and the optimization hasn't converged yet.\n",
      "  warnings.warn(\n",
      "/usr/lib/python3.9/site-packages/sklearn/neural_network/_multilayer_perceptron.py:692: ConvergenceWarning: Stochastic Optimizer: Maximum iterations (10) reached and the optimization hasn't converged yet.\n",
      "  warnings.warn(\n",
      "/usr/lib/python3.9/site-packages/sklearn/neural_network/_multilayer_perceptron.py:692: ConvergenceWarning: Stochastic Optimizer: Maximum iterations (10) reached and the optimization hasn't converged yet.\n",
      "  warnings.warn(\n"
     ]
    }
   ],
   "source": [
    "import time\n",
    "layers = np.array([30, 20])\n",
    "epochs = 10\n",
    "S = 5\n",
    "times = np.zeros((S, 4))\n",
    "def count_parameters(model):\n",
    "    return sum(p.numel() for p in model.parameters() if p.requires_grad)\n",
    "\n",
    "for s in range(S):\n",
    "  layer_sizes = layers * 2**s\n",
    "  skmlp = pipeline.make_pipeline(\n",
    "    preprocessing.StandardScaler(),  \n",
    "    neural_network.MLPRegressor((layer_sizes[0], layer_sizes[1]), \n",
    "                                activation='relu', \n",
    "                                solver='adam', alpha=0.0,\n",
    "                                batch_size=200, verbose=False, max_iter=epochs) \n",
    "  ) \n",
    "  start = time.time()\n",
    "  skmlp.fit(X, y)\n",
    "  times[s, 0] = time.time() - start\n",
    "\n",
    "  tmlp = MLP_scaled(X.to_numpy(), y.to_numpy(), layer_sizes, device='cpu')\n",
    "  start = time.time()\n",
    "  tmlp.fit(epochs=epochs, verbose=False)\n",
    "  times[s, 1] = time.time() - start\n",
    "\n",
    "  tmlp_gpu = MLP_scaled(X.to_numpy(), y.to_numpy(), layer_sizes, device='cuda')\n",
    "  start = time.time()\n",
    "  tmlp_gpu.fit(epochs=epochs, verbose=False)\n",
    "  times[s, 2] = time.time() - start\n",
    "\n",
    "  times[s,3] = count_parameters(tmlp.mlp)"
   ]
  },
  {
   "cell_type": "code",
   "execution_count": 131,
   "id": "38d94fd0",
   "metadata": {},
   "outputs": [
    {
     "data": {
      "text/plain": [
       "<matplotlib.legend.Legend at 0x7f6cb3ce1520>"
      ]
     },
     "execution_count": 131,
     "metadata": {},
     "output_type": "execute_result"
    },
    {
     "data": {
      "image/png": "[encoded data removed]",
      "text/plain": [
       "<Figure size 576x432 with 1 Axes>"
      ]
     },
     "metadata": {
      "needs_background": "light"
     },
     "output_type": "display_data"
    }
   ],
   "source": [
    "fig, ax = plt.subplots(figsize=(8, 6))\n",
    "ax.plot(times[:,3], times[:,0], label='sklearn')\n",
    "ax.plot(times[:,3], times[:,1], label='pytorch cpu')\n",
    "ax.plot(times[:,3], times[:,2], label='pytorch gpu')\n",
    "ax.set_xlabel('Number of parameters')\n",
    "ax.set_ylabel('Training time (s) for 10 epochs')\n",
    "ax.legend()\n"
   ]
  },
  {
   "cell_type": "markdown",
   "id": "6d0205af",
   "metadata": {},
   "source": [
    "For more examples and tutorials, see [the PyTorch documentation](https://pytorch.org/tutorials/index.html)."
   ]
  }
 ],
 "metadata": {
  "date": 1627429656.4709477,
  "filename": "regression.md",
  "interpreter": {
   "hash": "6fbdd1b0f6f7bf806920944b07d1c036c1041c574036a58ea98fdf4e23aebe6e"
  },
  "kernelspec": {
   "display_name": "Python 3.9.6 64-bit ('lecture-datascience': conda)",
   "name": "python3"
  },
  "language_info": {
   "codemirror_mode": {
    "name": "ipython",
    "version": 3
   },
   "file_extension": ".py",
   "mimetype": "text/x-python",
   "name": "python",
   "nbconvert_exporter": "python",
   "pygments_lexer": "ipython3",
   "version": "3.9.7"
  },
  "title": "Regression"
 },
 "nbformat": 4,
 "nbformat_minor": 5
}
